{
 "cells": [
  {
   "cell_type": "markdown",
   "id": "89b127ca",
   "metadata": {},
   "source": [
    "# Installation and setup"
   ]
  },
  {
   "cell_type": "markdown",
   "id": "dbfb3aac",
   "metadata": {},
   "source": [
    "In this pre-tutorial we'll check if Julia is correctly installed in VSCode and we'll install BattMo and configure your setup so that you'll have everything you need for going through the set of tutorials expecially setup for this workshop."
   ]
  },
  {
   "cell_type": "markdown",
   "id": "e7b51ddb",
   "metadata": {},
   "source": [
    "### Check Julia installation"
   ]
  },
  {
   "cell_type": "markdown",
   "id": "0c6bf3de",
   "metadata": {},
   "source": [
    "On the top right corner, click on \"Select Kernel\" and select the newest Julia executable. Check if it works by running the following code."
   ]
  },
  {
   "cell_type": "code",
   "execution_count": 1,
   "id": "99a27d8a",
   "metadata": {},
   "outputs": [
    {
     "data": {
      "text/plain": [
       "4"
      ]
     },
     "execution_count": 1,
     "metadata": {},
     "output_type": "execute_result"
    }
   ],
   "source": [
    "2 + 2"
   ]
  },
  {
   "cell_type": "markdown",
   "id": "1af2a2b0",
   "metadata": {},
   "source": [
    "### Setup Julia environment"
   ]
  },
  {
   "cell_type": "markdown",
   "id": "5100f8c6",
   "metadata": {},
   "source": [
    "Setup an environment for this BattMo workshop tutorials in Julia by running the following code. The environment will be setup within the folder that you stored this notebook in."
   ]
  },
  {
   "cell_type": "code",
   "execution_count": 2,
   "id": "876aa065",
   "metadata": {},
   "outputs": [
    {
     "name": "stderr",
     "output_type": "stream",
     "text": [
      "\u001b[32m\u001b[1m  Activating\u001b[22m\u001b[39m new project at `~/repositories/BattMo.jl/examples/workshop`\n",
      "\u001b[32m\u001b[1m  No Changes\u001b[22m\u001b[39m to `~/repositories/BattMo.jl/examples/workshop/Project.toml`\n",
      "\u001b[32m\u001b[1m  No Changes\u001b[22m\u001b[39m to `~/repositories/BattMo.jl/examples/workshop/Manifest.toml`\n"
     ]
    }
   ],
   "source": [
    "import Pkg\n",
    "Pkg.activate(\".\") # Activates a new environment in the current folder\n",
    "Pkg.instantiate()  # Installs the packages listed in Project.toml if any"
   ]
  },
  {
   "cell_type": "markdown",
   "id": "dcc950d4",
   "metadata": {},
   "source": [
    "The environment dependecies are managed by a Project.toml and Manifest.toml file that are automatically created and updated when adding packages or when altering your environment. The Project.toml represents a list of all the packages in the environment (similar to requirement.txt file in with pip in Python). The Manifest file stores more detailed information, like the secondary dependencies (the packages that the environment packages depend on)."
   ]
  },
  {
   "cell_type": "markdown",
   "id": "d1a8f774",
   "metadata": {},
   "source": [
    "### Install BattMo and other"
   ]
  },
  {
   "cell_type": "markdown",
   "id": "13236e1a",
   "metadata": {},
   "source": [
    "Let's install BattMo and some other packages that we need in our environment."
   ]
  },
  {
   "cell_type": "code",
   "execution_count": 5,
   "id": "f3e48984",
   "metadata": {},
   "outputs": [
    {
     "name": "stderr",
     "output_type": "stream",
     "text": [
      "\u001b[32m\u001b[1m    Updating\u001b[22m\u001b[39m git-repo `https://github.com/BattMoTeam/BattMo.jl.git`\n",
      "\u001b[32m\u001b[1m   Resolving\u001b[22m\u001b[39m package versions...\n",
      "\u001b[32m\u001b[1m  No Changes\u001b[22m\u001b[39m to `~/repositories/BattMo.jl/examples/workshop/Project.toml`\n",
      "\u001b[32m\u001b[1m  No Changes\u001b[22m\u001b[39m to `~/repositories/BattMo.jl/examples/workshop/Manifest.toml`\n",
      "\u001b[32m\u001b[1m   Resolving\u001b[22m\u001b[39m package versions...\n",
      "\u001b[32m\u001b[1m  No Changes\u001b[22m\u001b[39m to `~/repositories/BattMo.jl/examples/workshop/Project.toml`\n",
      "\u001b[32m\u001b[1m  No Changes\u001b[22m\u001b[39m to `~/repositories/BattMo.jl/examples/workshop/Manifest.toml`\n"
     ]
    }
   ],
   "source": [
    "Pkg.add(Pkg.PackageSpec(name=\"BattMo\", rev=\"main\"))\n",
    "Pkg.add(\"GLMakie\") # For data visualization and plotting\n",
    "Pkg.precompile()"
   ]
  },
  {
   "cell_type": "markdown",
   "id": "d06a3fc3",
   "metadata": {},
   "source": [
    "Now you can see that the packages has been added to you Project and Manifest files."
   ]
  },
  {
   "cell_type": "markdown",
   "id": "5c4e25a1",
   "metadata": {},
   "source": [
    "### Getting started"
   ]
  },
  {
   "cell_type": "markdown",
   "id": "b19a9eed",
   "metadata": {},
   "source": [
    "Setup a folder containing the default parameter sets BattMo has available."
   ]
  },
  {
   "cell_type": "code",
   "execution_count": 6,
   "id": "f29b0f16",
   "metadata": {},
   "outputs": [
    {
     "name": "stdout",
     "output_type": "stream",
     "text": [
      "🛠 JSON files successfully written! Path:\n",
      "\t./default_sets\n"
     ]
    },
    {
     "data": {
      "text/plain": [
       "\"./default_sets\""
      ]
     },
     "execution_count": 6,
     "metadata": {},
     "output_type": "execute_result"
    }
   ],
   "source": [
    "using BattMo: generate_default_parameter_files\n",
    "\n",
    "path = \".\"\n",
    "folder_name = \"default_sets\"\n",
    "generate_default_parameter_files(path, folder_name; force = true)"
   ]
  },
  {
   "cell_type": "markdown",
   "id": "61456996",
   "metadata": {},
   "source": [
    "Now you have copied a set of default input files to you working folder. You will get an idea of what the different input files descripe and how to use them in the following tutorials."
   ]
  }
 ],
 "metadata": {
  "kernelspec": {
   "display_name": "Julia 1.11.3",
   "language": "julia",
   "name": "julia-1.11"
  },
  "language_info": {
   "file_extension": ".jl",
   "mimetype": "application/julia",
   "name": "julia",
   "version": "1.11.3"
  }
 },
 "nbformat": 4,
 "nbformat_minor": 5
}
