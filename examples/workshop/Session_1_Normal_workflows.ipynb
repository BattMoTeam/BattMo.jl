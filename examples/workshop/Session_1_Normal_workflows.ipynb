{
 "cells": [
  {
   "cell_type": "markdown",
   "id": "6d981bdd",
   "metadata": {},
   "source": [
    "# Session 1: Normal Workflows"
   ]
  },
  {
   "cell_type": "markdown",
   "id": "4bfadbd7",
   "metadata": {},
   "source": [
    "Let's activate our previously created environment and import BattMo into the kernel."
   ]
  },
  {
   "cell_type": "code",
   "execution_count": 1,
   "id": "1dc76392",
   "metadata": {},
   "outputs": [
    {
     "name": "stderr",
     "output_type": "stream",
     "text": [
      "\u001b[32m\u001b[1m  Activating\u001b[22m\u001b[39m project at `~/repositories/BattMo.jl/examples/workshop`\n"
     ]
    }
   ],
   "source": [
    "import Pkg\n",
    "Pkg.activate(\".\") # Activates the environment in the current folder\n",
    "\n",
    "using BattMo"
   ]
  },
  {
   "cell_type": "markdown",
   "id": "038e3ce8",
   "metadata": {},
   "source": [
    "BattMo has some built-in tools that are very convenient when setting up the input parameters for a simulation. To quickly inspect which default parameter sets are included with BattMo and what each contains, you can use the following function to print some information."
   ]
  },
  {
   "cell_type": "code",
   "execution_count": 4,
   "id": "dd685568",
   "metadata": {},
   "outputs": [
    {
     "name": "stdout",
     "output_type": "stream",
     "text": [
      "\n",
      "================================================================================\n",
      "📁  cell_parameters\n",
      "================================================================================\n",
      "Parameter Set       Source    Description\n",
      "--------------------------------------------------------------------------------\n",
      "3D_demo_example     -         Parameter set to test P4D simulations. Obtained from the Julia repository but with unknwon source.\n",
      "Chen2020            \u001b]8;;https://doi.org/10.1149/1945-7111/ab9050\u0007visit\u001b]8;;\u0007     Parameter set of a cylindrical 21700 commercial cell (LGM50), for an electrochemical pseudo-two-dimensional (P2D) model.\n",
      "Chen2020_calibrated \u001b]8;;https://doi.org/10.1149/1945-7111/ab9050\u0007visit\u001b]8;;\u0007     Parameter set of a cylindrical 21700 commercial cell (LGM50), for an electrochemical pseudo-two-dimensional (P2D) model, after calibration.\n",
      "SEI_example         -         Parameter set to test SEI simulations. Obtained from the Julia repository but with unknown source.\n",
      "Xu2015              \u001b]8;;https://doi.org/10.1016/j.energy.2014.11.073\u0007visit\u001b]8;;\u0007     Parameter set of a commercial Type LP2770120 prismatic LiFePO4/graphite cell, for an electrochemical pseudo-two-dimensional (P2D) model.\n",
      "tabular_data_example-         Parameter set to test SEI simulations. Obtained from the Julia repository but with unknown source.\n",
      "\n",
      "\n",
      "================================================================================\n",
      "📁  cycling_protocols\n",
      "================================================================================\n",
      "Parameter Set       Source    Description\n",
      "--------------------------------------------------------------------------------\n",
      "CCCV                -         -\n",
      "CCCharge            -         -\n",
      "CCCycling           -         -\n",
      "CCDischarge         -         -\n",
      "user_defined_current_function-         -\n",
      "\n",
      "\n",
      "================================================================================\n",
      "📁  model_settings\n",
      "================================================================================\n",
      "Parameter Set       Source    Description\n",
      "--------------------------------------------------------------------------------\n",
      "P2D                 -         -\n",
      "P4D_pouch           -         -\n",
      "\n",
      "\n",
      "================================================================================\n",
      "📁  simulation_settings\n",
      "================================================================================\n",
      "Parameter Set       Source    Description\n",
      "--------------------------------------------------------------------------------\n",
      "P2D                 -         -\n",
      "P4D_pouch           -         -\n",
      "\n"
     ]
    }
   ],
   "source": [
    "print_default_parameter_sets_info()"
   ]
  },
  {
   "cell_type": "markdown",
   "id": "990f0933",
   "metadata": {},
   "source": [
    "When we're unsure about the type or meaning of a parameter, we can print information on invidual parameters as well. For some parameters, that require more explanation, a link to the documentation is provided."
   ]
  },
  {
   "cell_type": "code",
   "execution_count": 3,
   "id": "8e224a07",
   "metadata": {},
   "outputs": [
    {
     "name": "stdout",
     "output_type": "stream",
     "text": [
      "================================================================================\n",
      "ℹ️  Parameter Information\n",
      "================================================================================\n",
      "Parameter                     type                                    unit\n",
      "--------------------------------------------------------------------------------\n",
      "OpenCircuitPotential          String, Dict{String, Vector}, Real      V\n",
      "\n"
     ]
    }
   ],
   "source": [
    "parameter_name = \"OpenCircuitPotential\"\n",
    "\n",
    "print_parameter_info(parameter_name)"
   ]
  }
 ],
 "metadata": {
  "kernelspec": {
   "display_name": "Julia 1.11.3",
   "language": "julia",
   "name": "julia-1.11"
  },
  "language_info": {
   "file_extension": ".jl",
   "mimetype": "application/julia",
   "name": "julia",
   "version": "1.11.3"
  }
 },
 "nbformat": 4,
 "nbformat_minor": 5
}
