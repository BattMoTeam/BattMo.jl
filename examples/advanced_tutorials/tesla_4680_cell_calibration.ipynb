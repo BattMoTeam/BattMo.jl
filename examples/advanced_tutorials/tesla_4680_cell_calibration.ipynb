{
 "cells": [
  {
   "cell_type": "markdown",
   "id": "483cd0ec",
   "metadata": {},
   "source": [
    "# Tesla 4680 model calibration"
   ]
  },
  {
   "cell_type": "markdown",
   "id": "9ae36fab",
   "metadata": {},
   "source": [
    "#### Activate environment"
   ]
  },
  {
   "cell_type": "code",
   "execution_count": 14,
   "id": "5d37a1e7",
   "metadata": {},
   "outputs": [
    {
     "name": "stderr",
     "output_type": "stream",
     "text": [
      "\u001b[32m\u001b[1m  Activating\u001b[22m\u001b[39m project at `~/repositories/battmo_env`\n"
     ]
    }
   ],
   "source": [
    "using Pkg\n",
    "Pkg.activate(\"../../../battmo_env\")\n"
   ]
  },
  {
   "cell_type": "markdown",
   "id": "4e4e2223",
   "metadata": {},
   "source": [
    "#### Import packages"
   ]
  },
  {
   "cell_type": "code",
   "execution_count": 15,
   "id": "f3bfe769",
   "metadata": {},
   "outputs": [],
   "source": [
    "using BattMo, GLMakie, CSV, DataFrames, Jutul, Statistics"
   ]
  },
  {
   "cell_type": "markdown",
   "id": "5bd9dca7",
   "metadata": {},
   "source": [
    "### Create cell parameter set"
   ]
  },
  {
   "cell_type": "code",
   "execution_count": 22,
   "id": "d4a620a4",
   "metadata": {},
   "outputs": [
    {
     "name": "stdout",
     "output_type": "stream",
     "text": [
      "\n",
      "PARAMETER OVERVIEW\n",
      "================================================================================================================================================================\n",
      "Parameter                                                                                 Unit                Type                Value                         \n",
      "----------------------------------------------------------------------------------------------------------------------------------------------------------------\n",
      "[ \"ButlerVolmer\" ]                                                                        N/A                 String              Standard                      \n",
      "[ \"CurrentCollectors\" ]                                                                   N/A                 String              Standard                      \n",
      "[ \"ModelFramework\" ]                                                                      N/A                 String              P4D Cylindrical               \n",
      "[ \"PotentialFlowDiscretization\" ]                                                         N/A                 String              GeneralAD                     \n",
      "[ \"RampUp\" ]                                                                              N/A                 String              Sinusoidal                    \n",
      "[ \"TransportInSolid\" ]                                                                    N/A                 String              FullDiffusion                 \n",
      "================================================================================================================================================================\n",
      "Total parameters: 6\n"
     ]
    }
   ],
   "source": [
    "model_settings = load_model_settings(;from_default_set = \"p4d_cylindrical\")\n",
    "print_info(model_settings)"
   ]
  },
  {
   "cell_type": "code",
   "execution_count": 24,
   "id": "edca4093",
   "metadata": {},
   "outputs": [
    {
     "name": "stdout",
     "output_type": "stream",
     "text": [
      "✔️ Validation of ModelSettings passed: No issues found.\n",
      "──────────────────────────────────────────────────\n",
      "\n",
      "PARAMETER OVERVIEW\n",
      "================================================================================================================================================================\n",
      "Parameter                                                                                 Unit                Type                Value                         \n",
      "----------------------------------------------------------------------------------------------------------------------------------------------------------------\n",
      "[ \"Cell\" ][ \"InnerRadius\" ]                                                               m                   Float64             0.0                           \n",
      "[ \"Cell\" ][ \"OuterRadius\" ]                                                               m                   Float64             0.0                           \n",
      "[ \"Electrolyte\" ][ \"ChargeNumber\" ]                                                       1                   Float64             0.0                           \n",
      "[ \"Electrolyte\" ][ \"Concentration\" ]                                                      mol·m⁻³             Float64             0.0                           \n",
      "[ \"Electrolyte\" ][ \"Density\" ]                                                            kg·m⁻³              Float64             0.0                           \n",
      "[ \"Electrolyte\" ][ \"DiffusionCoefficient\" ]                                               m²·s⁻¹              Float64             0.0                           \n",
      "[ \"Electrolyte\" ][ \"IonicConductivity\" ]                                                  S·m⁻¹               Float64             0.0                           \n",
      "[ \"Electrolyte\" ][ \"TransferenceNumber\" ]                                                 1                   Float64             0.0                           \n",
      "[ \"NegativeElectrode\" ][ \"ActiveMaterial\" ][ \"ChargeTransferCoefficient\" ]                -                   Float64             0.0                           \n",
      "[ \"NegativeElectrode\" ][ \"ActiveMaterial\" ][ \"Density\" ]                                  kg·m⁻³              Float64             0.0                           \n",
      "[ \"NegativeElectrode\" ][ \"ActiveMaterial\" ][ \"DiffusionCoefficient\" ]                     m²·s⁻¹              Float64             0.0                           \n",
      "[ \"NegativeElectrode\" ][ \"ActiveMaterial\" ][ \"ElectronicConductivity\" ]                   S·m⁻¹               Float64             0.0                           \n",
      "[ \"NegativeElectrode\" ][ \"ActiveMaterial\" ][ \"MassFraction\" ]                             1                   Float64             0.0                           \n",
      "[ \"NegativeElectrode\" ][ \"ActiveMaterial\" ][ \"MaximumConcentration\" ]                     mol·m⁻³             Float64             0.0                           \n",
      "[ \"NegativeElectrode\" ][ \"ActiveMaterial\" ][ \"NumberOfElectronsTransfered\" ]              1                   Float64             0.0                           \n",
      "[ \"NegativeElectrode\" ][ \"ActiveMaterial\" ][ \"OpenCircuitPotential\" ]                     V                   Float64             0.0                           \n",
      "[ \"NegativeElectrode\" ][ \"ActiveMaterial\" ][ \"ParticleRadius\" ]                           m                   Float64             0.0                           \n",
      "[ \"NegativeElectrode\" ][ \"ActiveMaterial\" ][ \"ReactionRateConstant\" ]                     mol·m⁻²·s⁻¹         Float64             0.0                           \n",
      "[ \"NegativeElectrode\" ][ \"ActiveMaterial\" ][ \"StoichiometricCoefficientAtSOC0\" ]          1                   Float64             0.0                           \n",
      "[ \"NegativeElectrode\" ][ \"ActiveMaterial\" ][ \"StoichiometricCoefficientAtSOC100\" ]        1                   Float64             0.0                           \n",
      "[ \"NegativeElectrode\" ][ \"ActiveMaterial\" ][ \"VolumetricSurfaceArea\" ]                    m²m⁻³               Float64             0.0                           \n",
      "[ \"NegativeElectrode\" ][ \"Binder\" ][ \"Density\" ]                                          kg·m⁻³              Float64             0.0                           \n",
      "[ \"NegativeElectrode\" ][ \"Binder\" ][ \"ElectronicConductivity\" ]                           S·m⁻¹               Float64             0.0                           \n",
      "[ \"NegativeElectrode\" ][ \"Binder\" ][ \"MassFraction\" ]                                     1                   Float64             0.0                           \n",
      "[ \"NegativeElectrode\" ][ \"Coating\" ][ \"BruggemanCoefficient\" ]                            1                   Float64             0.0                           \n",
      "[ \"NegativeElectrode\" ][ \"Coating\" ][ \"EffectiveDensity\" ]                                kg·m⁻³              Float64             0.0                           \n",
      "[ \"NegativeElectrode\" ][ \"Coating\" ][ \"Thickness\" ]                                       m                   Float64             0.0                           \n",
      "[ \"NegativeElectrode\" ][ \"ConductiveAdditive\" ][ \"Density\" ]                              kg·m⁻³              Float64             0.0                           \n",
      "[ \"NegativeElectrode\" ][ \"ConductiveAdditive\" ][ \"ElectronicConductivity\" ]               S·m⁻¹               Float64             0.0                           \n",
      "[ \"NegativeElectrode\" ][ \"ConductiveAdditive\" ][ \"MassFraction\" ]                         1                   Float64             0.0                           \n",
      "[ \"NegativeElectrode\" ][ \"CurrentCollector\" ][ \"Density\" ]                                kg·m⁻³              Float64             0.0                           \n",
      "[ \"NegativeElectrode\" ][ \"CurrentCollector\" ][ \"ElectronicConductivity\" ]                 S·m⁻¹               Float64             0.0                           \n",
      "[ \"NegativeElectrode\" ][ \"CurrentCollector\" ][ \"TabFractions\" ]                           -                   Vector{Any}         [0 el.]                       \n",
      "[ \"NegativeElectrode\" ][ \"CurrentCollector\" ][ \"TabWidth\" ]                               m                   Float64             0.0                           \n",
      "[ \"NegativeElectrode\" ][ \"CurrentCollector\" ][ \"Thickness\" ]                              m                   Float64             0.0                           \n",
      "[ \"PositiveElectrode\" ][ \"ActiveMaterial\" ][ \"ChargeTransferCoefficient\" ]                -                   Float64             0.0                           \n",
      "[ \"PositiveElectrode\" ][ \"ActiveMaterial\" ][ \"Density\" ]                                  kg·m⁻³              Float64             0.0                           \n",
      "[ \"PositiveElectrode\" ][ \"ActiveMaterial\" ][ \"DiffusionCoefficient\" ]                     m²·s⁻¹              Float64             0.0                           \n",
      "[ \"PositiveElectrode\" ][ \"ActiveMaterial\" ][ \"ElectronicConductivity\" ]                   S·m⁻¹               Float64             0.0                           \n",
      "[ \"PositiveElectrode\" ][ \"ActiveMaterial\" ][ \"MassFraction\" ]                             1                   Float64             0.0                           \n",
      "[ \"PositiveElectrode\" ][ \"ActiveMaterial\" ][ \"MaximumConcentration\" ]                     mol·m⁻³             Float64             0.0                           \n",
      "[ \"PositiveElectrode\" ][ \"ActiveMaterial\" ][ \"NumberOfElectronsTransfered\" ]              1                   Float64             0.0                           \n",
      "[ \"PositiveElectrode\" ][ \"ActiveMaterial\" ][ \"OpenCircuitPotential\" ]                     V                   Float64             0.0                           \n",
      "[ \"PositiveElectrode\" ][ \"ActiveMaterial\" ][ \"ParticleRadius\" ]                           m                   Float64             0.0                           \n",
      "[ \"PositiveElectrode\" ][ \"ActiveMaterial\" ][ \"ReactionRateConstant\" ]                     mol·m⁻²·s⁻¹         Float64             0.0                           \n",
      "[ \"PositiveElectrode\" ][ \"ActiveMaterial\" ][ \"StoichiometricCoefficientAtSOC0\" ]          1                   Float64             0.0                           \n",
      "[ \"PositiveElectrode\" ][ \"ActiveMaterial\" ][ \"StoichiometricCoefficientAtSOC100\" ]        1                   Float64             0.0                           \n",
      "[ \"PositiveElectrode\" ][ \"ActiveMaterial\" ][ \"VolumetricSurfaceArea\" ]                    m²m⁻³               Float64             0.0                           \n",
      "[ \"PositiveElectrode\" ][ \"Binder\" ][ \"Density\" ]                                          kg·m⁻³              Float64             0.0                           \n",
      "[ \"PositiveElectrode\" ][ \"Binder\" ][ \"ElectronicConductivity\" ]                           S·m⁻¹               Float64             0.0                           \n",
      "[ \"PositiveElectrode\" ][ \"Binder\" ][ \"MassFraction\" ]                                     1                   Float64             0.0                           \n",
      "[ \"PositiveElectrode\" ][ \"Coating\" ][ \"BruggemanCoefficient\" ]                            1                   Float64             0.0                           \n",
      "[ \"PositiveElectrode\" ][ \"Coating\" ][ \"EffectiveDensity\" ]                                kg·m⁻³              Float64             0.0                           \n",
      "[ \"PositiveElectrode\" ][ \"Coating\" ][ \"Thickness\" ]                                       m                   Float64             0.0                           \n",
      "[ \"PositiveElectrode\" ][ \"ConductiveAdditive\" ][ \"Density\" ]                              kg·m⁻³              Float64             0.0                           \n",
      "[ \"PositiveElectrode\" ][ \"ConductiveAdditive\" ][ \"ElectronicConductivity\" ]               S·m⁻¹               Float64             0.0                           \n",
      "[ \"PositiveElectrode\" ][ \"ConductiveAdditive\" ][ \"MassFraction\" ]                         1                   Float64             0.0                           \n",
      "[ \"PositiveElectrode\" ][ \"CurrentCollector\" ][ \"Density\" ]                                kg·m⁻³              Float64             0.0                           \n",
      "[ \"PositiveElectrode\" ][ \"CurrentCollector\" ][ \"ElectronicConductivity\" ]                 S·m⁻¹               Float64             0.0                           \n",
      "[ \"PositiveElectrode\" ][ \"CurrentCollector\" ][ \"TabFractions\" ]                           -                   Vector{Any}         [0 el.]                       \n",
      "[ \"PositiveElectrode\" ][ \"CurrentCollector\" ][ \"TabWidth\" ]                               m                   Float64             0.0                           \n",
      "[ \"PositiveElectrode\" ][ \"CurrentCollector\" ][ \"Thickness\" ]                              m                   Float64             0.0                           \n",
      "[ \"Separator\" ][ \"BruggemanCoefficient\" ]                                                 1                   Float64             0.0                           \n",
      "[ \"Separator\" ][ \"Density\" ]                                                              kg·m⁻³              Float64             0.0                           \n",
      "[ \"Separator\" ][ \"Porosity\" ]                                                             1                   Float64             0.0                           \n",
      "[ \"Separator\" ][ \"Thickness\" ]                                                            m                   Float64             0.0                           \n",
      "================================================================================================================================================================\n",
      "Total parameters: 66\n"
     ]
    }
   ],
   "source": [
    "model = LithiumIonBattery(;model_settings)\n",
    "cell_parameters = load_cell_parameters(;from_model_template = model)\n",
    "print_info(cell_parameters)"
   ]
  },
  {
   "cell_type": "markdown",
   "id": "275e9cd7",
   "metadata": {},
   "source": [
    "The paper provides the following experimental data that we can use to create the cell parameter set that we need:\n",
    "\n",
    "**Cell properties**\n",
    "- NominalVoltage = 3.7 V\n",
    "- NominalCapacity = 22 Ah\n",
    "- Mass = 355.9 g\n",
    "- EnergyDensity = 622.4 Wh/L\n",
    "- Specific Energy = 232.5 Wh/kg\n",
    "- OuterRadius = 22.25 mm\n",
    "- InnerRadius = 2.5 mm\n",
    "- Height = 71 mm\n",
    "- Volume = 125.6 cm^3\n",
    "- ElectrodeLength = 3403 mm - 136 mm\n",
    "- NumberOfSeparators = 2\n",
    "- DoubleSidedElectrodes\n",
    "\n",
    "**Electrode coating properties**\n",
    "- Thickness: measurements along the electrode length\n",
    "- Density: measurements along the electrode length\n",
    "- Mass: measurements along the electrode length\n",
    "\n",
    "**Positive electrode active material**\n",
    "- Material = NMC811\n",
    "- ParticleRadius = between 3 and 16 microm\n",
    "\n",
    "**Negative electrode active material**\n",
    "- Material = Graphite\n",
    "- ParticleRadius = up to 16 microm\n",
    "\n",
    "**Positive electrode binder**\n",
    "- Material = PVdF (polyvinylidene fluoride)\n",
    "\n",
    "**Negative electrode binder**\n",
    "- Material = PTFE (polytetrafluoroethylene)\n",
    "\n",
    "**Negative electrode additive**\n",
    "- Material = Carbon Black\n",
    "\n",
    "**Positive electrode current collector properties**\n",
    "- Material = Copper\n",
    "- Thickness = 4,5 microm\n",
    "\n",
    "**Negative electrode current collector properties**\n",
    "- Material = Aluminium\n",
    "- Thickness = 4,5 microm\n",
    "\n",
    "**Separator properties**\n",
    "- Thickness = 71 mm\n",
    "\n",
    "**Electrolyte properties**\n",
    "- Material = LiPF6 (lithium hexafluorophosphate) or LiTFSI (lithium bis(fluorosulfonyl)imide)\n",
    "\n",
    "**Galvanostatic EIS measurement**\n",
    "For full cell, positive and negative electrode\n",
    "\n",
    "**pOCV measurements**\n",
    "- Full cell, negative and positive electrode voltage curves with a current of C/50\n",
    "- full cell C/20 pOCV of one of the cells\n",
    "\n",
    "**DVA and ICA data**\n",
    "From one of the cells\n",
    "\n",
    "**HPPC measurements**\n",
    "From one of the cells"
   ]
  },
  {
   "cell_type": "markdown",
   "id": "5598fa05",
   "metadata": {},
   "source": [
    "##### What is a pseudo OCV curve?\n",
    "The measured voltage of a full cell or one of the electrodes for a c-rate low enough so that the curve represents the open circuit voltage. At low c-rate the diffusion and kinetics have negligible over potentials.\n",
    "\n",
    "##### What is a galvanostatic EIS measurement?\n",
    "EIS stands for Electrochemical Impedance Spectroscopy\n",
    "\n",
    "##### What is DVA data?\n",
    "\n",
    "##### What is ICA data?\n",
    "\n",
    "##### What is HPPC data?"
   ]
  },
  {
   "cell_type": "markdown",
   "id": "66673902",
   "metadata": {},
   "source": [
    "##### Electrode properties"
   ]
  },
  {
   "cell_type": "code",
   "execution_count": 19,
   "id": "d1d3e4f2",
   "metadata": {},
   "outputs": [
    {
     "data": {
      "text/html": [
       "<div><div style = \"float: left;\"><span>8×8 DataFrame</span></div><div style = \"clear: both;\"></div></div><div class = \"data-frame\" style = \"overflow-x: scroll;\"><table class = \"data-frame\" style = \"margin-bottom: 6px;\"><thead><tr class = \"header\"><th class = \"rowNumber\" style = \"font-weight: bold; text-align: right;\">Row</th><th style = \"text-align: left;\">Length cathode</th><th style = \"text-align: left;\">Mass cathode</th><th style = \"text-align: left;\">Thickness cathode</th><th style = \"text-align: left;\">Density cathode</th><th style = \"text-align: left;\">Length anode</th><th style = \"text-align: left;\">Mass anode</th><th style = \"text-align: left;\">Thickness anode</th><th style = \"text-align: left;\">Density anode</th></tr><tr class = \"subheader headerLastRow\"><th class = \"rowNumber\" style = \"font-weight: bold; text-align: right;\"></th><th title = \"Float64\" style = \"text-align: left;\">Float64</th><th title = \"Float64\" style = \"text-align: left;\">Float64</th><th title = \"Int64\" style = \"text-align: left;\">Int64</th><th title = \"Float64\" style = \"text-align: left;\">Float64</th><th title = \"Float64\" style = \"text-align: left;\">Float64</th><th title = \"Float64\" style = \"text-align: left;\">Float64</th><th title = \"Int64\" style = \"text-align: left;\">Int64</th><th title = \"Float64\" style = \"text-align: left;\">Float64</th></tr></thead><tbody><tr><td class = \"rowNumber\" style = \"font-weight: bold; text-align: right;\">1</td><td style = \"text-align: right;\">0.0</td><td style = \"text-align: right;\">26.6708</td><td style = \"text-align: right;\">175</td><td style = \"text-align: right;\">3.31314</td><td style = \"text-align: right;\">0.0</td><td style = \"text-align: right;\">19.6598</td><td style = \"text-align: right;\">269</td><td style = \"text-align: right;\">1.51813</td></tr><tr><td class = \"rowNumber\" style = \"font-weight: bold; text-align: right;\">2</td><td style = \"text-align: right;\">0.5</td><td style = \"text-align: right;\">26.4466</td><td style = \"text-align: right;\">174</td><td style = \"text-align: right;\">3.30582</td><td style = \"text-align: right;\">0.5</td><td style = \"text-align: right;\">19.456</td><td style = \"text-align: right;\">258</td><td style = \"text-align: right;\">1.56904</td></tr><tr><td class = \"rowNumber\" style = \"font-weight: bold; text-align: right;\">3</td><td style = \"text-align: right;\">1.0</td><td style = \"text-align: right;\">26.4563</td><td style = \"text-align: right;\">172</td><td style = \"text-align: right;\">3.3489</td><td style = \"text-align: right;\">1.0</td><td style = \"text-align: right;\">19.1929</td><td style = \"text-align: right;\">255</td><td style = \"text-align: right;\">1.56677</td></tr><tr><td class = \"rowNumber\" style = \"font-weight: bold; text-align: right;\">4</td><td style = \"text-align: right;\">1.5</td><td style = \"text-align: right;\">26.6448</td><td style = \"text-align: right;\">173</td><td style = \"text-align: right;\">3.35154</td><td style = \"text-align: right;\">1.5</td><td style = \"text-align: right;\">19.5381</td><td style = \"text-align: right;\">258</td><td style = \"text-align: right;\">1.57565</td></tr><tr><td class = \"rowNumber\" style = \"font-weight: bold; text-align: right;\">5</td><td style = \"text-align: right;\">2.0</td><td style = \"text-align: right;\">26.557</td><td style = \"text-align: right;\">173</td><td style = \"text-align: right;\">3.34051</td><td style = \"text-align: right;\">2.0</td><td style = \"text-align: right;\">19.7758</td><td style = \"text-align: right;\">265</td><td style = \"text-align: right;\">1.55104</td></tr><tr><td class = \"rowNumber\" style = \"font-weight: bold; text-align: right;\">6</td><td style = \"text-align: right;\">2.5</td><td style = \"text-align: right;\">26.557</td><td style = \"text-align: right;\">174</td><td style = \"text-align: right;\">3.31963</td><td style = \"text-align: right;\">2.5</td><td style = \"text-align: right;\">19.4221</td><td style = \"text-align: right;\">266</td><td style = \"text-align: right;\">1.51735</td></tr><tr><td class = \"rowNumber\" style = \"font-weight: bold; text-align: right;\">7</td><td style = \"text-align: right;\">3.0</td><td style = \"text-align: right;\">26.7227</td><td style = \"text-align: right;\">176</td><td style = \"text-align: right;\">3.2991</td><td style = \"text-align: right;\">3.0</td><td style = \"text-align: right;\">19.7107</td><td style = \"text-align: right;\">265</td><td style = \"text-align: right;\">1.54594</td></tr><tr><td class = \"rowNumber\" style = \"font-weight: bold; text-align: right;\">8</td><td style = \"text-align: right;\">3.37</td><td style = \"text-align: right;\">26.6025</td><td style = \"text-align: right;\">178</td><td style = \"text-align: right;\">3.24421</td><td style = \"text-align: right;\">3.38</td><td style = \"text-align: right;\">19.3966</td><td style = \"text-align: right;\">268</td><td style = \"text-align: right;\">1.50361</td></tr></tbody></table></div>"
      ],
      "text/latex": [
       "\\begin{tabular}{r|cccccc}\n",
       "\t& Length cathode & Mass cathode & Thickness cathode & Density cathode & Length anode & \\\\\n",
       "\t\\hline\n",
       "\t& Float64 & Float64 & Int64 & Float64 & Float64 & \\\\\n",
       "\t\\hline\n",
       "\t1 & 0.0 & 26.6708 & 175 & 3.31314 & 0.0 & $\\dots$ \\\\\n",
       "\t2 & 0.5 & 26.4466 & 174 & 3.30582 & 0.5 & $\\dots$ \\\\\n",
       "\t3 & 1.0 & 26.4563 & 172 & 3.3489 & 1.0 & $\\dots$ \\\\\n",
       "\t4 & 1.5 & 26.6448 & 173 & 3.35154 & 1.5 & $\\dots$ \\\\\n",
       "\t5 & 2.0 & 26.557 & 173 & 3.34051 & 2.0 & $\\dots$ \\\\\n",
       "\t6 & 2.5 & 26.557 & 174 & 3.31963 & 2.5 & $\\dots$ \\\\\n",
       "\t7 & 3.0 & 26.7227 & 176 & 3.2991 & 3.0 & $\\dots$ \\\\\n",
       "\t8 & 3.37 & 26.6025 & 178 & 3.24421 & 3.38 & $\\dots$ \\\\\n",
       "\\end{tabular}\n"
      ],
      "text/plain": [
       "\u001b[1m8×8 DataFrame\u001b[0m\n",
       "\u001b[1m Row \u001b[0m│\u001b[1m Length cathode \u001b[0m\u001b[1m Mass cathode \u001b[0m\u001b[1m Thickness cathode \u001b[0m\u001b[1m Density cathode \u001b[0m\u001b[1m Lengt\u001b[0m ⋯\n",
       "     │\u001b[90m Float64        \u001b[0m\u001b[90m Float64      \u001b[0m\u001b[90m Int64             \u001b[0m\u001b[90m Float64         \u001b[0m\u001b[90m Float\u001b[0m ⋯\n",
       "─────┼──────────────────────────────────────────────────────────────────────────\n",
       "   1 │           0.0        26.6708                175          3.31314        ⋯\n",
       "   2 │           0.5        26.4466                174          3.30582\n",
       "   3 │           1.0        26.4563                172          3.3489\n",
       "   4 │           1.5        26.6448                173          3.35154\n",
       "   5 │           2.0        26.557                 173          3.34051        ⋯\n",
       "   6 │           2.5        26.557                 174          3.31963\n",
       "   7 │           3.0        26.7227                176          3.2991\n",
       "   8 │           3.37       26.6025                178          3.24421\n",
       "\u001b[36m                                                               4 columns omitted\u001b[0m"
      ]
     },
     "metadata": {},
     "output_type": "display_data"
    }
   ],
   "source": [
    "# Read the electrode properties into a DataFrame\n",
    "df_electrodes = CSV.read(joinpath(dirname(@__DIR__),\"example_input\",\"cell_parameters\", \"ank_2023\", \"Electrode_properties.txt\"), DataFrame)"
   ]
  },
  {
   "cell_type": "code",
   "execution_count": 20,
   "id": "f80a387f",
   "metadata": {},
   "outputs": [
    {
     "data": {
      "text/plain": [
       "Dict{String, Float64} with 6 entries:\n",
       "  \"NegativeElectrodeCoatingThickness\"        => 131.5\n",
       "  \"NegativeElectrodeCoatingEffectiveDensity\" => 1543.44\n",
       "  \"PositiveElectrodeCoatingThickness\"        => 87.1875\n",
       "  \"PositiveElectrodeCoatingEffectiveDensity\" => 3315.36\n",
       "  \"NegativeElectrodeCoatingMass\"             => 9.7595\n",
       "  \"PositiveElectrodeCoatingMass\"             => 13.2911"
      ]
     },
     "metadata": {},
     "output_type": "display_data"
    }
   ],
   "source": [
    "# Calculate average properties\n",
    "averages = Dict(\n",
    "\t\"NegativeElectrodeCoatingThickness\" => mean(df_electrodes[!, \"Thickness anode\"])/2,\n",
    "\t\"PositiveElectrodeCoatingThickness\" => mean(df_electrodes[!, \"Thickness cathode\"])/2,\n",
    "\t\"NegativeElectrodeCoatingMass\" => mean(df_electrodes[!, \"Mass anode\"])/2,\n",
    "\t\"PositiveElectrodeCoatingMass\" => mean(df_electrodes[!, \"Mass cathode\"])/2,\n",
    "\t\"NegativeElectrodeCoatingEffectiveDensity\" => mean(df_electrodes[!, \"Density anode\"])*1000, # convert from g/cm3 to kg/m3\n",
    "\t\"PositiveElectrodeCoatingEffectiveDensity\" => mean(df_electrodes[!, \"Density cathode\"])*1000, # convert from g/cm3 to kg/m3\n",
    ")"
   ]
  },
  {
   "cell_type": "markdown",
   "id": "ae7afd8d",
   "metadata": {},
   "source": [
    "#### Load parameters and settings"
   ]
  },
  {
   "cell_type": "code",
   "execution_count": 8,
   "id": "5fc901b7",
   "metadata": {},
   "outputs": [],
   "source": [
    "cell_parameters = load_cell_parameters(from_file_path = joinpath(dirname(@__DIR__), \"example_input\", \"cell_parameters\", \"tesla_4680_before_calibration.json\"))\n",
    "cycling_protocol = load_cycling_protocol(from_default_set = \"cc_discharge\")\n",
    "model_settings = load_model_settings(from_default_set = \"p2d\")\n",
    "solver_settings = load_solver_settings(from_default_set = \"direct\");"
   ]
  },
  {
   "cell_type": "code",
   "execution_count": 9,
   "id": "86cbf0fc",
   "metadata": {},
   "outputs": [
    {
     "name": "stdout",
     "output_type": "stream",
     "text": [
      "\u001b[1m════════════════════════════════════════════════════════════════════════════════════════════════════════════\u001b[0m\n",
      "\u001b[1m🔋 Quick Cell Check\u001b[0m\n",
      "\u001b[1m════════════════════════════════════════════════════════════════════════════════════════════════════════════\u001b[0m\n",
      "Cell 1: Ank2023\n",
      "\n",
      "Quantity                                Cell 1         | Unit         | Source\n",
      "────────────────────────────────────────────────────────────────────────────────────────────────────────────\n",
      "Nominal Voltage                         0              | V            | \u001b[94m[INPUT]\u001b[0m     \n",
      "Nominal Capacity                        22.65          | Ah           | \u001b[94m[INPUT]\u001b[0m     \n",
      "Cell Theoretical Capacity               0.02416        | Ah           | \u001b[92m[EQUILIBRIUM CALCULATION]\u001b[0m\n",
      "Cell N:P Ratio                          97.37          | -            | \u001b[92m[EQUILIBRIUM CALCULATION]\u001b[0m\n",
      "Cell Mass                               0.28           | kg           | \u001b[92m[EQUILIBRIUM CALCULATION]\u001b[0m\n",
      "Positive Electrode Mass Loading         27.6           | mg/cm²       | \u001b[92m[EQUILIBRIUM CALCULATION]\u001b[0m\n",
      "Negative Electrode Mass Loading         19.09          | mg/cm²       | \u001b[92m[EQUILIBRIUM CALCULATION]\u001b[0m\n",
      "\u001b[1m════════════════════════════════════════════════════════════════════════════════════════════════════════════\u001b[0m\n"
     ]
    }
   ],
   "source": [
    "quick_cell_check(cell_parameters)"
   ]
  },
  {
   "cell_type": "markdown",
   "id": "ce5ebcd2",
   "metadata": {},
   "source": [
    "#### Alter cycling protocol"
   ]
  },
  {
   "cell_type": "code",
   "execution_count": 10,
   "id": "37907352",
   "metadata": {},
   "outputs": [
    {
     "data": {
      "text/plain": [
       "1"
      ]
     },
     "metadata": {},
     "output_type": "display_data"
    }
   ],
   "source": [
    "# cycling_protocol[\"InitialTemperature\"] = 298.15\n",
    "cycling_protocol[\"UpperVoltageLimit\"] = 3.7\n",
    "cycling_protocol[\"LowerVoltageLimit\"] = 3.0\n",
    "cycling_protocol[\"DRate\"] = 1"
   ]
  },
  {
   "cell_type": "markdown",
   "id": "a2ea515e",
   "metadata": {},
   "source": [
    "#### Run simulation"
   ]
  },
  {
   "cell_type": "code",
   "execution_count": 11,
   "id": "7903ca2c",
   "metadata": {},
   "outputs": [
    {
     "name": "stdout",
     "output_type": "stream",
     "text": [
      "✔️ Validation of ModelSettings passed: No issues found.\n",
      "──────────────────────────────────────────────────\n",
      "✔️ Validation of CellParameters passed: No issues found.\n",
      "──────────────────────────────────────────────────\n",
      "✔️ Validation of CyclingProtocol passed: No issues found.\n",
      "──────────────────────────────────────────────────\n",
      "✔️ Validation of SimulationSettings passed: No issues found.\n",
      "──────────────────────────────────────────────────\n",
      "✔️ Validation of SolverSettings passed: No issues found.\n",
      "──────────────────────────────────────────────────\n",
      "\u001b[92;1mJutul:\u001b[0m Simulating 1 hour, 6 minutes as 84 report steps\n"
     ]
    },
    {
     "name": "stderr",
     "output_type": "stream",
     "text": [
      "\u001b[32mProgress   2%|█                                          |  ETA: 0:11:07\u001b[39m\u001b[K\n",
      "\n",
      "\u001b[32mProgress 100%|███████████████████████████████████████████| Time: 0:00:18\u001b[39m\u001b[K\n",
      "\u001b[34m   Progress: Solved step 84/84\u001b[39m\u001b[K\n",
      "\u001b[34m      Stats: 179 iterations in 16.94 s (94.66 ms each)\u001b[39m\u001b[K\n"
     ]
    },
    {
     "name": "stdout",
     "output_type": "stream",
     "text": [
      "╭────────────────┬──────────┬──────────────┬──────────╮\n",
      "│\u001b[1m Iteration type \u001b[0m│\u001b[1m Avg/step \u001b[0m│\u001b[1m Avg/ministep \u001b[0m│\u001b[1m    Total \u001b[0m│\n",
      "│\u001b[1m                \u001b[0m│\u001b[90m 84 steps \u001b[0m│\u001b[90m 84 ministeps \u001b[0m│\u001b[90m (wasted) \u001b[0m│\n",
      "├────────────────┼──────────┼──────────────┼──────────┤\n",
      "│\u001b[1m Newton         \u001b[0m│  2.13095 │      2.13095 │  179 (0) │\n",
      "│\u001b[1m Linearization  \u001b[0m│  3.13095 │      3.13095 │  263 (0) │\n",
      "│\u001b[1m Linear solver  \u001b[0m│  2.13095 │      2.13095 │  179 (0) │\n",
      "│\u001b[1m Precond apply  \u001b[0m│      0.0 │          0.0 │    0 (0) │\n",
      "╰────────────────┴──────────┴──────────────┴──────────╯\n",
      "╭───────────────┬─────────┬────────────┬─────────╮\n",
      "│\u001b[1m Timing type   \u001b[0m│\u001b[1m    Each \u001b[0m│\u001b[1m   Relative \u001b[0m│\u001b[1m   Total \u001b[0m│\n",
      "│\u001b[1m               \u001b[0m│\u001b[90m      ms \u001b[0m│\u001b[90m Percentage \u001b[0m│\u001b[90m       s \u001b[0m│\n",
      "├───────────────┼─────────┼────────────┼─────────┤\n",
      "│\u001b[1m Properties    \u001b[0m│  0.9336 │     0.99 % │  0.1671 │\n",
      "│\u001b[1m Equations     \u001b[0m│ 33.4868 │    51.98 % │  8.8070 │\n",
      "│\u001b[1m Assembly      \u001b[0m│  6.5071 │    10.10 % │  1.7114 │\n",
      "│\u001b[1m Linear solve  \u001b[0m│  1.5193 │     1.61 % │  0.2720 │\n",
      "│\u001b[1m Linear setup  \u001b[0m│  0.0000 │     0.00 % │  0.0000 │\n",
      "│\u001b[1m Precond apply \u001b[0m│  0.0000 │     0.00 % │  0.0000 │\n",
      "│\u001b[1m Update        \u001b[0m│  2.7015 │     2.85 % │  0.4836 │\n",
      "│\u001b[1m Convergence   \u001b[0m│  7.4075 │    11.50 % │  1.9482 │\n",
      "│\u001b[1m Input/Output  \u001b[0m│  1.8918 │     0.94 % │  0.1589 │\n",
      "│\u001b[1m Other         \u001b[0m│ 18.9715 │    20.04 % │  3.3959 │\n",
      "├───────────────┼─────────┼────────────┼─────────┤\n",
      "│\u001b[1m Total         \u001b[0m│ 94.6593 │   100.00 % │ 16.9440 │\n",
      "╰───────────────┴─────────┴────────────┴─────────╯\n"
     ]
    }
   ],
   "source": [
    "model = LithiumIonBattery(; model_settings)\n",
    "\n",
    "sim = Simulation(model, cell_parameters, cycling_protocol)\n",
    "\n",
    "output = solve(sim; solver_settings, accept_invalid = true);"
   ]
  },
  {
   "cell_type": "markdown",
   "id": "f9d15ccf",
   "metadata": {},
   "source": [
    "#### Plot results"
   ]
  },
  {
   "cell_type": "code",
   "execution_count": 12,
   "id": "44a3b7ce",
   "metadata": {},
   "outputs": [],
   "source": [
    "plot_dashboard(output; plot_type = \"contour\")"
   ]
  }
 ],
 "metadata": {
  "kernelspec": {
   "display_name": "Julia 1.12.1",
   "language": "julia",
   "name": "julia-1.12"
  },
  "language_info": {
   "file_extension": ".jl",
   "mimetype": "application/julia",
   "name": "julia",
   "version": "1.12.1"
  }
 },
 "nbformat": 4,
 "nbformat_minor": 5
}
