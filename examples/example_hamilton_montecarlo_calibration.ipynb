{
 "cells": [
  {
   "cell_type": "markdown",
   "source": [
    "# Load packages"
   ],
   "metadata": {}
  },
  {
   "outputs": [],
   "cell_type": "code",
   "source": [
    "using BattMo\n",
    "using Statistics\n",
    "using Jutul\n",
    "using CSV\n",
    "using MAT\n",
    "using GLMakie"
   ],
   "metadata": {},
   "execution_count": null
  },
  {
   "cell_type": "markdown",
   "source": [
    "Package for hamiltonian montecarlo"
   ],
   "metadata": {}
  },
  {
   "outputs": [],
   "cell_type": "code",
   "source": [
    "using AdvancedHMC, ForwardDiff\n",
    "using AbstractMCMC\n",
    "using LogDensityProblems\n",
    "using LinearAlgebra\n",
    "\n",
    "battmo_base = normpath(joinpath(pathof(BattMo) |> splitdir |> first, \"..\"))\n",
    "datadir = joinpath(battmo_base, \"examples\", \"example_data\", \"calibration_data_mj1\")\n",
    "nothing #hide"
   ],
   "metadata": {},
   "execution_count": null
  },
  {
   "cell_type": "markdown",
   "source": [
    "# Experimental data setup\n",
    "\n",
    "We retrieve experimental data. It is given in matlab format"
   ],
   "metadata": {}
  },
  {
   "outputs": [],
   "cell_type": "code",
   "source": [
    "\"\"\" Fetches experimental data from a .mat file. Returns a dictionary with time, rawRate, E, rawI, I, cap, and DRate.\n",
    "\"\"\"\n",
    "function getExpData(filename, rate = \"all\")\n",
    "\n",
    "    # Load data\n",
    "    data = matread(filename)\n",
    "    dlroutput = data[\"dlroutput\"]  # Dict with 1×4 matrices for each variable\n",
    "\n",
    "    @show keys(dlroutput)  # Show available keys in the data\n",
    "    @show size(dlroutput[\"current\"][1])  # Show size of the time matrix\n",
    "\n",
    "    # Get number of experiments (4 in this case)\n",
    "    num_experiments = size(dlroutput[\"time\"], 2)\n",
    "\n",
    "    # Process each experiment\n",
    "    dlrdata = Vector{Dict{String,Any}}(undef, num_experiments)\n",
    "\n",
    "    function trapz(x, y)\n",
    "        sum((x[i+1] - x[i]) * (y[i] + y[i+1]) / 2 for i in 1:length(x)-1)\n",
    "    end\n",
    "\n",
    "    for k in 1:num_experiments\n",
    "        # Extract data for this experiment (column k from each matrix)\n",
    "        time_h = dlroutput[\"time\"][k]\n",
    "        time_s = time_h * 3600  # hours → seconds\n",
    "\n",
    "        current = dlroutput[\"current\"][k]\n",
    "        current_segment =  Float64.(current[3:end-1])  # Skip first/last points\n",
    "\n",
    "        # Create experiment dictionary\n",
    "        dlrdata[k] = Dict{String,Any}(\n",
    "            \"time\" => time_s,\n",
    "            \"rawRate\" =>dlroutput[\"CRate\"][k],\n",
    "            \"E\" => dlroutput[\"voltage\"][k],\n",
    "            \"rawI\" => -current,\n",
    "            \"I\" => abs(Statistics.mean(current_segment)),\n",
    "            \"cap\" => abs(trapz(time_s[3:end-1], current_segment)),\n",
    "            \"DRate\" => 1.0 / time_h[end]\n",
    "        )\n",
    "    end\n",
    "\n",
    "    # Sort by DRate\n",
    "    sort!(dlrdata, by=x -> x[\"DRate\"])\n",
    "\n",
    "    # Select data based on rate\n",
    "    if rate == \"low\"\n",
    "        return dlrdata[1]\n",
    "    elseif rate == \"high\"\n",
    "        return dlrdata[end]\n",
    "    elseif rate == \"all\"\n",
    "        return dlrdata\n",
    "    else\n",
    "        error(\"Unknown rate $rate\")\n",
    "    end\n",
    "\n",
    "end\n",
    "\n",
    "fn = joinpath(datadir, \"dlroutput.mat\")\n",
    "exp_data = getExpData(fn)\n",
    "\n",
    "println(\"Number of entries: \", length(exp_data))\n",
    "@show exp_data[1][\"rawRate\"]\n",
    "@show exp_data[2][\"rawRate\"]\n",
    "@show exp_data[3][\"rawRate\"]\n",
    "@show exp_data[4][\"rawRate\"] # Show first entry for verification\n",
    "nothing #hide"
   ],
   "metadata": {},
   "execution_count": null
  },
  {
   "cell_type": "markdown",
   "source": [
    "# Simulation setup\n",
    "The function `runMJ1` sets up the simulation for the MJ1 cell by loading the cell parameters and cycling protocol from JSON files. It also configures the model and simulation settings."
   ],
   "metadata": {}
  },
  {
   "outputs": [],
   "cell_type": "code",
   "source": [
    "\"\"\" setup the simulation for the MJ1 cell\n",
    "\"\"\"\n",
    "function runMJ1()\n",
    "\n",
    "    cell_parameters = load_cell_parameters(; from_file_path = joinpath(datadir, \"mj1_tab1.json\"))\n",
    "\n",
    "    # cell_parameters = load_cell_parameters(; from_default_set = \"Xu2015\")\n",
    "    println(\"successfully loaded cell parameters and cycling protocol\")\n",
    "    cycling_protocol = load_cycling_protocol(; from_file_path = joinpath(datadir, \"custom_discharge2.json\"))\n",
    "\n",
    "    # simulation_settings = load_simulation_settings(; from_file_path = joinpath(datadir,\"simple.json\"))\n",
    "    # simulation_settings = load_simulation_settings(; from_default_set = \"P4D_pouch\")\n",
    "    simulation_settings = load_simulation_settings(; from_default_set = \"P2D\") # Ensure the model framework is set to P4D Pouch\n",
    "\n",
    "    #model_settings = load_model_settings(;from_default_set = \"P4D_pouch\")\n",
    "    model_settings = load_model_settings(;from_default_set = \"P2D\")\n",
    "\n",
    "    model_setup = LithiumIonBattery(; model_settings)\n",
    "\n",
    "    sim = Simulation(model_setup, cell_parameters, cycling_protocol; simulation_settings);\n",
    "    print(sim.is_valid)\n",
    "    # output0 = solve(sim;accept_invalid = true)\n",
    "    return cycling_protocol, cell_parameters, model_setup, simulation_settings\n",
    "\n",
    "end"
   ],
   "metadata": {},
   "execution_count": null
  },
  {
   "cell_type": "markdown",
   "source": [
    "# Equilibrium calibration"
   ],
   "metadata": {}
  },
  {
   "outputs": [],
   "cell_type": "code",
   "source": [
    "cycling_protocol, cell_parameters,model_setup, simulation_settings = runMJ1()\n",
    "\n",
    "sim = Simulation(model_setup, cell_parameters, cycling_protocol; simulation_settings)\n",
    "\n",
    "cell_parameters_calibrated, V_eq, t_eq = equilibriumCalibration(sim, exp_data)"
   ],
   "metadata": {},
   "execution_count": null
  },
  {
   "cell_type": "markdown",
   "source": [
    "# Hamiltonian Monte-Carlo setup"
   ],
   "metadata": {}
  },
  {
   "outputs": [],
   "cell_type": "code",
   "source": [
    "t_exp_hr = vec(exp_data[end][\"time\"])\n",
    "V_exp_hr = vec(exp_data[end][\"E\"])\n",
    "\n",
    "I = exp_data[end][\"I\"]\n",
    "\n",
    "cycling_protocol2          = deepcopy(cycling_protocol)\n",
    "cycling_protocol2[\"DRate\"] = exp_data[end][\"rawRate\"]"
   ],
   "metadata": {},
   "execution_count": null
  },
  {
   "cell_type": "markdown",
   "source": [
    "# Setup simulation case"
   ],
   "metadata": {}
  },
  {
   "outputs": [],
   "cell_type": "code",
   "source": [
    "sim = Simulation(model_setup, cell_parameters_calibrated, cycling_protocol2; simulation_settings)\n",
    "\n",
    "output = get_simulation_input(sim)\n",
    "\n",
    "model2 = output[:model]\n",
    "\n",
    "sim.cycling_protocol[\"DRate\"] = I * 3600 / computeCellCapacity(model2)"
   ],
   "metadata": {},
   "execution_count": null
  },
  {
   "cell_type": "markdown",
   "source": [
    "# Setup calibration problem\n",
    "\n",
    "We prepare the `VoltageCalibration` instance"
   ],
   "metadata": {}
  },
  {
   "outputs": [],
   "cell_type": "code",
   "source": [
    "vc = VoltageCalibration(t_exp_hr,\n",
    "                        V_exp_hr,\n",
    "                        sim)\n",
    "\n",
    "free_calibration_parameter!(vc,\n",
    "                            [\"NegativeElectrode\",\"ActiveMaterial\", \"VolumetricSurfaceArea\"];\n",
    "                            lower_bound = 1e3, upper_bound = 1e6)\n",
    "free_calibration_parameter!(vc,\n",
    "                            [\"PositiveElectrode\",\"ActiveMaterial\", \"VolumetricSurfaceArea\"];\n",
    "                            lower_bound = 1e3, upper_bound = 1e6)\n",
    "\n",
    "free_calibration_parameter!(vc,\n",
    "                            [\"Separator\", \"BruggemanCoefficient\"];\n",
    "                            lower_bound = 1e-3, upper_bound = 1e2)\n",
    "free_calibration_parameter!(vc,\n",
    "                            [\"NegativeElectrode\",\"ElectrodeCoating\", \"BruggemanCoefficient\"];\n",
    "                            lower_bound = 1e-3, upper_bound = 1e2)\n",
    "free_calibration_parameter!(vc,\n",
    "                            [\"PositiveElectrode\",\"ElectrodeCoating\", \"BruggemanCoefficient\"];\n",
    "                            lower_bound = 1e-3, upper_bound = 1e2)\n",
    "\n",
    "free_calibration_parameter!(vc,\n",
    "                            [\"NegativeElectrode\",\"ActiveMaterial\", \"DiffusionCoefficient\"];\n",
    "                            lower_bound = 1e-16, upper_bound = 1e-10)\n",
    "free_calibration_parameter!(vc,\n",
    "                            [\"PositiveElectrode\",\"ActiveMaterial\", \"DiffusionCoefficient\"];\n",
    "                            lower_bound = 1e-16, upper_bound = 1e-10)\n",
    "\n",
    "print_calibration_overview(vc)"
   ],
   "metadata": {},
   "execution_count": null
  },
  {
   "cell_type": "markdown",
   "source": [
    "Run HMC"
   ],
   "metadata": {}
  },
  {
   "outputs": [],
   "cell_type": "code",
   "source": [
    "n_samples, n_adapts = 1000, 500\n",
    "\n",
    "samples, stats = runHMC(vc, n_samples, n_adapts, logprior = setup_default_prior(vc))"
   ],
   "metadata": {},
   "execution_count": null
  },
  {
   "cell_type": "markdown",
   "source": [
    "Run simple analysis"
   ],
   "metadata": {}
  },
  {
   "outputs": [],
   "cell_type": "code",
   "source": [
    "diag_fig = run_essential_diagnostics(samples, stats, n_adapts)"
   ],
   "metadata": {},
   "execution_count": null
  },
  {
   "cell_type": "markdown",
   "source": [
    "---\n",
    "\n",
    "*This notebook was generated using [Literate.jl](https://github.com/fredrikekre/Literate.jl).*"
   ],
   "metadata": {}
  }
 ],
 "nbformat_minor": 3,
 "metadata": {
  "language_info": {
   "file_extension": ".jl",
   "mimetype": "application/julia",
   "name": "julia",
   "version": "1.11.5"
  },
  "kernelspec": {
   "name": "julia-1.11",
   "display_name": "Julia 1.11.5",
   "language": "julia"
  }
 },
 "nbformat": 4
}
