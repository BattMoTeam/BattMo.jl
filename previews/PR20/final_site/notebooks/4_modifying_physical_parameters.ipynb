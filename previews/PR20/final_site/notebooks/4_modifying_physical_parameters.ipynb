{
 "cells": [
  {
   "cell_type": "markdown",
   "source": [
    "# Change input parameters"
   ],
   "metadata": {}
  },
  {
   "cell_type": "markdown",
   "source": [
    "One way to change the values of our input parameters is the alter the value in the JSON file, which speaks for itself.\n",
    "But, as we saw in the first tutorial, BattMo uses the function `readBattMoJsonInputFile` to convert the JSON data to a Julia dict before running the simulation.\n",
    "Therefore, it is also possible to change the input parameters by altering the dict."
   ],
   "metadata": {}
  },
  {
   "cell_type": "markdown",
   "source": [
    "We create the input parameter dict like shown in the first tutorial."
   ],
   "metadata": {}
  },
  {
   "outputs": [],
   "cell_type": "code",
   "source": [
    "using BattMo\n",
    "\n",
    "file_name = \"p2d_40_jl_chen2020.json\"\n",
    "file_path = string(dirname(pathof(BattMo)), \"/../test/data/jsonfiles/\", file_name)\n",
    "\n",
    "inputparams = readBattMoJsonInputFile(file_path)"
   ],
   "metadata": {},
   "execution_count": null
  },
  {
   "cell_type": "markdown",
   "source": [
    "We have an `inputparams` object that corresponds to the json file\n",
    "[p2d_40_jl_chen2020.json](https://github.com/BattMoTeam/BattMo.jl/blob/main/test/data/jsonfiles/p2d_40_jl_chen2020.json)\n",
    "which we can investigate directly."
   ],
   "metadata": {}
  },
  {
   "cell_type": "markdown",
   "source": [
    "We can for example inspect the parameters for the electrolyte"
   ],
   "metadata": {}
  },
  {
   "outputs": [],
   "cell_type": "code",
   "source": [
    "inputparams[\"Electrolyte\"]"
   ],
   "metadata": {},
   "execution_count": null
  },
  {
   "cell_type": "markdown",
   "source": [
    "or of the interface of the negative electrode. At the interface level, we find all the parameters related to the\n",
    "interface reactions."
   ],
   "metadata": {}
  },
  {
   "outputs": [],
   "cell_type": "code",
   "source": [
    "interfaceparams = inputparams[\"NegativeElectrode\"][\"Coating\"][\"ActiveMaterial\"][\"Interface\"]"
   ],
   "metadata": {},
   "execution_count": null
  },
  {
   "cell_type": "markdown",
   "source": [
    "We can directly change one of these parameters. Let us for example change the reaction rate constant,"
   ],
   "metadata": {}
  },
  {
   "outputs": [],
   "cell_type": "code",
   "source": [
    "interfaceparams[\"reactionRateConstant\"] = 1e-13\n",
    "nothing # hide"
   ],
   "metadata": {},
   "execution_count": null
  },
  {
   "cell_type": "markdown",
   "source": [
    "We re-run the simulation and observe the impact on the solution"
   ],
   "metadata": {}
  },
  {
   "outputs": [],
   "cell_type": "code",
   "source": [
    "output = run_battery(inputparams)\n",
    "states = output[:states]\n",
    "t = [state[:Control][:ControllerCV].time for state in states]\n",
    "E = [state[:Control][:Phi][1] for state in states]\n",
    "I = [state[:Control][:Current][1] for state in states]\n",
    "using GLMakie # hide\n",
    "fig = Figure()\n",
    "ax = Axis(fig[1, 1], ylabel = \"Voltage / V\", xlabel = \"Time / s\", title = \"Discharge curve\")\n",
    "lines!(ax, t, E)\n",
    "ax = Axis(fig[1, 2], ylabel = \"Current / I\", xlabel = \"Time / s\", title = \"Discharge curve\")\n",
    "lines!(ax, t, I)\n",
    "fig"
   ],
   "metadata": {},
   "execution_count": null
  },
  {
   "cell_type": "markdown",
   "source": [
    "To compare the results, let us reload the previous input file and run it"
   ],
   "metadata": {}
  },
  {
   "outputs": [],
   "cell_type": "code",
   "source": [
    "inputparams2 = readBattMoJsonInputFile(file_path)\n",
    "output2 = run_battery(inputparams2)\n",
    "nothing # hide"
   ],
   "metadata": {},
   "execution_count": null
  },
  {
   "cell_type": "markdown",
   "source": [
    "We plot both curves"
   ],
   "metadata": {}
  },
  {
   "outputs": [],
   "cell_type": "code",
   "source": [
    "t2 = [state[:Control][:ControllerCV].time for state in output2[:states]]\n",
    "E2 = [state[:Control][:Phi][1] for state in output2[:states]]\n",
    "I2 = [state[:Control][:Current][1] for state in output2[:states]]\n",
    "\n",
    "fig = Figure()\n",
    "ax = Axis(fig[1, 1], ylabel = \"Voltage / V\", xlabel = \"Time / s\", title = \"Discharge curve\")\n",
    "lines!(ax, t, E)\n",
    "lines!(ax, t2, E2)\n",
    "ax = Axis(fig[1, 2], ylabel = \"Current / A\", xlabel = \"Time / s\")\n",
    "lines!(ax, t, I, label = \"intial value\")\n",
    "lines!(ax, t2, I2, label = \"updated value\")\n",
    "fig[1, 3] = Legend(fig, ax, \"Reaction rate\", framevisible = false)\n",
    "fig # hide"
   ],
   "metadata": {},
   "execution_count": null
  },
  {
   "cell_type": "markdown",
   "source": [
    "Then, it becomes clear that the values can be changed programatically. We iterate over a range of reaction rate and\n",
    "collect the results in the `outputs` list. In the simulation configuration keywords `config_kwargs` we pass to\n",
    "`run_battery`, we add the options of not printing out the full simulation report at the end of the simulation."
   ],
   "metadata": {}
  },
  {
   "outputs": [],
   "cell_type": "code",
   "source": [
    "outputs = []\n",
    "for r in range(5e-11, 1e-13, length = 5)\n",
    "    interfaceparams[\"reactionRateConstant\"] = r\n",
    "    push!(outputs, run_battery(inputparams; config_kwargs = (;end_report = false)))\n",
    "end\n",
    "nothing # hide"
   ],
   "metadata": {},
   "execution_count": null
  },
  {
   "cell_type": "markdown",
   "source": [
    "We can then plot the results and observe that reaction rate constant is not really a limiting factor before we reache\n",
    "the value of 1e-13."
   ],
   "metadata": {}
  },
  {
   "outputs": [],
   "cell_type": "code",
   "source": [
    "using Printf\n",
    "fig = Figure()\n",
    "ax = Axis(fig[1, 1], ylabel = \"Voltage / V\", xlabel = \"Time / s\", title = \"Discharge curve\")\n",
    "for output in outputs\n",
    "    local t = [state[:Control][:ControllerCV].time for state in output[:states]]\n",
    "    local E = [state[:Control][:Phi][1] for state in output[:states]]\n",
    "    local r = output[:extra][:inputparams][\"NegativeElectrode\"][\"Coating\"][\"ActiveMaterial\"][\"Interface\"][\"reactionRateConstant\"]\n",
    "    lines!(ax, t, E, label = \"$(@sprintf(\"%g\", r))\")\n",
    "end\n",
    "fig[1, 2] = Legend(fig, ax, \"Reaction rate\", framevisible = false)\n",
    "fig # hide"
   ],
   "metadata": {},
   "execution_count": null
  },
  {
   "cell_type": "markdown",
   "source": [
    "---\n",
    "\n",
    "*This notebook was generated using [Literate.jl](https://github.com/fredrikekre/Literate.jl).*"
   ],
   "metadata": {}
  }
 ],
 "nbformat_minor": 3,
 "metadata": {
  "language_info": {
   "file_extension": ".jl",
   "mimetype": "application/julia",
   "name": "julia",
   "version": "1.11.4"
  },
  "kernelspec": {
   "name": "julia-1.11",
   "display_name": "Julia 1.11.4",
   "language": "julia"
  }
 },
 "nbformat": 4
}
