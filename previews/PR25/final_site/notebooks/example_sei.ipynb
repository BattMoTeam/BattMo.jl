{
 "cells": [
  {
   "cell_type": "markdown",
   "source": [
    "# Example with SEI layer"
   ],
   "metadata": {}
  },
  {
   "cell_type": "markdown",
   "source": [
    "## Preparation of the input"
   ],
   "metadata": {}
  },
  {
   "outputs": [],
   "cell_type": "code",
   "source": [
    "using Jutul, BattMo, GLMakie"
   ],
   "metadata": {},
   "execution_count": null
  },
  {
   "cell_type": "markdown",
   "source": [
    "We use the SEI model presented in [bolay2022](@cite). We use the json data given in [bolay.json](https://github.com/BattMoTeam/BattMo.jl/blob/main/test/data/jsonfiles/bolay.json#L157) which contains the parameters for the SEI layer."
   ],
   "metadata": {}
  },
  {
   "outputs": [],
   "cell_type": "code",
   "source": [
    "name = \"bolay\"\n",
    "fn = string(dirname(pathof(BattMo)), \"/../test/data/jsonfiles/\", name, \".json\")\n",
    "inputparams = readBattMoJsonInputFile(fn)\n",
    "nothing # hide"
   ],
   "metadata": {},
   "execution_count": null
  },
  {
   "cell_type": "markdown",
   "source": [
    "We retrieve the parameters for the SEI layer, using the fact that their names have a \"SEI\" prefix."
   ],
   "metadata": {}
  },
  {
   "outputs": [],
   "cell_type": "code",
   "source": [
    "interfaceparams = inputparams[\"NegativeElectrode\"][\"Coating\"][\"ActiveMaterial\"][\"Interface\"]\n",
    "Dict([pair  for pair in interfaceparams if occursin(\"SEI\", pair.first)])"
   ],
   "metadata": {},
   "execution_count": null
  },
  {
   "cell_type": "markdown",
   "source": [
    "## We start the simulation and retrieve the result"
   ],
   "metadata": {}
  },
  {
   "outputs": [],
   "cell_type": "code",
   "source": [
    "output = run_battery(inputparams)\n",
    "\n",
    "states = output[:states]\n",
    "\n",
    "t = [state[:Control][:ControllerCV].time for state in states]\n",
    "E = [state[:Control][:Phi][1] for state in states]\n",
    "I = [state[:Control][:Current][1] for state in states]\n",
    "nothing # hide"
   ],
   "metadata": {},
   "execution_count": null
  },
  {
   "cell_type": "markdown",
   "source": [
    "## Plot of voltage and current"
   ],
   "metadata": {}
  },
  {
   "outputs": [],
   "cell_type": "code",
   "source": [
    "f = Figure(size = (1000, 400))\n",
    "\n",
    "ax = Axis(f[1, 1],\n",
    "          title     = \"Voltage\",\n",
    "          xlabel    = \"Time / s\",\n",
    "          ylabel    = \"Voltage / V\",\n",
    "          xlabelsize = 25,\n",
    "          ylabelsize = 25,\n",
    "          xticklabelsize = 25,\n",
    "          yticklabelsize = 25\n",
    "          )\n",
    "\n",
    "scatterlines!(ax,\n",
    "              t,\n",
    "              E;\n",
    "              linewidth = 4,\n",
    "              markersize = 10,\n",
    "              marker = :cross,\n",
    "              markercolor = :black,\n",
    "              label = \"Julia\"\n",
    "              )\n",
    "\n",
    "ax = Axis(f[1, 2],\n",
    "          title     = \"Current\",\n",
    "          xlabel    = \"Time / s\",\n",
    "          ylabel    = \"Current / A\",\n",
    "          xlabelsize = 25,\n",
    "          ylabelsize = 25,\n",
    "          xticklabelsize = 25,\n",
    "          yticklabelsize = 25\n",
    "          )\n",
    "\n",
    "scatterlines!(ax,\n",
    "              t,\n",
    "              I;\n",
    "              linewidth = 4,\n",
    "              markersize = 10,\n",
    "              marker = :cross,\n",
    "              markercolor = :black,\n",
    "              label = \"Julia\"\n",
    "              )\n",
    "\n",
    "display(GLMakie.Screen(), f) # hide\n",
    "f # hide"
   ],
   "metadata": {},
   "execution_count": null
  },
  {
   "cell_type": "markdown",
   "source": [
    "## Plot of SEI length"
   ],
   "metadata": {}
  },
  {
   "cell_type": "markdown",
   "source": [
    "We recover the SEI length from the `state` output"
   ],
   "metadata": {}
  },
  {
   "outputs": [],
   "cell_type": "code",
   "source": [
    "seilength = [state[:NeAm][:SEIlength][end] for state in states]\n",
    "\n",
    "f = Figure(size = (1000, 400))\n",
    "\n",
    "ax = Axis(f[1, 1],\n",
    "          title     = \"Length\",\n",
    "          xlabel    = \"Time / s\",\n",
    "          ylabel    = \"Length / m\",\n",
    "          xlabelsize = 25,\n",
    "          ylabelsize = 25,\n",
    "          xticklabelsize = 25,\n",
    "          yticklabelsize = 25\n",
    "          )\n",
    "\n",
    "scatterlines!(ax,\n",
    "              t,\n",
    "              seilength;\n",
    "              linewidth = 4,\n",
    "              markersize = 10,\n",
    "              marker = :cross,\n",
    "              markercolor = :black)\n",
    "\n",
    "ax = Axis(f[2, 1],\n",
    "          title     = \"Length\",\n",
    "          xlabel    = \"Time / s\",\n",
    "          ylabel    = \"Voltage / V\",\n",
    "          xlabelsize = 25,\n",
    "          ylabelsize = 25,\n",
    "          xticklabelsize = 25,\n",
    "          yticklabelsize = 25\n",
    "          )\n",
    "\n",
    "scatterlines!(ax,\n",
    "              t,\n",
    "              E;\n",
    "              linewidth = 4,\n",
    "              markersize = 10,\n",
    "              marker = :cross,\n",
    "              markercolor = :black)\n",
    "\n",
    "display(GLMakie.Screen(),f) # hide\n",
    "f # hide"
   ],
   "metadata": {},
   "execution_count": null
  },
  {
   "cell_type": "markdown",
   "source": [
    "---\n",
    "\n",
    "*This notebook was generated using [Literate.jl](https://github.com/fredrikekre/Literate.jl).*"
   ],
   "metadata": {}
  }
 ],
 "nbformat_minor": 3,
 "metadata": {
  "language_info": {
   "file_extension": ".jl",
   "mimetype": "application/julia",
   "name": "julia",
   "version": "1.11.4"
  },
  "kernelspec": {
   "name": "julia-1.11",
   "display_name": "Julia 1.11.4",
   "language": "julia"
  }
 },
 "nbformat": 4
}
