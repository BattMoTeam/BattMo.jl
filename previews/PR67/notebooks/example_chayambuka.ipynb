{
 "cells": [
  {
   "cell_type": "markdown",
   "source": [
    "# Sodium ion modeling"
   ],
   "metadata": {}
  },
  {
   "cell_type": "markdown",
   "source": [
    "This is an example for showing a sodium ion simulation based on [Chayambuka2022](https://www.sciencedirect.com/science/article/pii/S0013468621020478?via%3Dihub).\n",
    "There is hardly any difference between the sodium ion and lithium ion PXD basis model and equations. The only difference is that for the SodiumIonBattery model\n",
    "you can chose a slightly adapted butler volmer equation from [Chayambuka2022](https://www.sciencedirect.com/science/article/pii/S0013468621020478?via%3Dihub). See documentation for more information."
   ],
   "metadata": {}
  },
  {
   "outputs": [],
   "cell_type": "code",
   "source": [
    "using BattMo, GLMakie\n",
    "\n",
    "battmo_base = normpath(joinpath(pathof(BattMo) |> splitdir |> first, \"..\"))\n",
    "include(joinpath(battmo_base, \"src/input/defaults/cell_parameters/Chayambuka_functions.jl\"))\n",
    "\n",
    "######### Load Simulation Data #########\n",
    "\n",
    "cell_parameters = load_cell_parameters(; from_default_set = \"Chayambuka2022\")\n",
    "cycling_protocol = load_cycling_protocol(; from_default_set = \"CCDischarge\")\n",
    "model_settings = load_model_settings(; from_default_set = \"P2D\")\n",
    "simulation_settings = load_simulation_settings(; from_default_set = \"P2D\")\n",
    "\n",
    "######### Alter model settings #########\n",
    "model_settings[\"ButlerVolmer\"] = \"Chayambuka\"\n",
    "\n",
    "######### Alter simulation settings #########\n",
    "simulation_settings[\"GridResolution\"][\"NegativeElectrodeCoating\"] = 8\n",
    "simulation_settings[\"GridResolution\"][\"PositiveElectrodeCoating\"] = 50\n",
    "simulation_settings[\"GridResolution\"][\"NegativeElectrodeActiveMaterial\"] = 50\n",
    "simulation_settings[\"GridResolution\"][\"PositiveElectrodeActiveMaterial\"] = 50\n",
    "simulation_settings[\"GridResolution\"][\"Separator\"] = 5\n",
    "\n",
    "######### Alter cycling protocol #########\n",
    "cycling_protocol[\"InitialStateOfCharge\"] = 0.99\n",
    "cycling_protocol[\"LowerVoltageLimit\"] = 2.0\n",
    "cycling_protocol[\"UpperVoltageLimit\"] = 4.2\n",
    "\n",
    "######### Run simulation ##########\n",
    "\n",
    "model = SodiumIonBattery(; model_settings);\n",
    "\n",
    "drates = [0.1, 0.5, 1.2, 1.4]\n",
    "delta_t = [200, 50, 50, 50]\n",
    "\n",
    "fig = Figure()\n",
    "ax = Axis(fig[1, 1], title = \"Voltage\", xlabel = \"Capacity / mAh\", ylabel = \"Voltage / V\")\n",
    "outputs_crate = []\n",
    "for (i, rate) in enumerate(drates)\n",
    "\n",
    "\tcycling_protocol[\"DRate\"] = rate\n",
    "\tsimulation_settings[\"TimeStepDuration\"] = delta_t[i]\n",
    "\n",
    "\tsim = Simulation(model, cell_parameters, cycling_protocol; simulation_settings)\n",
    "\n",
    "\toutput = solve(sim;)\n",
    "\ttime_series = get_output_time_series(output)\n",
    "\n",
    "\tlines!(ax, time_series[:Capacity] .* 1000, time_series[:Voltage], label = \"$rate C\")\n",
    "\n",
    "end\n",
    "\n",
    "axislegend(position = :lb)\n",
    "fig"
   ],
   "metadata": {},
   "execution_count": null
  },
  {
   "cell_type": "markdown",
   "source": [
    "---\n",
    "\n",
    "*This notebook was generated using [Literate.jl](https://github.com/fredrikekre/Literate.jl).*"
   ],
   "metadata": {}
  }
 ],
 "nbformat_minor": 3,
 "metadata": {
  "language_info": {
   "file_extension": ".jl",
   "mimetype": "application/julia",
   "name": "julia",
   "version": "1.11.3"
  },
  "kernelspec": {
   "name": "julia-1.11",
   "display_name": "Julia 1.11.3",
   "language": "julia"
  }
 },
 "nbformat": 4
}
