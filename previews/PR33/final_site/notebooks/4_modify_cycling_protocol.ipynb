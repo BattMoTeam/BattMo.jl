{
 "cells": [
  {
   "cell_type": "markdown",
   "source": [
    "# Exploring the Impact of C-Rate in a CC Discharge Protocol"
   ],
   "metadata": {}
  },
  {
   "cell_type": "markdown",
   "source": [
    "In this tutorial, we’ll demonstrate how to programmatically modify a cycling protocol—specifically, the C-rate in a constant-current (CC)\n",
    "discharge protocol—and examine its effect on battery performance and capacity."
   ],
   "metadata": {}
  },
  {
   "cell_type": "markdown",
   "source": [
    "### Load Required Packages and Data\n",
    "We start by loading the necessary parameters sets and instantiating a model. For the cyling protocol, we'll start from the default constant current discharge protocol."
   ],
   "metadata": {}
  },
  {
   "outputs": [],
   "cell_type": "code",
   "source": [
    "using BattMo, GLMakie, Printf"
   ],
   "metadata": {},
   "execution_count": null
  },
  {
   "cell_type": "markdown",
   "source": [
    "Load cell and model setup"
   ],
   "metadata": {}
  },
  {
   "outputs": [],
   "cell_type": "code",
   "source": [
    "cell_path = string(dirname(pathof(BattMo)), \"/../src/input/defaults/cell_parameters/\", \"Chen2020_calibrated.json\")\n",
    "cycling_path = string(dirname(pathof(BattMo)), \"/../src/input/defaults/cycling_protocols/\", \"CCDischarge.json\")\n",
    "\n",
    "cell_parameters = load_cell_parameters(; from_file_path = cell_path)\n",
    "cc_discharge_protocol = load_cycling_protocol(; from_file_path = cycling_path)"
   ],
   "metadata": {},
   "execution_count": null
  },
  {
   "cell_type": "markdown",
   "source": [
    "Load default model"
   ],
   "metadata": {}
  },
  {
   "outputs": [],
   "cell_type": "code",
   "source": [
    "model = LithiumIonBatteryModel()"
   ],
   "metadata": {},
   "execution_count": null
  },
  {
   "cell_type": "markdown",
   "source": [
    "### Modify the Cycling Protocol – Varying the C-Rate"
   ],
   "metadata": {}
  },
  {
   "cell_type": "markdown",
   "source": [
    "We can have a look at the content of the CylingProtocol object:"
   ],
   "metadata": {}
  },
  {
   "outputs": [],
   "cell_type": "code",
   "source": [
    "cc_discharge_protocol.all"
   ],
   "metadata": {},
   "execution_count": null
  },
  {
   "cell_type": "markdown",
   "source": [
    "Let’s define the range of C-rates to explore:"
   ],
   "metadata": {}
  },
  {
   "outputs": [],
   "cell_type": "code",
   "source": [
    "c_rates = [0.2, 0.5, 1.0, 2.0]"
   ],
   "metadata": {},
   "execution_count": null
  },
  {
   "cell_type": "markdown",
   "source": [
    "Now loop through these values, update the protocol, and store the results:"
   ],
   "metadata": {}
  },
  {
   "outputs": [],
   "cell_type": "code",
   "source": [
    "outputs = []\n",
    "\n",
    "for c_rate in c_rates\n",
    "\tprotocol = deepcopy(cc_discharge_protocol)\n",
    "\tprotocol[\"DRate\"] = c_rate\n",
    "\n",
    "\tsim = Simulation(model, cell_parameters, protocol)\n",
    "\toutput = solve(sim; config_kwargs = (; end_report = false))\n",
    "\tpush!(outputs, (c_rate = c_rate, output = output))\n",
    "end\n",
    "nothing # hide"
   ],
   "metadata": {},
   "execution_count": null
  },
  {
   "cell_type": "markdown",
   "source": [
    "### Analyze Voltage and Capacity\n",
    "We'll extract the voltage vs. time and delivered capacity for each C-rate:"
   ],
   "metadata": {}
  },
  {
   "outputs": [],
   "cell_type": "code",
   "source": [
    "fig = Figure(size = (1000, 400))\n",
    "ax1 = Axis(fig[1, 1], title = \"Voltage vs Time\", xlabel = \"Time / s\", ylabel = \"Voltage / V\")\n",
    "\n",
    "for result in outputs\n",
    "\n",
    "\tstates = result.output[:states]\n",
    "\tt = [state[:Control][:Controller].time for state in states]\n",
    "\tE = [state[:Control][:Phi][1] for state in states]\n",
    "\tI = [state[:Control][:Current][1] for state in states]\n",
    "\n",
    "\tlabel_str = @sprintf(\"%.1fC\", result.c_rate)\n",
    "\tlines!(ax1, t, E, label = label_str)\n",
    "\n",
    "end\n",
    "\n",
    "fig[1, 3] = Legend(fig, ax1, \"C-rates\", framevisible = false)\n",
    "fig"
   ],
   "metadata": {},
   "execution_count": null
  },
  {
   "cell_type": "markdown",
   "source": [
    "---\n",
    "\n",
    "*This notebook was generated using [Literate.jl](https://github.com/fredrikekre/Literate.jl).*"
   ],
   "metadata": {}
  }
 ],
 "nbformat_minor": 3,
 "metadata": {
  "language_info": {
   "file_extension": ".jl",
   "mimetype": "application/julia",
   "name": "julia",
   "version": "1.11.5"
  },
  "kernelspec": {
   "name": "julia-1.11",
   "display_name": "Julia 1.11.5",
   "language": "julia"
  }
 },
 "nbformat": 4
}
