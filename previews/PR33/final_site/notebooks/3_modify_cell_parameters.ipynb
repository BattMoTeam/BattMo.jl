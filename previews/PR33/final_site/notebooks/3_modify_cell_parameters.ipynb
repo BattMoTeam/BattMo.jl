{
 "cells": [
  {
   "cell_type": "markdown",
   "source": [
    "# Exploring the impact of the reaction rate constant"
   ],
   "metadata": {}
  },
  {
   "cell_type": "markdown",
   "source": [
    "To change cell parameters, cycling protocols and settings, we can modify the JSON files directly, or we can read\n",
    "them into objects in the script and modify them as Dictionaries."
   ],
   "metadata": {}
  },
  {
   "cell_type": "markdown",
   "source": [
    "Lets first read the parameters from the JSON files."
   ],
   "metadata": {}
  },
  {
   "cell_type": "markdown",
   "source": [
    "###  Load Input Files and Initialize Model"
   ],
   "metadata": {}
  },
  {
   "cell_type": "markdown",
   "source": [
    "We begin by loading the parameter files:"
   ],
   "metadata": {}
  },
  {
   "outputs": [],
   "cell_type": "code",
   "source": [
    "using BattMo\n",
    "\n",
    "file_path_cell = string(dirname(pathof(BattMo)), \"/../src/input/defaults/cell_parameters/\", \"Chen2020_calibrated.json\")\n",
    "file_path_cycling = string(dirname(pathof(BattMo)), \"/../src/input/defaults/cycling_protocols/\", \"CCDischarge.json\")\n",
    "\n",
    "cell_parameters = load_cell_parameters(; from_file_path = file_path_cell)\n",
    "cycling_protocol = load_cycling_protocol(; from_file_path = file_path_cycling)\n",
    "nothing # hide"
   ],
   "metadata": {},
   "execution_count": null
  },
  {
   "cell_type": "markdown",
   "source": [
    "### Explore and Modify Parameters"
   ],
   "metadata": {}
  },
  {
   "cell_type": "markdown",
   "source": [
    "We can inspect different parameter groups in the loaded parameter sets using search_parameter. For example, we'd like to now how electrode related objects and parameters are named:"
   ],
   "metadata": {}
  },
  {
   "outputs": [],
   "cell_type": "code",
   "source": [
    "search_parameter(cell_parameters, \"Electrode\")"
   ],
   "metadata": {},
   "execution_count": null
  },
  {
   "cell_type": "markdown",
   "source": [
    "Another example where we'd like to now which concentration parameters are part of the parameter set:"
   ],
   "metadata": {}
  },
  {
   "outputs": [],
   "cell_type": "code",
   "source": [
    "search_parameter(cell_parameters, \"Concentration\")"
   ],
   "metadata": {},
   "execution_count": null
  },
  {
   "cell_type": "markdown",
   "source": [
    "Lets access what is inside the Separator key."
   ],
   "metadata": {}
  },
  {
   "outputs": [],
   "cell_type": "code",
   "source": [
    "cell_parameters[\"Separator\"]"
   ],
   "metadata": {},
   "execution_count": null
  },
  {
   "cell_type": "markdown",
   "source": [
    "We have a flat list of parameters and values for the separator. In other cases, a key might nest other dictionaries,\n",
    "which can be accessed using the normal dictionary notation. Lets see for instance the  active material parameters of\n",
    "the negative electrode."
   ],
   "metadata": {}
  },
  {
   "outputs": [],
   "cell_type": "code",
   "source": [
    "cell_parameters[\"NegativeElectrode\"][\"ActiveMaterial\"]"
   ],
   "metadata": {},
   "execution_count": null
  },
  {
   "cell_type": "markdown",
   "source": [
    "### Editing scalar parameters"
   ],
   "metadata": {}
  },
  {
   "cell_type": "markdown",
   "source": [
    "Parameter that take single numerical values (e.g. real, integers, booleans) can be directly modified. Examples:"
   ],
   "metadata": {}
  },
  {
   "outputs": [],
   "cell_type": "code",
   "source": [
    "cell_parameters[\"NegativeElectrode\"][\"ActiveMaterial\"][\"ReactionRateConstant\"] = 1e-13\n",
    "nothing # hide\n",
    "\n",
    "cell_parameters[\"PositiveElectrode\"][\"ElectrodeCoating\"][\"Thickness\"] = 8.2e-5\n",
    "nothing # hide"
   ],
   "metadata": {},
   "execution_count": null
  },
  {
   "cell_type": "markdown",
   "source": [
    "### Editing non-scalar parameters"
   ],
   "metadata": {}
  },
  {
   "cell_type": "markdown",
   "source": [
    "Some parameters are described as functions or arrays, since the parameter value depends on other variables. For instance\n",
    "the Open Circuit Potentials of the Active Materials depend on the lithium stoichiometry and temperature."
   ],
   "metadata": {}
  },
  {
   "cell_type": "markdown",
   "source": [
    "> MISSING"
   ],
   "metadata": {}
  },
  {
   "cell_type": "markdown",
   "source": [
    "### Compare simulations"
   ],
   "metadata": {}
  },
  {
   "cell_type": "markdown",
   "source": [
    "After the updates, we instantiate the model and the simulations, verify the simulations to be valid,\n",
    "and run it as in the first tutorial."
   ],
   "metadata": {}
  },
  {
   "outputs": [],
   "cell_type": "code",
   "source": [
    "model = LithiumIonBatteryModel()\n",
    "\n",
    "sim = Simulation(model, cell_parameters, cycling_protocol)\n",
    "\n",
    "output = solve(sim);\n",
    "\n",
    "states = output[:states]\n",
    "t = [state[:Control][:Controller].time for state in states]\n",
    "E = [state[:Control][:Phi][1] for state in states]\n",
    "I = [state[:Control][:Current][1] for state in states]\n",
    "using GLMakie # hide\n",
    "fig = Figure()\n",
    "ax = Axis(fig[1, 1], ylabel = \"Voltage / V\", xlabel = \"Time / s\", title = \"Discharge curve\")\n",
    "lines!(ax, t, E)\n",
    "ax = Axis(fig[1, 2], ylabel = \"Current / I\", xlabel = \"Time / s\", title = \"Discharge curve\")\n",
    "lines!(ax, t, I)\n",
    "fig"
   ],
   "metadata": {},
   "execution_count": null
  },
  {
   "cell_type": "markdown",
   "source": [
    "### Compare with Original Parameters"
   ],
   "metadata": {}
  },
  {
   "cell_type": "markdown",
   "source": [
    "Let’s reload the original parameters and simulate again to compare:"
   ],
   "metadata": {}
  },
  {
   "outputs": [],
   "cell_type": "code",
   "source": [
    "cell_parameters_2 = load_cell_parameters(; from_file_path = file_path_cell)\n",
    "sim2 = Simulation(model, cell_parameters_2, cycling_protocol);\n",
    "output2 = solve(sim2)\n",
    "nothing # hide"
   ],
   "metadata": {},
   "execution_count": null
  },
  {
   "cell_type": "markdown",
   "source": [
    "Now, plot the original and modified results:"
   ],
   "metadata": {}
  },
  {
   "outputs": [],
   "cell_type": "code",
   "source": [
    "t2 = [state[:Control][:Controller].time for state in output2[:states]]\n",
    "E2 = [state[:Control][:Phi][1] for state in output2[:states]]\n",
    "I2 = [state[:Control][:Current][1] for state in output2[:states]]\n",
    "\n",
    "fig = Figure()\n",
    "ax = Axis(fig[1, 1], ylabel = \"Voltage / V\", xlabel = \"Time / s\", title = \"Discharge curve\")\n",
    "lines!(ax, t, E)\n",
    "lines!(ax, t2, E2)\n",
    "ax = Axis(fig[1, 2], ylabel = \"Current / A\", xlabel = \"Time / s\")\n",
    "lines!(ax, t, I, label = \"intial value\")\n",
    "lines!(ax, t2, I2, label = \"updated value\")\n",
    "fig[1, 3] = Legend(fig, ax, \"Reaction rate\", framevisible = false)\n",
    "fig # hide"
   ],
   "metadata": {},
   "execution_count": null
  },
  {
   "cell_type": "markdown",
   "source": [
    "### Sweep Over Reaction Rate Constants\n",
    "We can now explore how the reaction rate constant affects the battery performance. We loop over a range of values, update the parameter, and collect results:"
   ],
   "metadata": {}
  },
  {
   "outputs": [],
   "cell_type": "code",
   "source": [
    "outputs = []\n",
    "for r in range(5e-11, 1e-13, length = 5)\n",
    "\tcell_parameters[\"NegativeElectrode\"][\"ActiveMaterial\"][\"ReactionRateConstant\"] = r\n",
    "\tsim3 = Simulation(model, cell_parameters, cycling_protocol)\n",
    "\tresult = solve(sim3; config_kwargs = (; end_report = false))\n",
    "\tpush!(outputs, (r = r, output = result))  # store r together with output\n",
    "end\n",
    "nothing # hide"
   ],
   "metadata": {},
   "execution_count": null
  },
  {
   "cell_type": "markdown",
   "source": [
    "Now, plot the discharge curves for each reaction rate:"
   ],
   "metadata": {}
  },
  {
   "outputs": [],
   "cell_type": "code",
   "source": [
    "using Printf\n",
    "fig = Figure()\n",
    "ax = Axis(fig[1, 1], ylabel = \"Voltage / V\", xlabel = \"Time / s\", title = \"Discharge curve\")\n",
    "\n",
    "for data in outputs\n",
    "\tlocal t = [state[:Control][:Controller].time for state in data.output[:states]]\n",
    "\tlocal E = [state[:Control][:Phi][1] for state in data.output[:states]]\n",
    "\tlines!(ax, t, E, label = @sprintf(\"%.1e\", data.r))\n",
    "end\n",
    "\n",
    "fig[1, 2] = Legend(fig, ax, \"Reaction rate\", framevisible = false)\n",
    "fig # hide"
   ],
   "metadata": {},
   "execution_count": null
  },
  {
   "cell_type": "markdown",
   "source": [
    "This clearly demonstrates that the reaction rate constant only becomes a limiting factor as it drops to very low values, such as 1e-13."
   ],
   "metadata": {}
  },
  {
   "cell_type": "markdown",
   "source": [
    "---\n",
    "\n",
    "*This notebook was generated using [Literate.jl](https://github.com/fredrikekre/Literate.jl).*"
   ],
   "metadata": {}
  }
 ],
 "nbformat_minor": 3,
 "metadata": {
  "language_info": {
   "file_extension": ".jl",
   "mimetype": "application/julia",
   "name": "julia",
   "version": "1.11.5"
  },
  "kernelspec": {
   "name": "julia-1.11",
   "display_name": "Julia 1.11.5",
   "language": "julia"
  }
 },
 "nbformat": 4
}
