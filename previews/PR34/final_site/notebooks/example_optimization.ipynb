{
 "cells": [
  {
   "outputs": [],
   "cell_type": "code",
   "source": [
    "using BattMo, Jutul, GLMakie"
   ],
   "metadata": {},
   "execution_count": null
  },
  {
   "cell_type": "markdown",
   "source": [
    "# Initial simulation"
   ],
   "metadata": {}
  },
  {
   "cell_type": "markdown",
   "source": [
    "Run a simulation witht the initial parameter values"
   ],
   "metadata": {}
  },
  {
   "outputs": [],
   "cell_type": "code",
   "source": [
    "name = \"Chen2020_calibrated\"\n",
    "cell_parameters = load_cell_parameters(; from_default_set = name)\n",
    "cycling_protocol = load_cycling_protocol(; from_default_set = \"CCDischarge\")\n",
    "\n",
    "model = LithiumIonBatteryModel()\n",
    "\n",
    "sim = Simulation(model, cell_parameters, cycling_protocol)\n",
    "\n",
    "output_0 = solve(sim)\n",
    "\n",
    "states = output_0[:states]\n",
    "nothing # hide"
   ],
   "metadata": {},
   "execution_count": null
  },
  {
   "cell_type": "markdown",
   "source": [
    "# Specify an objective"
   ],
   "metadata": {}
  },
  {
   "cell_type": "markdown",
   "source": [
    "Objective: Penalize any voltage less than target value of 4.2 (higher than initial voltage for battery)"
   ],
   "metadata": {}
  },
  {
   "outputs": [],
   "cell_type": "code",
   "source": [
    "v_target = 4.2\n",
    "function objective(model, state, dt, step_no, forces)\n",
    "\treturn dt * max(v_target - state[:Control][:Phi][1], 0)^2\n",
    "end"
   ],
   "metadata": {},
   "execution_count": null
  },
  {
   "cell_type": "markdown",
   "source": [
    "# Setup the optimization problem"
   ],
   "metadata": {}
  },
  {
   "outputs": [],
   "cell_type": "code",
   "source": [
    "opt = Optimization(output_0, objective)\n",
    "nothing # hide"
   ],
   "metadata": {},
   "execution_count": null
  },
  {
   "cell_type": "markdown",
   "source": [
    "# Solve the optimization problem"
   ],
   "metadata": {}
  },
  {
   "outputs": [],
   "cell_type": "code",
   "source": [
    "output_tuned = solve(opt)\n",
    "nothing # hide"
   ],
   "metadata": {},
   "execution_count": null
  },
  {
   "cell_type": "markdown",
   "source": [
    "# Plot results"
   ],
   "metadata": {}
  },
  {
   "outputs": [],
   "cell_type": "code",
   "source": [
    "states_tuned = output_tuned[:states]\n",
    "report_tuned = output_tuned[:report]\n",
    "final_x = output_tuned[:final_x]\n",
    "\n",
    "optimization_setup = opt.setup\n",
    "x0 = optimization_setup.x0\n",
    "F0 = optimization_setup.F!(x0)\n",
    "F_final = optimization_setup.F!(final_x)\n",
    "lower = optimization_setup.limits.min\n",
    "upper = optimization_setup.limits.max\n",
    "\n",
    "parameters = opt.parameters\n",
    "opt_model = opt.model\n",
    "data = opt.setup.data\n",
    "\n",
    "\n",
    "\n",
    "fig = Figure()\n",
    "ys = log10\n",
    "ax1 = Axis(fig[1, 1], yscale = ys, title = \"Objective evaluations\", xlabel = \"Iterations\", ylabel = \"Objective\")\n",
    "GLMakie.plot!(ax1, opt.setup[:data][:obj_hist][2:end] .+ 1e-12)\n",
    "fig\n",
    "\n",
    "fig = Figure()\n",
    "ax1 = Axis(fig[1, 1], title = \"Scaled parameters\", ylabel = \"Value\")\n",
    "GLMakie.scatter!(ax1, final_x, label = \"Final X\")\n",
    "GLMakie.scatter!(ax1, x0, label = \"Initial X\")\n",
    "lines!(ax1, lower, label = \"Lower bound\")\n",
    "lines!(ax1, upper, label = \"Upper bound\")\n",
    "axislegend()\n",
    "fig"
   ],
   "metadata": {},
   "execution_count": null
  },
  {
   "cell_type": "markdown",
   "source": [
    "Create a \"state\" that contains the relative change in all parameters"
   ],
   "metadata": {}
  },
  {
   "outputs": [],
   "cell_type": "code",
   "source": [
    "rel_change = final_x ./ x0\n",
    "changed_param = deepcopy(parameters)\n",
    "devectorize_variables!(changed_param, opt_model, final_x, data[:mapper], config = data[:config])\n",
    "for (mk, mv) in changed_param\n",
    "\tfor (k, v) in mv\n",
    "\t\t@. v = v / parameters[mk][k]\n",
    "\tend\n",
    "end"
   ],
   "metadata": {},
   "execution_count": null
  },
  {
   "cell_type": "markdown",
   "source": [
    "Plot difference in the main objective input"
   ],
   "metadata": {}
  },
  {
   "outputs": [],
   "cell_type": "code",
   "source": [
    "F = s -> map(x -> only(x[:Control][:Phi]), s)\n",
    "fig = Figure()\n",
    "ax1 = Axis(fig[1, 1], title = name, ylabel = \"Voltage\")\n",
    "lines!(ax1, F(states), label = \"Base case (G = $F0)\")\n",
    "lines!(ax1, F(states_tuned), label = \"Tuned (G = $F_final)\")\n",
    "lines!(ax1, repeat([v_target], length(states)), label = \"Target voltage\")\n",
    "axislegend(position = (:center, :bottom))\n",
    "fig"
   ],
   "metadata": {},
   "execution_count": null
  },
  {
   "cell_type": "markdown",
   "source": [
    "---\n",
    "\n",
    "*This notebook was generated using [Literate.jl](https://github.com/fredrikekre/Literate.jl).*"
   ],
   "metadata": {}
  }
 ],
 "nbformat_minor": 3,
 "metadata": {
  "language_info": {
   "file_extension": ".jl",
   "mimetype": "application/julia",
   "name": "julia",
   "version": "1.11.5"
  },
  "kernelspec": {
   "name": "julia-1.11",
   "display_name": "Julia 1.11.5",
   "language": "julia"
  }
 },
 "nbformat": 4
}
