{
 "cells": [
  {
   "outputs": [],
   "cell_type": "code",
   "source": [
    "using BattMo, Jutul\n",
    "\n",
    "\n",
    "#######################################################################################################"
   ],
   "metadata": {},
   "execution_count": null
  },
  {
   "cell_type": "markdown",
   "source": [
    "Very rough battery optimization example"
   ],
   "metadata": {}
  },
  {
   "outputs": [],
   "cell_type": "code",
   "source": [
    "name = \"Chen2020_calibrated\"\n",
    "cell_parameters = load_cell_parameters(; from_default_set = name)\n",
    "cycling_protocol = load_cycling_protocol(; from_default_set = \"CCDischarge\")\n",
    "\n",
    "model = LithiumIonBatteryModel()\n",
    "\n",
    "sim = Simulation(model, cell_parameters, cycling_protocol)\n",
    "\n",
    "output_0 = solve(sim)\n",
    "\n",
    "states = output_0[:states]\n",
    "\n",
    "# Compute sensitivities"
   ],
   "metadata": {},
   "execution_count": null
  },
  {
   "cell_type": "markdown",
   "source": [
    "Objective: Penalize any voltage less than target value of 4.2 (higher than\n",
    "initial voltage for battery)"
   ],
   "metadata": {}
  },
  {
   "outputs": [],
   "cell_type": "code",
   "source": [
    "v_target = 4.2\n",
    "function objective(model, state, dt, step_no, forces)\n",
    "\treturn dt * max(v_target - state[:Control][:Phi][1], 0)^2\n",
    "end\n",
    "\n",
    "opt = Optimization(output_0, objective)\n",
    "\n",
    "output_tuned = solve(opt)\n",
    "\n",
    "states_tuned = output_tuned[:states]\n",
    "report_tuned = output_tuned[:report]\n",
    "final_x = output_tuned[:final_x]\n",
    "\n",
    "optimization_setup = opt.setup\n",
    "x0 = optimization_setup.x0\n",
    "F0 = optimization_setup.F!(x0)\n",
    "F_final = optimization_setup.F!(final_x)\n",
    "lower = optimization_setup.limits.min\n",
    "upper = optimization_setup.limits.max\n",
    "\n",
    "parameters = opt.parameters\n",
    "opt_model = opt.model\n",
    "data = opt.setup.data\n",
    "\n",
    "# Plot results\n",
    "\n",
    "using GLMakie\n",
    "\n",
    "fig = Figure()\n",
    "ys = log10\n",
    "ax1 = Axis(fig[1, 1], yscale = ys, title = \"Objective evaluations\", xlabel = \"Iterations\", ylabel = \"Objective\")\n",
    "GLMakie.plot!(ax1, opt.setup[:data][:obj_hist][2:end] .+ 1e-12)\n",
    "fig\n",
    "\n",
    "fig = Figure()\n",
    "ax1 = Axis(fig[1, 1], title = \"Scaled parameters\", ylabel = \"Value\")\n",
    "GLMakie.scatter!(ax1, final_x, label = \"Final X\")\n",
    "GLMakie.scatter!(ax1, x0, label = \"Initial X\")\n",
    "lines!(ax1, lower, label = \"Lower bound\")\n",
    "lines!(ax1, upper, label = \"Upper bound\")\n",
    "axislegend()\n",
    "fig\n",
    "\n",
    "# Create a \"state\" that contains the relative change in all parameters\n",
    "\n",
    "rel_change = final_x ./ x0\n",
    "changed_param = deepcopy(parameters)\n",
    "devectorize_variables!(changed_param, opt_model, final_x, data[:mapper], config = data[:config])\n",
    "for (mk, mv) in changed_param\n",
    "\tfor (k, v) in mv\n",
    "\t\t@. v = v / parameters[mk][k]\n",
    "\tend\n",
    "end\n",
    "\n",
    "# Plot difference in the main objective input\n",
    "\n",
    "F = s -> map(x -> only(x[:Control][:Phi]), s)\n",
    "fig = Figure()\n",
    "ax1 = Axis(fig[1, 1], title = name, ylabel = \"Voltage\")\n",
    "lines!(ax1, F(states), label = \"Base case (G = $F0)\")\n",
    "lines!(ax1, F(states_tuned), label = \"Tuned (G = $F_final)\")\n",
    "lines!(ax1, repeat([v_target], length(states)), label = \"Target voltage\")\n",
    "axislegend(position = (:center, :bottom))\n",
    "fig"
   ],
   "metadata": {},
   "execution_count": null
  },
  {
   "cell_type": "markdown",
   "source": [
    "---\n",
    "\n",
    "*This notebook was generated using [Literate.jl](https://github.com/fredrikekre/Literate.jl).*"
   ],
   "metadata": {}
  }
 ],
 "nbformat_minor": 3,
 "metadata": {
  "language_info": {
   "file_extension": ".jl",
   "mimetype": "application/julia",
   "name": "julia",
   "version": "1.11.5"
  },
  "kernelspec": {
   "name": "julia-1.11",
   "display_name": "Julia 1.11.5",
   "language": "julia"
  }
 },
 "nbformat": 4
}
