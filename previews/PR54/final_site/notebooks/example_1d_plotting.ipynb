{
 "cells": [
  {
   "outputs": [],
   "cell_type": "code",
   "source": [
    "using BattMo, GLMakie\n",
    "\n",
    "model_settings = load_model_settings(; from_default_set = \"P2D\")\n",
    "model_settings[\"SEIModel\"] = \"Bolay\"\n",
    "cell_parameters = load_cell_parameters(; from_default_set = \"SEI_example\")\n",
    "cycling_protocol = load_cycling_protocol(; from_default_set = \"CCCV\")\n",
    "simulation_settings = load_simulation_settings(; from_default_set = \"P2D\")\n",
    "\n",
    "model_setup = LithiumIonBattery(; model_settings)\n",
    "\n",
    "sim = Simulation(model_setup, cell_parameters, cycling_protocol);\n",
    "\n",
    "output = solve(sim;)\n",
    "\n",
    "print_output_overview(output)\n",
    "\n",
    "\n",
    "time_series = get_output_time_series(output)\n",
    "states = get_output_states(output)\n",
    "metrics = get_output_metrics(output)"
   ],
   "metadata": {},
   "execution_count": null
  },
  {
   "cell_type": "markdown",
   "source": [
    "Plot a pre-defined dashboard"
   ],
   "metadata": {}
  },
  {
   "outputs": [],
   "cell_type": "code",
   "source": [
    "plot_dashboard(output)"
   ],
   "metadata": {},
   "execution_count": null
  },
  {
   "cell_type": "markdown",
   "source": [
    "Or create your own dashboard"
   ],
   "metadata": {}
  },
  {
   "outputs": [],
   "cell_type": "code",
   "source": [
    "NeAm_end_index = simulation_settings[\"GridResolution\"][\"NegativeElectrodeCoating\"]\n",
    "\n",
    "plot_output(\n",
    "\toutput,\n",
    "\t[\n",
    "\t\t[\"SEIThickness vs Time at Position index 1\", \"SEIThickness vs Time at Position index $NeAm_end_index\"],\n",
    "\t\t[\"NeAmConcentration vs Time and Position at Radius index 1\"],\n",
    "\t];\n",
    "\tlayout = (2, 1),\n",
    ")"
   ],
   "metadata": {},
   "execution_count": null
  },
  {
   "cell_type": "markdown",
   "source": [
    "---\n",
    "\n",
    "*This notebook was generated using [Literate.jl](https://github.com/fredrikekre/Literate.jl).*"
   ],
   "metadata": {}
  }
 ],
 "nbformat_minor": 3,
 "metadata": {
  "language_info": {
   "file_extension": ".jl",
   "mimetype": "application/julia",
   "name": "julia",
   "version": "1.11.5"
  },
  "kernelspec": {
   "name": "julia-1.11",
   "display_name": "Julia 1.11.5",
   "language": "julia"
  }
 },
 "nbformat": 4
}
