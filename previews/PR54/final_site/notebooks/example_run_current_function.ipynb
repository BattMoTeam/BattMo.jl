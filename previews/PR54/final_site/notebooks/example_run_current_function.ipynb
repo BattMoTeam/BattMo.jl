{
 "cells": [
  {
   "outputs": [],
   "cell_type": "code",
   "source": [
    "using BattMo, GLMakie\n",
    "\n",
    "\n",
    "model_setup = LithiumIonBattery()\n",
    "cell_parameters = load_cell_parameters(; from_default_set = \"Chen2020\")\n",
    "simulation_settings = load_simulation_settings(; from_default_set = \"P2D\")\n",
    "simulation_settings[\"TimeStepDuration\"] = 1\n",
    "\n",
    "\n",
    "cycling_protocol = load_cycling_protocol(; from_default_set = \"user_defined_current_function\")\n",
    "\n",
    "cycling_protocol[\"TotalTime\"] = 1800\n",
    "\n",
    "sim_current = Simulation(model_setup, cell_parameters, cycling_protocol; simulation_settings);\n",
    "\n",
    "output2 = solve(sim_current);\n",
    "\n",
    "\n",
    "states2 = output2[:states]\n",
    "\n",
    "t = [state[:Control][:Controller].time for state in states2]\n",
    "E = [state[:Control][:Phi][1] for state in states2]\n",
    "I = [state[:Control][:Current][1] for state in states2]\n",
    "\n",
    "f = Figure(size = (1000, 400))\n",
    "\n",
    "ax = Axis(f[1, 1], title = \"Voltage\", xlabel = \"Time / s\", ylabel = \"Voltage / V\",\n",
    "\txlabelsize = 25,\n",
    "\tylabelsize = 25,\n",
    "\txticklabelsize = 25,\n",
    "\tyticklabelsize = 25,\n",
    ")\n",
    "scatterlines!(ax, t, E; linewidth = 4, markersize = 10, marker = :cross, markercolor = :black)\n",
    "\n",
    "f\n",
    "\n",
    "ax = Axis(f[2, 1], title = \"Current\", xlabel = \"Time / s\", ylabel = \"Current / V\",\n",
    "\txlabelsize = 25,\n",
    "\tylabelsize = 25,\n",
    "\txticklabelsize = 25,\n",
    "\tyticklabelsize = 25,\n",
    ")\n",
    "scatterlines!(ax, t, I; linewidth = 4, markersize = 10, marker = :cross, markercolor = :black)\n",
    "\n",
    "f"
   ],
   "metadata": {},
   "execution_count": null
  },
  {
   "cell_type": "markdown",
   "source": [
    "---\n",
    "\n",
    "*This notebook was generated using [Literate.jl](https://github.com/fredrikekre/Literate.jl).*"
   ],
   "metadata": {}
  }
 ],
 "nbformat_minor": 3,
 "metadata": {
  "language_info": {
   "file_extension": ".jl",
   "mimetype": "application/julia",
   "name": "julia",
   "version": "1.11.5"
  },
  "kernelspec": {
   "name": "julia-1.11",
   "display_name": "Julia 1.11.5",
   "language": "julia"
  }
 },
 "nbformat": 4
}
