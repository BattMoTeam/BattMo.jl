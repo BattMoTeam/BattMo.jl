{
 "cells": [
  {
   "outputs": [],
   "cell_type": "code",
   "source": [
    "using BattMo, GLMakie\n",
    "\n",
    "model_settings = load_model_settings(; from_default_set = \"P2D\")\n",
    "model_settings[\"SEIModel\"] = \"Bolay\"\n",
    "cell_parameters = load_cell_parameters(; from_default_set = \"SEI_example\")\n",
    "cycling_protocol = load_cycling_protocol(; from_default_set = \"CCCV\")\n",
    "simulation_settings = load_simulation_settings(; from_default_set = \"P2D\")\n",
    "\n",
    "model_setup = LithiumIonBattery(; model_settings)\n",
    "\n",
    "sim = Simulation(model_setup, cell_parameters, cycling_protocol);\n",
    "\n",
    "output = solve(sim;)\n",
    "\n",
    "time_series = get_output_time_series(output)\n",
    "states = get_output_states(output)\n",
    "metrics = get_output_metrics(output)\n",
    "\n",
    "NeAm_end_index = simulation_settings[\"GridPoints\"][\"NegativeElectrodeCoating\"]\n",
    "\n",
    "plot_output(\n",
    "\toutput,\n",
    "\t[\n",
    "\t\t[\"SEIThickness vs Time at Position index 1\", \"SEIThickness vs Time at Position index $NeAm_end_index\"],\n",
    "\t\t[\"NeAmConcentration vs Time and Position at Radius index 1\"],\n",
    "\t];\n",
    "\tlayout = (2, 1),\n",
    ")"
   ],
   "metadata": {},
   "execution_count": null
  },
  {
   "cell_type": "markdown",
   "source": [
    "plot_dashboard(output; plot_type = \"line\")"
   ],
   "metadata": {}
  },
  {
   "cell_type": "markdown",
   "source": [
    "t = time_series[:Time]\n",
    "I = time_series[:Current]\n",
    "E = time_series[:Voltage]"
   ],
   "metadata": {}
  },
  {
   "cell_type": "markdown",
   "source": [
    "NeAmC_t10 = states[:NeAmSurfaceConcentration][10, :, 1]\n",
    "PeAmCSurf_t10 = states[:PeAmSurfaceConcentration][10, :]\n",
    "ElyteC_t10 = states[:ElectrolyteConcentration][10, :]"
   ],
   "metadata": {}
  },
  {
   "cell_type": "markdown",
   "source": [
    "f = Figure()\n",
    "ax = Axis(f[1, 1], title = \"Concentrations\", xlabel = \"Distance [m]\", ylabel = \"Concentration\")\n",
    "lines!(ax, states.x, NeAmC_t10, color = :red, linewidth = 2, label = \"NeAm Surface Conc\")\n",
    "lines!(ax, states.x, PeAmCSurf_t10, color = :blue, linewidth = 2, label = \"PeAm Surface Conc\")\n",
    "lines!(ax, states.x, ElyteC_t10, color = :green, linewidth = 2, label = \"Elyte Conc\")\n",
    "axislegend(ax, position = :rt, valign = :center)"
   ],
   "metadata": {}
  },
  {
   "cell_type": "markdown",
   "source": [
    "display(f)"
   ],
   "metadata": {}
  },
  {
   "cell_type": "markdown",
   "source": [
    "---\n",
    "\n",
    "*This notebook was generated using [Literate.jl](https://github.com/fredrikekre/Literate.jl).*"
   ],
   "metadata": {}
  }
 ],
 "nbformat_minor": 3,
 "metadata": {
  "language_info": {
   "file_extension": ".jl",
   "mimetype": "application/julia",
   "name": "julia",
   "version": "1.11.5"
  },
  "kernelspec": {
   "name": "julia-1.11",
   "display_name": "Julia 1.11.5",
   "language": "julia"
  }
 },
 "nbformat": 4
}
