{
 "cells": [
  {
   "outputs": [],
   "cell_type": "code",
   "source": [
    "using BattMo, GLMakie\n",
    "\n",
    "model_settings = load_model_settings(; from_default_set = \"P2D\")\n",
    "model_settings[\"SEIModel\"] = \"Bolay\"\n",
    "cell_parameters = load_cell_parameters(; from_default_set = \"Chen2020\")\n",
    "cycling_protocol = load_cycling_protocol(; from_default_set = \"CCCV\")\n",
    "simulation_settings = load_simulation_settings(; from_default_set = \"P2D\")\n",
    "\n",
    "model_setup = LithiumIonBattery(; model_settings)\n",
    "\n",
    "sim = Simulation(model_setup, cell_parameters, cycling_protocol);\n",
    "\n",
    "output = solve(sim;)\n",
    "\n",
    "print_output_overview(output)\n",
    "\n",
    "\n",
    "time_series = get_output_time_series(output)\n",
    "states = get_output_states(output)\n",
    "metrics = get_output_metrics(output)"
   ],
   "metadata": {},
   "execution_count": null
  },
  {
   "cell_type": "markdown",
   "source": [
    "Plot a pre-defined dashboard"
   ],
   "metadata": {}
  },
  {
   "outputs": [],
   "cell_type": "code",
   "source": [
    "plot_dashboard(output)\n",
    "\n",
    "plot_dashboard(output; plot_type = \"line\")\n",
    "\n",
    "\n",
    "plot_dashboard(output; plot_type = \"contour\")"
   ],
   "metadata": {},
   "execution_count": null
  },
  {
   "cell_type": "markdown",
   "source": [
    "---\n",
    "\n",
    "*This notebook was generated using [Literate.jl](https://github.com/fredrikekre/Literate.jl).*"
   ],
   "metadata": {}
  }
 ],
 "nbformat_minor": 3,
 "metadata": {
  "language_info": {
   "file_extension": ".jl",
   "mimetype": "application/julia",
   "name": "julia",
   "version": "1.11.3"
  },
  "kernelspec": {
   "name": "julia-1.11",
   "display_name": "Julia 1.11.3",
   "language": "julia"
  }
 },
 "nbformat": 4
}
