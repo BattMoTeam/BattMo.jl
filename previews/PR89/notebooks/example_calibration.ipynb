{
 "cells": [
  {
   "cell_type": "markdown",
   "source": [
    "# Gradient-based parameter calibration of a lithium-ion battery model\n",
    "This example demonstrates how to calibrate a lithium-ion battery against data\n",
    "model using BattMo.jl. The example uses a two-step calibration process:\n",
    "\n",
    "1. We first calibrate the model against a 0.5C discharge curve (adjusting\n",
    "   stoichiometric coefficients and maximum concentration in the active\n",
    "   material)\n",
    "2. We then calibrate the model against a 2.0C discharge curve (adjusting\n",
    "   reaction rate constants and diffusion coefficients in the active material)\n",
    "\n",
    "Finally, we compare the results of the calibrated model against the\n",
    "experimental data for discharge rates of 0.5C, 1.0C, and 2.0C."
   ],
   "metadata": {}
  },
  {
   "cell_type": "markdown",
   "source": [
    "## Load packages and set up helper functions"
   ],
   "metadata": {}
  },
  {
   "outputs": [],
   "cell_type": "code",
   "source": [
    "using BattMo, Jutul\n",
    "using CSV\n",
    "using DataFrames\n",
    "using GLMakie\n",
    "\n",
    "function get_tV(x::DataFrame)\n",
    "\treturn (x[:, 1], x[:, 2])\n",
    "end"
   ],
   "metadata": {},
   "execution_count": null
  },
  {
   "cell_type": "markdown",
   "source": [
    "## Load the experimental data and set up a base case"
   ],
   "metadata": {}
  },
  {
   "outputs": [],
   "cell_type": "code",
   "source": [
    "battmo_base = normpath(joinpath(pathof(BattMo) |> splitdir |> first, \"..\"))\n",
    "exdata = joinpath(battmo_base, \"examples\", \"example_data\")\n",
    "df_05 = CSV.read(joinpath(exdata, \"Xu_2015_voltageCurve_05C.csv\"), DataFrame)\n",
    "df_1 = CSV.read(joinpath(exdata, \"Xu_2015_voltageCurve_1C.csv\"), DataFrame)\n",
    "df_2 = CSV.read(joinpath(exdata, \"Xu_2015_voltageCurve_2C.csv\"), DataFrame)\n",
    "\n",
    "dfs = [df_05, df_1, df_2]\n",
    "\n",
    "cell_parameters = load_cell_parameters(; from_default_set = \"Xu2015\")\n",
    "cycling_protocol = load_cycling_protocol(; from_default_set = \"CCDischarge\")\n",
    "\n",
    "cycling_protocol[\"LowerVoltageLimit\"] = 2.25\n",
    "model = LithiumIonBattery()\n",
    "\n",
    "cycling_protocol[\"DRate\"] = 0.5\n",
    "sim = Simulation(model, cell_parameters, cycling_protocol)\n",
    "output0 = solve(sim)\n",
    "\n",
    "t0 = output0.time_series[\"Time\"]\n",
    "V0 = output0.time_series[\"Voltage\"]\n",
    "t_exp_05, V_exp_05 = get_tV(df_05)\n",
    "t_exp_1, V_exp_1 = get_tV(df_1)\n",
    "\n",
    "fig = Figure()\n",
    "ax = Axis(fig[1, 1], title = \"CRate = 0.5\", xlabel = \"Time / s\", ylabel = \"Voltage / V\")\n",
    "lines!(ax, t0, V0, label = \"Base case\")\n",
    "lines!(ax, t_exp_05, V_exp_05, label = \"Experimental data\")\n",
    "axislegend(position = :lb)\n",
    "fig"
   ],
   "metadata": {},
   "execution_count": null
  },
  {
   "cell_type": "markdown",
   "source": [
    "## Set up the first calibration\n",
    "We select the following parameters to calibrate:\n",
    "- \"StoichiometricCoefficientAtSOC100\" at both electrodes\n",
    "- \"StoichiometricCoefficientAtSOC0\" at both electrodes\n",
    "- \"MaximumConcentration\" of both electrodes\n",
    "\n",
    "We also set bounds for these parameters to ensure they remain physically\n",
    "meaningful and possible to simulate. The objective function is the sum of\n",
    "squares: $\\sum_i (V_i - V_{exp,i})^2$, where $V_i$ is the voltage from the\n",
    "model and $V_{exp,i}$ is the voltage from the experimental data at step\n",
    "$i$.\n",
    "\n",
    "We print the setup as a table to give the user the opportunity to review the\n",
    "setup before calibration starts."
   ],
   "metadata": {}
  },
  {
   "outputs": [],
   "cell_type": "code",
   "source": [
    "vc05 = VoltageCalibration(t_exp_05, V_exp_05, sim)\n",
    "\n",
    "free_calibration_parameter!(vc05,\n",
    "\t[\"NegativeElectrode\", \"ActiveMaterial\", \"StoichiometricCoefficientAtSOC100\"];\n",
    "\tlower_bound = 0.0, upper_bound = 1.0)\n",
    "free_calibration_parameter!(vc05,\n",
    "\t[\"PositiveElectrode\", \"ActiveMaterial\", \"StoichiometricCoefficientAtSOC100\"];\n",
    "\tlower_bound = 0.0, upper_bound = 1.0)"
   ],
   "metadata": {},
   "execution_count": null
  },
  {
   "cell_type": "markdown",
   "source": [
    "\"StoichiometricCoefficientAtSOC0\" at both electrodes"
   ],
   "metadata": {}
  },
  {
   "outputs": [],
   "cell_type": "code",
   "source": [
    "free_calibration_parameter!(vc05,\n",
    "\t[\"NegativeElectrode\", \"ActiveMaterial\", \"StoichiometricCoefficientAtSOC0\"];\n",
    "\tlower_bound = 0.0, upper_bound = 1.0)\n",
    "free_calibration_parameter!(vc05,\n",
    "\t[\"PositiveElectrode\", \"ActiveMaterial\", \"StoichiometricCoefficientAtSOC0\"];\n",
    "\tlower_bound = 0.0, upper_bound = 1.0)"
   ],
   "metadata": {},
   "execution_count": null
  },
  {
   "cell_type": "markdown",
   "source": [
    " \"MaximumConcentration\" of both electrodes"
   ],
   "metadata": {}
  },
  {
   "outputs": [],
   "cell_type": "code",
   "source": [
    "free_calibration_parameter!(vc05,\n",
    "\t[\"NegativeElectrode\", \"ActiveMaterial\", \"MaximumConcentration\"];\n",
    "\tlower_bound = 10000.0, upper_bound = 1e5)\n",
    "free_calibration_parameter!(vc05,\n",
    "\t[\"PositiveElectrode\", \"ActiveMaterial\", \"MaximumConcentration\"];\n",
    "\tlower_bound = 10000.0, upper_bound = 1e5)\n",
    "\n",
    "print_calibration_overview(vc05)"
   ],
   "metadata": {},
   "execution_count": null
  },
  {
   "cell_type": "markdown",
   "source": [
    "### Solve the first calibration problem\n",
    "The calibration is performed by solving the optimization problem. This makes\n",
    "use of the adjoint method implemented in Jutul.jl and the LBFGS algorithm."
   ],
   "metadata": {}
  },
  {
   "outputs": [],
   "cell_type": "code",
   "source": [
    "solve(vc05);\n",
    "cell_parameters_calibrated = vc05.calibrated_cell_parameters;\n",
    "print_calibration_overview(vc05)"
   ],
   "metadata": {},
   "execution_count": null
  },
  {
   "cell_type": "markdown",
   "source": [
    "## Compare the results of the calibration against the experimental data\n",
    "We can now compare the results of the calibrated model against the\n",
    "experimental data for the 0.5C discharge curve."
   ],
   "metadata": {}
  },
  {
   "outputs": [],
   "cell_type": "code",
   "source": [
    "sim_opt = Simulation(model, cell_parameters_calibrated, cycling_protocol)\n",
    "output_opt = solve(sim_opt);\n",
    "t_opt = output_opt.time_series[\"Time\"]\n",
    "V_opt = output_opt.time_series[\"Voltage\"]\n",
    "\n",
    "fig = Figure()\n",
    "ax = Axis(fig[1, 1], title = \"CRate = 0.5\")\n",
    "lines!(ax, t0, V0, label = \"BattMo initial\")\n",
    "lines!(ax, t_exp_05, V_exp_05, label = \"Experimental data\")\n",
    "lines!(ax, t_opt, V_opt, label = \"BattMo calibrated\", linestyle = :dash)\n",
    "axislegend(position = :lb)\n",
    "fig"
   ],
   "metadata": {},
   "execution_count": null
  },
  {
   "cell_type": "markdown",
   "source": [
    "## Set up the second calibration\n",
    "The second calibration is performed against the 2.0C discharge curve. In the\n",
    "same manner as for the first discharge curve, we set up a set of parameters to\n",
    "calibrate against experimental data. The parameters are:\n",
    "\n",
    "- The reaction rate constant of both electrodes\n",
    "- The diffusion coefficient of both electrodes\n",
    "\n",
    "The calibration this time around starts from the parameters calibrated in the\n",
    "first step, so we use the `cell_parameters_calibrated` from the first `solve`\n",
    "call when defining the new object:"
   ],
   "metadata": {}
  },
  {
   "outputs": [],
   "cell_type": "code",
   "source": [
    "t_exp_2, V_exp_2 = get_tV(df_2)\n",
    "\n",
    "cycling_protocol2 = deepcopy(cycling_protocol)\n",
    "cycling_protocol2[\"DRate\"] = 2.0\n",
    "sim2 = Simulation(model, cell_parameters_calibrated, cycling_protocol2)\n",
    "output2 = solve(sim2);\n",
    "t2 = output2.time_series[\"Time\"]\n",
    "V2 = output2.time_series[\"Voltage\"]\n",
    "\n",
    "sim2_0 = Simulation(model, cell_parameters, cycling_protocol2)\n",
    "output2_0 = solve(sim2_0);\n",
    "t2_0 = output2_0.time_series[\"Time\"]\n",
    "V2_0 = output2_0.time_series[\"Voltage\"]\n",
    "\n",
    "vc2 = VoltageCalibration(t_exp_2, V_exp_2, sim2)\n",
    "\n",
    "free_calibration_parameter!(vc2,\n",
    "\t[\"NegativeElectrode\", \"ActiveMaterial\", \"ReactionRateConstant\"];\n",
    "\tlower_bound = 1e-16, upper_bound = 1e-10)\n",
    "free_calibration_parameter!(vc2,\n",
    "\t[\"PositiveElectrode\", \"ActiveMaterial\", \"ReactionRateConstant\"];\n",
    "\tlower_bound = 1e-16, upper_bound = 1e-10)\n",
    "\n",
    "free_calibration_parameter!(vc2,\n",
    "\t[\"NegativeElectrode\", \"ActiveMaterial\", \"DiffusionCoefficient\"];\n",
    "\tlower_bound = 1e-16, upper_bound = 1e-12)\n",
    "free_calibration_parameter!(vc2,\n",
    "\t[\"PositiveElectrode\", \"ActiveMaterial\", \"DiffusionCoefficient\"];\n",
    "\tlower_bound = 1e-16, upper_bound = 1e-12)\n",
    "print_calibration_overview(vc2)"
   ],
   "metadata": {},
   "execution_count": null
  },
  {
   "cell_type": "markdown",
   "source": [
    "### Solve the second calibration problem"
   ],
   "metadata": {}
  },
  {
   "outputs": [],
   "cell_type": "code",
   "source": [
    "cell_parameters_calibrated2, = solve(vc2);\n",
    "print_calibration_overview(vc2)"
   ],
   "metadata": {},
   "execution_count": null
  },
  {
   "cell_type": "markdown",
   "source": [
    "## Compare the results of the second calibration against the experimental data\n",
    "We can now compare the results of the calibrated model against the\n",
    "experimental data for the 2.0C discharge curve. We compare three simulations against the experimental data:\n",
    "1. The initial simulation with the original parameters.\n",
    "2. The simulation with the parameters calibrated against the 0.5C discharge curve.\n",
    "3. The simulation with the parameters calibrated against the 0.5C and 2.0C discharge curves."
   ],
   "metadata": {}
  },
  {
   "outputs": [],
   "cell_type": "code",
   "source": [
    "sim_c2 = Simulation(model, cell_parameters_calibrated2, cycling_protocol2)\n",
    "output2_c = solve(sim_c2, accept_invalid = false);\n",
    "\n",
    "t2_c = output2_c.time_series[\"Time\"]\n",
    "V2_c = output2_c.time_series[\"Voltage\"]\n",
    "\n",
    "fig = Figure()\n",
    "ax = Axis(fig[1, 1], title = \"CRate = 2.0\")\n",
    "lines!(ax, t2_0, V2_0, label = \"BattMo.jl\")\n",
    "lines!(ax, t2, V2, label = \"BattMo.jl (after CRate=0.5 calibration)\")\n",
    "\n",
    "lines!(ax, t_exp_2, V_exp_2, label = \"Experimental data\")\n",
    "lines!(ax, t2_c, V2_c, label = \"BattMo.jl (after CRate=0.5 + Crate=2.0 calibration)\", linestyle = :dash)\n",
    "axislegend(position = :lb)\n",
    "fig"
   ],
   "metadata": {},
   "execution_count": null
  },
  {
   "cell_type": "markdown",
   "source": [
    "## Compare the results of the calibrated model against the experimental data\n",
    "We can now compare the results of the calibrated model against the\n",
    "experimental data for the 0.5C, 1.0C, and 2.0C discharge curves."
   ],
   "metadata": {}
  },
  {
   "cell_type": "markdown",
   "source": [
    "Note that we did not calibrate the model for the 1.0C discharge curve, but we\n",
    "still obtain a good fit."
   ],
   "metadata": {}
  },
  {
   "outputs": [],
   "cell_type": "code",
   "source": [
    "CRates = [0.5, 1.0, 2.0]\n",
    "outputs_base = []\n",
    "outputs_calibrated = []\n",
    "\n",
    "for CRate in CRates\n",
    "\tcycling_protocol[\"DRate\"] = CRate\n",
    "\tsimuc = Simulation(model, cell_parameters, cycling_protocol)\n",
    "\n",
    "\toutput = solve(simuc, info_level = -1)\n",
    "\tpush!(outputs_base, (CRate = CRate, output = output))\n",
    "\n",
    "\tsimc = Simulation(model, cell_parameters_calibrated2, cycling_protocol)\n",
    "\toutput_c = solve(simc, info_level = -1)\n",
    "\n",
    "\tpush!(outputs_calibrated, (CRate = CRate, output = output_c))\n",
    "end\n",
    "\n",
    "colors = Makie.wong_colors()\n",
    "\n",
    "fig = Figure(size = (1200, 600))\n",
    "ax = Axis(fig[1, 1], ylabel = \"Voltage / V\", xlabel = \"Time / s\", title = \"Discharge curve\")\n",
    "\n",
    "for (i, data) in enumerate(outputs_base)\n",
    "\tt_i = data.output.time_series[\"Time\"]\n",
    "\tV_i = data.output.time_series[\"Voltage\"]\n",
    "\tlines!(ax, t_i, V_i, label = \"Simulation (initial) $(round(data.CRate, digits = 2))\", color = colors[i])\n",
    "end\n",
    "\n",
    "for (i, data) in enumerate(outputs_calibrated)\n",
    "\tt_i = data.output.time_series[\"Time\"]\n",
    "\tV_i = data.output.time_series[\"Voltage\"]\n",
    "\tlines!(ax, t_i, V_i, label = \"Simulation (calibrated) $(round(data.CRate, digits = 2))\", color = colors[i], linestyle = :dash)\n",
    "end\n",
    "\n",
    "for (i, df) in enumerate(dfs)\n",
    "\tt_i = df[:, 1]\n",
    "\tV_i = df[:, 2]\n",
    "\tlabel = \"Experimental $(round(CRates[i], digits = 2))\"\n",
    "\tlines!(ax, t_i, V_i, linestyle = :dot, label = label, color = colors[i])\n",
    "end\n",
    "\n",
    "fig[1, 2] = Legend(fig, ax, \"C rate\", framevisible = false)\n",
    "fig"
   ],
   "metadata": {},
   "execution_count": null
  },
  {
   "cell_type": "markdown",
   "source": [
    "---\n",
    "\n",
    "*This notebook was generated using [Literate.jl](https://github.com/fredrikekre/Literate.jl).*"
   ],
   "metadata": {}
  }
 ],
 "nbformat_minor": 3,
 "metadata": {
  "language_info": {
   "file_extension": ".jl",
   "mimetype": "application/julia",
   "name": "julia",
   "version": "1.11.3"
  },
  "kernelspec": {
   "name": "julia-1.11",
   "display_name": "Julia 1.11.3",
   "language": "julia"
  }
 },
 "nbformat": 4
}
