{
 "cells": [
  {
   "cell_type": "markdown",
   "source": [
    "# 3D battery example"
   ],
   "metadata": {}
  },
  {
   "outputs": [],
   "cell_type": "code",
   "source": [
    "using Jutul, BattMo, GLMakie"
   ],
   "metadata": {},
   "execution_count": null
  },
  {
   "cell_type": "markdown",
   "source": [
    "## Setup input parameters"
   ],
   "metadata": {}
  },
  {
   "outputs": [],
   "cell_type": "code",
   "source": [
    "name = \"p2d_40_jl_chen2020\"\n",
    "\n",
    "fn = string(dirname(pathof(BattMo)), \"/../test/data/jsonfiles/\", name, \".json\")\n",
    "inputparams = readBattMoJsonInputFile(fn)\n",
    "\n",
    "fn = string(dirname(pathof(BattMo)), \"/../test/data/jsonfiles/3d_demo_geometry.json\")\n",
    "inputparams_geometry = readBattMoJsonInputFile(fn)\n",
    "\n",
    "inputparams = mergeInputParams(inputparams_geometry, inputparams)"
   ],
   "metadata": {},
   "execution_count": null
  },
  {
   "cell_type": "markdown",
   "source": [
    "## Setup and run simulation"
   ],
   "metadata": {}
  },
  {
   "outputs": [],
   "cell_type": "code",
   "source": [
    "output = run_battery(inputparams);"
   ],
   "metadata": {},
   "execution_count": null
  },
  {
   "cell_type": "markdown",
   "source": [
    "## Plot discharge curve"
   ],
   "metadata": {}
  },
  {
   "outputs": [],
   "cell_type": "code",
   "source": [
    "states = output[:states]\n",
    "model  = output[:extra][:model]\n",
    "\n",
    "t = [state[:Control][:ControllerCV].time for state in states]\n",
    "E = [state[:Control][:Phi][1] for state in states]\n",
    "I = [state[:Control][:Current][1] for state in states]\n",
    "\n",
    "f = Figure(size = (1000, 400))\n",
    "\n",
    "ax = Axis(f[1, 1],\n",
    "          title     = \"Voltage\",\n",
    "          xlabel    = \"Time / s\",\n",
    "          ylabel    = \"Voltage / V\",\n",
    "          xlabelsize = 25,\n",
    "          ylabelsize = 25,\n",
    "          xticklabelsize = 25,\n",
    "          yticklabelsize = 25)\n",
    "\n",
    "scatterlines!(ax,\n",
    "              t,\n",
    "              E;\n",
    "              linewidth = 4,\n",
    "              markersize = 10,\n",
    "              marker = :cross,\n",
    "              markercolor = :black,\n",
    "              )\n",
    "\n",
    "ax = Axis(f[1, 2],\n",
    "          title     = \"Current\",\n",
    "          xlabel    = \"Time / s\",\n",
    "          ylabel    = \"Current / A\",\n",
    "          xlabelsize = 25,\n",
    "          ylabelsize = 25,\n",
    "          xticklabelsize = 25,\n",
    "          yticklabelsize = 25\n",
    "          )\n",
    "\n",
    "scatterlines!(ax,\n",
    "              t,\n",
    "              I;\n",
    "              linewidth = 4,\n",
    "              markersize = 10,\n",
    "              marker = :cross,\n",
    "              markercolor = :black)\n",
    "\n",
    "display(f)\n",
    "f"
   ],
   "metadata": {},
   "execution_count": null
  },
  {
   "cell_type": "markdown",
   "source": [
    "## Plot potential on grid at last time step #"
   ],
   "metadata": {}
  },
  {
   "outputs": [],
   "cell_type": "code",
   "source": [
    "state = states[10]\n",
    "\n",
    "function plot_potential(am, cc, label)\n",
    "    f3D = Figure(size = (600, 650))\n",
    "    ax3d = Axis3(f3D[1, 1];\n",
    "                 title = \"Potential in $label electrode (coating and active material)\")\n",
    "\n",
    "    maxPhi = maximum([maximum(state[cc][:Phi]), maximum(state[am][:Phi])])\n",
    "    minPhi = minimum([minimum(state[cc][:Phi]), minimum(state[am][:Phi])])\n",
    "\n",
    "    colorrange = [0, maxPhi - minPhi]\n",
    "\n",
    "    components = [am, cc]\n",
    "    for component in components\n",
    "        g = model[component].domain.representation\n",
    "        phi = state[component][:Phi]\n",
    "        Jutul.plot_cell_data!(ax3d, g, phi .- minPhi; colormap = :viridis, colorrange = colorrange)\n",
    "    end\n",
    "\n",
    "    cbar = GLMakie.Colorbar(f3D[1, 2];\n",
    "                            colormap = :viridis,\n",
    "                            colorrange = colorrange .+ minPhi,\n",
    "                            label = \"potential\")\n",
    "    display(GLMakie.Screen(), f3D)\n",
    "    return f3D\n",
    "end\n",
    "#\n",
    "plot_potential(:PeAm, :PeCc, \"positive\")\n",
    "#\n",
    "plot_potential(:NeAm, :NeCc, \"negative\")"
   ],
   "metadata": {},
   "execution_count": null
  },
  {
   "cell_type": "markdown",
   "source": [
    "## Plot surface concentration on grid at last time step"
   ],
   "metadata": {}
  },
  {
   "outputs": [],
   "cell_type": "code",
   "source": [
    "function plot_surface_concentration(component, label)\n",
    "    f3D = Figure(size = (600, 650))\n",
    "    ax3d = Axis3(f3D[1, 1];\n",
    "                 title = \"Surface concentration in $label electrode\")\n",
    "\n",
    "    cs = state[component][:Cs]\n",
    "    maxcs = maximum(cs)\n",
    "    mincs = minimum(cs)\n",
    "\n",
    "    colorrange = [0, maxcs - mincs]\n",
    "    g = model[component].domain.representation\n",
    "    Jutul.plot_cell_data!(ax3d, g, cs .- mincs;\n",
    "                          colormap = :viridis,\n",
    "                          colorrange = colorrange)\n",
    "\n",
    "    cbar = GLMakie.Colorbar(f3D[1, 2];\n",
    "                            colormap = :viridis,\n",
    "                            colorrange = colorrange .+ mincs,\n",
    "                            label = \"concentration\")\n",
    "    display(GLMakie.Screen(), f3D)\n",
    "    return f3D\n",
    "end"
   ],
   "metadata": {},
   "execution_count": null
  },
  {
   "cell_type": "markdown",
   "source": [
    "## Positive"
   ],
   "metadata": {}
  },
  {
   "outputs": [],
   "cell_type": "code",
   "source": [
    "plot_surface_concentration(:PeAm, \"positive\")"
   ],
   "metadata": {},
   "execution_count": null
  },
  {
   "cell_type": "markdown",
   "source": [
    "## Negative"
   ],
   "metadata": {}
  },
  {
   "outputs": [],
   "cell_type": "code",
   "source": [
    "plot_surface_concentration(:NeAm, \"negative\")"
   ],
   "metadata": {},
   "execution_count": null
  },
  {
   "cell_type": "markdown",
   "source": [
    "## Plot electrolyte concentration and potential on grid at last time step"
   ],
   "metadata": {}
  },
  {
   "outputs": [],
   "cell_type": "code",
   "source": [
    "function plot_elyte(var, label)\n",
    "    f3D = Figure(size = (600, 650))\n",
    "    ax3d = Axis3(f3D[1, 1]; title = \"$label in electrolyte\")\n",
    "\n",
    "    val = state[:Elyte][var]\n",
    "    maxval = maximum(val)\n",
    "    minval = minimum(val)\n",
    "\n",
    "    colorrange = [0, maxval - minval]\n",
    "\n",
    "    g = model[:Elyte].domain.representation\n",
    "    Jutul.plot_cell_data!(ax3d, g, val .- minval;\n",
    "                          colormap = :viridis,\n",
    "                          colorrange = colorrange)\n",
    "\n",
    "    cbar = GLMakie.Colorbar(f3D[1, 2];\n",
    "                            colormap = :viridis,\n",
    "                            colorrange = colorrange .+ minval,\n",
    "                            label = \"$label\")\n",
    "    display(GLMakie.Screen(), f3D)\n",
    "    f3D\n",
    "end\n",
    "\n",
    "#\n",
    "plot_elyte(:C, \"concentration\")\n",
    "#\n",
    "plot_elyte(:Phi, \"potential\")"
   ],
   "metadata": {},
   "execution_count": null
  },
  {
   "cell_type": "markdown",
   "source": [
    "---\n",
    "\n",
    "*This notebook was generated using [Literate.jl](https://github.com/fredrikekre/Literate.jl).*"
   ],
   "metadata": {}
  }
 ],
 "nbformat_minor": 3,
 "metadata": {
  "language_info": {
   "file_extension": ".jl",
   "mimetype": "application/julia",
   "name": "julia",
   "version": "1.11.1"
  },
  "kernelspec": {
   "name": "julia-1.11",
   "display_name": "Julia 1.11.1",
   "language": "julia"
  }
 },
 "nbformat": 4
}
