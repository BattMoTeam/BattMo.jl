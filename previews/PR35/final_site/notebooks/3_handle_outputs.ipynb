{
 "cells": [
  {
   "cell_type": "markdown",
   "source": [
    "# Handling simulation outputs"
   ],
   "metadata": {}
  },
  {
   "cell_type": "markdown",
   "source": [
    "In this tutorial we will explore the outputs of a simulation for interesting tasks:\n",
    "- Plot voltage and current curves\n",
    "- Plot overpotentials\n",
    "- Plot cell states in space and time\n",
    "- Save outputs\n",
    "- Load outputs."
   ],
   "metadata": {}
  },
  {
   "cell_type": "markdown",
   "source": [
    "Lets start with loading some pre-defined cell parameters, cycling protocols, and running a simulation."
   ],
   "metadata": {}
  },
  {
   "outputs": [],
   "cell_type": "code",
   "source": [
    "using BattMo, GLMakie\n",
    "\n",
    "cell_parameters = load_cell_parameters(; from_default_set = \"Chen2020_calibrated\")\n",
    "cycling_protocol = load_cycling_protocol(; from_default_set = \"CCDischarge\")\n",
    "nothing # hide\n",
    "\n",
    "model_setup = LithiumIonBattery()\n",
    "\n",
    "sim = Simulation(model_setup, cell_parameters, cycling_protocol);\n",
    "\n",
    "output = solve(sim)\n",
    "nothing # hide"
   ],
   "metadata": {},
   "execution_count": null
  },
  {
   "cell_type": "markdown",
   "source": [
    "UPDATE WITH NEW OUTPUT API"
   ],
   "metadata": {}
  },
  {
   "cell_type": "markdown",
   "source": [
    "### The simulation output"
   ],
   "metadata": {}
  },
  {
   "cell_type": "markdown",
   "source": [
    "### Access overpotentials"
   ],
   "metadata": {}
  },
  {
   "cell_type": "markdown",
   "source": [
    "### Plot cell states"
   ],
   "metadata": {}
  },
  {
   "cell_type": "markdown",
   "source": [
    "### Save and load outputs"
   ],
   "metadata": {}
  },
  {
   "cell_type": "markdown",
   "source": [
    "---\n",
    "\n",
    "*This notebook was generated using [Literate.jl](https://github.com/fredrikekre/Literate.jl).*"
   ],
   "metadata": {}
  }
 ],
 "nbformat_minor": 3,
 "metadata": {
  "language_info": {
   "file_extension": ".jl",
   "mimetype": "application/julia",
   "name": "julia",
   "version": "1.11.5"
  },
  "kernelspec": {
   "name": "julia-1.11",
   "display_name": "Julia 1.11.5",
   "language": "julia"
  }
 },
 "nbformat": 4
}
