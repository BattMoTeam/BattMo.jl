{
 "cells": [
  {
   "cell_type": "markdown",
   "source": [
    "# Setting Up a Custom Battery Model\n",
    "In this tutorial, we’ll configure a custom battery model using BattMo, with a specific focus on SEI (Solid Electrolyte Interphase) growth within a P2D simulation framework."
   ],
   "metadata": {}
  },
  {
   "cell_type": "markdown",
   "source": [
    "### Load BattMo and Model Settings"
   ],
   "metadata": {}
  },
  {
   "outputs": [],
   "cell_type": "code",
   "source": [
    "using BattMo, GLMakie"
   ],
   "metadata": {},
   "execution_count": null
  },
  {
   "cell_type": "markdown",
   "source": [
    "Let’s begin by loading the default model settings for a P2D simulation. This will return a ModelSettings object:"
   ],
   "metadata": {}
  },
  {
   "outputs": [],
   "cell_type": "code",
   "source": [
    "file_path_model = parameter_file_path(\"model_settings\", \"P2D.json\")\n",
    "model_settings = load_model_settings(; from_file_path = file_path_model)\n",
    "nothing #hide"
   ],
   "metadata": {},
   "execution_count": null
  },
  {
   "cell_type": "markdown",
   "source": [
    "We can inspect all current settings with:"
   ],
   "metadata": {}
  },
  {
   "outputs": [],
   "cell_type": "code",
   "source": [
    "model_settings.all"
   ],
   "metadata": {},
   "execution_count": null
  },
  {
   "cell_type": "markdown",
   "source": [
    "By default, the \"UseSEIModel\" parameter is set to false. Since we want to\n",
    "observe SEI effects, we’ll enable and set it to Bolay, which is a specific SEI\n",
    "model."
   ],
   "metadata": {}
  },
  {
   "outputs": [],
   "cell_type": "code",
   "source": [
    "model_settings[\"UseSEIModel\"] = \"Bolay\"\n",
    "model_settings.all"
   ],
   "metadata": {},
   "execution_count": null
  },
  {
   "cell_type": "markdown",
   "source": [
    "### Initialize the Model\n",
    "Let’s now create the battery model using the modified settings:"
   ],
   "metadata": {}
  },
  {
   "outputs": [],
   "cell_type": "code",
   "source": [
    "model = LithiumIonBatteryModel(; model_settings);"
   ],
   "metadata": {},
   "execution_count": null
  },
  {
   "cell_type": "markdown",
   "source": [
    "We can see that some warnings are given in the terminal. When setting up the model, the LithiumIonBatteryModel constructor runs a validation on the model_settings.\n",
    "In this case, because we set the \"UseSEIModel\" parameter to true, the validator provides a warning that we should define which SEI model we would like to use.\n",
    "If we ignore the warnings and pass the model to the Simulation constructor then we get an error:"
   ],
   "metadata": {}
  },
  {
   "outputs": [],
   "cell_type": "code",
   "source": [
    "file_path_cell = parameter_file_path(\"cell_parameters\", \"SEI_example.json\")\n",
    "file_path_cycling = parameter_file_path(\"cycling_protocols\", \"CCCV.json\")\n",
    "\n",
    "cell_parameters_sei = load_cell_parameters(; from_file_path = file_path_cell)\n",
    "cccv_protocol = load_cycling_protocol(; from_file_path = file_path_cycling)\n",
    "\n",
    "try  # hide\n",
    "\tsim = Simulation(model, cell_parameters_sei, cccv_protocol)\n",
    "catch err # hide\n",
    "\tshowerror(stderr, err) # hide\n",
    "end  # hide"
   ],
   "metadata": {},
   "execution_count": null
  },
  {
   "cell_type": "markdown",
   "source": [
    "As expected, this results in an error because we haven't yet specified the SEI model type."
   ],
   "metadata": {}
  },
  {
   "cell_type": "markdown",
   "source": [
    "### Specify SEI Model and Rebuild\n",
    "To resolve this, we’ll explicitly set the SEI model to \"Bolay\":"
   ],
   "metadata": {}
  },
  {
   "outputs": [],
   "cell_type": "code",
   "source": [
    "model_settings[\"SEIModel\"] = \"Bolay\"\n",
    "nothing # hide"
   ],
   "metadata": {},
   "execution_count": null
  },
  {
   "cell_type": "markdown",
   "source": [
    "Now rebuild the model:"
   ],
   "metadata": {}
  },
  {
   "outputs": [],
   "cell_type": "code",
   "source": [
    "model = LithiumIonBatteryModel(; model_settings);"
   ],
   "metadata": {},
   "execution_count": null
  },
  {
   "cell_type": "markdown",
   "source": [
    "Run the Simulation\n",
    "Now we can setup the simulation and run it."
   ],
   "metadata": {}
  },
  {
   "outputs": [],
   "cell_type": "code",
   "source": [
    "sim = Simulation(model, cell_parameters_sei, cccv_protocol)\n",
    "output = solve(sim);\n",
    "nothing # hide"
   ],
   "metadata": {},
   "execution_count": null
  },
  {
   "cell_type": "markdown",
   "source": [
    "## Plot of voltage and current"
   ],
   "metadata": {}
  },
  {
   "outputs": [],
   "cell_type": "code",
   "source": [
    "states = output[:states]\n",
    "\n",
    "t = [state[:Control][:ControllerCV].time for state in states]\n",
    "E = [state[:Control][:Phi][1] for state in states]\n",
    "I = [state[:Control][:Current][1] for state in states]\n",
    "\n",
    "f = Figure(size = (1000, 400))\n",
    "\n",
    "ax = Axis(f[1, 1],\n",
    "\ttitle = \"Voltage\",\n",
    "\txlabel = \"Time / s\",\n",
    "\tylabel = \"Voltage / V\",\n",
    "\txlabelsize = 25,\n",
    "\tylabelsize = 25,\n",
    "\txticklabelsize = 25,\n",
    "\tyticklabelsize = 25,\n",
    ")\n",
    "\n",
    "scatterlines!(ax,\n",
    "\tt,\n",
    "\tE;\n",
    "\tlinewidth = 4,\n",
    "\tmarkersize = 10,\n",
    "\tmarker = :cross,\n",
    "\tmarkercolor = :black,\n",
    "\tlabel = \"Julia\",\n",
    ")\n",
    "\n",
    "ax = Axis(f[1, 2],\n",
    "\ttitle = \"Current\",\n",
    "\txlabel = \"Time / s\",\n",
    "\tylabel = \"Current / A\",\n",
    "\txlabelsize = 25,\n",
    "\tylabelsize = 25,\n",
    "\txticklabelsize = 25,\n",
    "\tyticklabelsize = 25,\n",
    ")\n",
    "\n",
    "scatterlines!(ax,\n",
    "\tt,\n",
    "\tI;\n",
    "\tlinewidth = 4,\n",
    "\tmarkersize = 10,\n",
    "\tmarker = :cross,\n",
    "\tmarkercolor = :black,\n",
    "\tlabel = \"Julia\",\n",
    ")\n",
    "\n",
    "display(GLMakie.Screen(), f) # hide\n",
    "f # hide"
   ],
   "metadata": {},
   "execution_count": null
  },
  {
   "cell_type": "markdown",
   "source": [
    "## Plot of SEI length"
   ],
   "metadata": {}
  },
  {
   "cell_type": "markdown",
   "source": [
    "We recover the SEI length from the `state` output"
   ],
   "metadata": {}
  },
  {
   "outputs": [],
   "cell_type": "code",
   "source": [
    "seilength = [state[:NeAm][:SEIlength][end] for state in states]\n",
    "\n",
    "f = Figure(size = (1000, 400))\n",
    "\n",
    "ax = Axis(f[1, 1],\n",
    "\ttitle = \"Length\",\n",
    "\txlabel = \"Time / s\",\n",
    "\tylabel = \"Length / m\",\n",
    "\txlabelsize = 25,\n",
    "\tylabelsize = 25,\n",
    "\txticklabelsize = 25,\n",
    "\tyticklabelsize = 25,\n",
    ")\n",
    "\n",
    "scatterlines!(ax,\n",
    "\tt,\n",
    "\tseilength;\n",
    "\tlinewidth = 4,\n",
    "\tmarkersize = 10,\n",
    "\tmarker = :cross,\n",
    "\tmarkercolor = :black)\n",
    "\n",
    "ax = Axis(f[2, 1],\n",
    "\ttitle = \"Length\",\n",
    "\txlabel = \"Time / s\",\n",
    "\tylabel = \"Voltage / V\",\n",
    "\txlabelsize = 25,\n",
    "\tylabelsize = 25,\n",
    "\txticklabelsize = 25,\n",
    "\tyticklabelsize = 25,\n",
    ")\n",
    "\n",
    "scatterlines!(ax,\n",
    "\tt,\n",
    "\tE;\n",
    "\tlinewidth = 4,\n",
    "\tmarkersize = 10,\n",
    "\tmarker = :cross,\n",
    "\tmarkercolor = :black)\n",
    "\n",
    "display(GLMakie.Screen(), f) # hide\n",
    "f # hide"
   ],
   "metadata": {},
   "execution_count": null
  },
  {
   "cell_type": "markdown",
   "source": [
    "---\n",
    "\n",
    "*This notebook was generated using [Literate.jl](https://github.com/fredrikekre/Literate.jl).*"
   ],
   "metadata": {}
  }
 ],
 "nbformat_minor": 3,
 "metadata": {
  "language_info": {
   "file_extension": ".jl",
   "mimetype": "application/julia",
   "name": "julia",
   "version": "1.11.5"
  },
  "kernelspec": {
   "name": "julia-1.11",
   "display_name": "Julia 1.11.5",
   "language": "julia"
  }
 },
 "nbformat": 4
}
