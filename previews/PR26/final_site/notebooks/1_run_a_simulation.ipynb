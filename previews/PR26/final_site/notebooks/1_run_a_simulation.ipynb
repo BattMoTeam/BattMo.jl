{
 "cells": [
  {
   "cell_type": "markdown",
   "source": [
    "# How to run a simulation\n",
    "\n",
    "BattMo simulations repicate the voltage-current response of a cell. To run a Battmo simulation, the basic workflow is:\n",
    "* Set up cell parameters\n",
    "* Set up a cycling protocol\n",
    "* Select a model\n",
    "* Prepare a simulation\n",
    "* Run the simulation\n",
    "* Inspect and visualize the outputs of the simulation"
   ],
   "metadata": {}
  },
  {
   "cell_type": "markdown",
   "source": [
    "To start, we load BattMo (battery models and simulations) and GLMakie (plotting)."
   ],
   "metadata": {}
  },
  {
   "outputs": [],
   "cell_type": "code",
   "source": [
    "using BattMo, GLMakie"
   ],
   "metadata": {},
   "execution_count": null
  },
  {
   "cell_type": "markdown",
   "source": [
    "BattMo stores cell parameters, cycling protocols and settings in a user-friendly JSON format to facilitate reuse. For our example, we read\n",
    "the cell parameter set from a NMC811 vs Graphite-SiOx cell whose parameters were determined in the [Chen 2020 paper](https://doi.org/10.1149/1945-7111/ab9050).\n",
    "We also read an example cycling protocol for a simple Constant Current Discharge."
   ],
   "metadata": {}
  },
  {
   "outputs": [],
   "cell_type": "code",
   "source": [
    "file_path_cell = parameter_file_path(\"cell_parameters\", \"Chen2020_calibrated.json\")\n",
    "file_path_cycling = parameter_file_path(\"cycling_protocols\", \"CCDischarge.json\")\n",
    "\n",
    "cell_parameters = load_cell_parameters(; from_file_path = file_path_cell)\n",
    "cycling_protocol = load_cycling_protocol(; from_file_path = file_path_cycling)\n",
    "nothing # hide"
   ],
   "metadata": {},
   "execution_count": null
  },
  {
   "cell_type": "markdown",
   "source": [
    "Next, we select the Lithium-Ion Battery Model with default model settings. A model can be thought as a mathematical implementation of the electrochemical and\n",
    "transport phenomena occuring in a real battery cell. The implementation consist of a system of partial differential equations and their corresponding parameters, constants and boundary conditions.\n",
    "The default Lithium-Ion Battery Model selected below corresponds to a basic P2D model, where neither current collectors nor thermal effects are considered."
   ],
   "metadata": {}
  },
  {
   "outputs": [],
   "cell_type": "code",
   "source": [
    "model = LithiumIonBatteryModel()"
   ],
   "metadata": {},
   "execution_count": null
  },
  {
   "cell_type": "markdown",
   "source": [
    "Then we setup a Simulation by passing the model, cell parameters and a cycling protocol. A Simulation can be thought as a procedure to predict how the cell responds to the cycling protocol,\n",
    "by solving the equations in the model using the cell parameters passed.\n",
    "We first prepare the simulation:"
   ],
   "metadata": {}
  },
  {
   "outputs": [],
   "cell_type": "code",
   "source": [
    "sim = Simulation(model, cell_parameters, cycling_protocol);"
   ],
   "metadata": {},
   "execution_count": null
  },
  {
   "cell_type": "markdown",
   "source": [
    "When the simulation is prepared, there are some validation checks happening in the background, which verify whether i) the cell parameters, cycling protocol and settings are sensible and complete\n",
    "to run a simulation. It is good practice to ensure that the Simulation has been properly configured by checking if has passed the validation procedure:"
   ],
   "metadata": {}
  },
  {
   "outputs": [],
   "cell_type": "code",
   "source": [
    "sim.is_valid"
   ],
   "metadata": {},
   "execution_count": null
  },
  {
   "cell_type": "markdown",
   "source": [
    "Now we can run the simulation"
   ],
   "metadata": {}
  },
  {
   "outputs": [],
   "cell_type": "code",
   "source": [
    "output = solve(sim)\n",
    "nothing # hide"
   ],
   "metadata": {},
   "execution_count": null
  },
  {
   "cell_type": "markdown",
   "source": [
    "Now we'll have a look into what the output entail. The ouput is of type NamedTuple and contains multiple dicts. Lets print the\n",
    "keys of each dict."
   ],
   "metadata": {}
  },
  {
   "outputs": [],
   "cell_type": "code",
   "source": [
    "keys(output)"
   ],
   "metadata": {},
   "execution_count": null
  },
  {
   "cell_type": "markdown",
   "source": [
    "So we can see the the output contains state data, cell specifications, reports on the simulation, the input parameters of the simulation, and some extra data.\n",
    "The most important dicts, that we'll dive a bit deeper into, are the states and cell specifications. First let's see how the states output is structured."
   ],
   "metadata": {}
  },
  {
   "cell_type": "markdown",
   "source": [
    "### States"
   ],
   "metadata": {}
  },
  {
   "outputs": [],
   "cell_type": "code",
   "source": [
    "states = output[:states]\n",
    "typeof(states)"
   ],
   "metadata": {},
   "execution_count": null
  },
  {
   "cell_type": "markdown",
   "source": [
    "As we can see, the states output is a Vector that contains dicts."
   ],
   "metadata": {}
  },
  {
   "outputs": [],
   "cell_type": "code",
   "source": [
    "keys(states)"
   ],
   "metadata": {},
   "execution_count": null
  },
  {
   "cell_type": "markdown",
   "source": [
    "In this case it consists of 77 dicts. Each dict represents\n",
    "a time step in the simulation and each time step stores quantities divided into battery component related group. This structure agrees with the overal model structure of BattMo."
   ],
   "metadata": {}
  },
  {
   "outputs": [],
   "cell_type": "code",
   "source": [
    "initial_state = states[1]\n",
    "keys(initial_state)"
   ],
   "metadata": {},
   "execution_count": null
  },
  {
   "cell_type": "markdown",
   "source": [
    "So each time step contains quantities related to the electrolyte, the negative electrode active material, the cycling control, and the positive electrode active material.\n",
    "Lets print the stored quantities for each group."
   ],
   "metadata": {}
  },
  {
   "cell_type": "markdown",
   "source": [
    "Electrolyte keys:"
   ],
   "metadata": {}
  },
  {
   "outputs": [],
   "cell_type": "code",
   "source": [
    "keys(initial_state[:Elyte])"
   ],
   "metadata": {},
   "execution_count": null
  },
  {
   "cell_type": "markdown",
   "source": [
    "Negative electrode active material keys:"
   ],
   "metadata": {}
  },
  {
   "outputs": [],
   "cell_type": "code",
   "source": [
    "keys(initial_state[:NeAm])"
   ],
   "metadata": {},
   "execution_count": null
  },
  {
   "cell_type": "markdown",
   "source": [
    "Positive electrode active material keys:"
   ],
   "metadata": {}
  },
  {
   "outputs": [],
   "cell_type": "code",
   "source": [
    "keys(initial_state[:PeAm])"
   ],
   "metadata": {},
   "execution_count": null
  },
  {
   "cell_type": "markdown",
   "source": [
    "Control keys:"
   ],
   "metadata": {}
  },
  {
   "outputs": [],
   "cell_type": "code",
   "source": [
    "keys(initial_state[:Control])"
   ],
   "metadata": {},
   "execution_count": null
  },
  {
   "cell_type": "markdown",
   "source": [
    "### Cell specifications\n",
    "Now lets see what quantities are stored within the cellSpecifications dict in the simulation output."
   ],
   "metadata": {}
  },
  {
   "outputs": [],
   "cell_type": "code",
   "source": [
    "cell_specifications = output[:cellSpecifications];\n",
    "keys(cell_specifications)"
   ],
   "metadata": {},
   "execution_count": null
  },
  {
   "cell_type": "markdown",
   "source": [
    "Let's say we want to plot the cell current and cell voltage over time. First we'll retrieve these three quantities from the output."
   ],
   "metadata": {}
  },
  {
   "outputs": [],
   "cell_type": "code",
   "source": [
    "states = output[:states]\n",
    "\n",
    "t = [state[:Control][:ControllerCV].time for state in states]\n",
    "E = [state[:Control][:Phi][1] for state in states]\n",
    "I = [state[:Control][:Current][1] for state in states]\n",
    "nothing # hide"
   ],
   "metadata": {},
   "execution_count": null
  },
  {
   "cell_type": "markdown",
   "source": [
    "Now we can use GLMakie to create a plot. Lets first plot the cell voltage."
   ],
   "metadata": {}
  },
  {
   "outputs": [],
   "cell_type": "code",
   "source": [
    "f = Figure(size = (1000, 400))\n",
    "\n",
    "ax = Axis(f[1, 1],\n",
    "\ttitle = \"Voltage\",\n",
    "\txlabel = \"Time / s\",\n",
    "\tylabel = \"Voltage / V\",\n",
    "\txlabelsize = 25,\n",
    "\tylabelsize = 25,\n",
    "\txticklabelsize = 25,\n",
    "\tyticklabelsize = 25,\n",
    ")\n",
    "\n",
    "\n",
    "scatterlines!(ax,\n",
    "\tt,\n",
    "\tE;\n",
    "\tlinewidth = 4,\n",
    "\tmarkersize = 10,\n",
    "\tmarker = :cross,\n",
    "\tmarkercolor = :black,\n",
    ")\n",
    "\n",
    "f # hide"
   ],
   "metadata": {},
   "execution_count": null
  },
  {
   "cell_type": "markdown",
   "source": [
    "And the cell current."
   ],
   "metadata": {}
  },
  {
   "outputs": [],
   "cell_type": "code",
   "source": [
    "ax = Axis(f[1, 2],\n",
    "\ttitle = \"Current\",\n",
    "\txlabel = \"Time / s\",\n",
    "\tylabel = \"Current / V\",\n",
    "\txlabelsize = 25,\n",
    "\tylabelsize = 25,\n",
    "\txticklabelsize = 25,\n",
    "\tyticklabelsize = 25,\n",
    ")\n",
    "\n",
    "\n",
    "scatterlines!(ax,\n",
    "\tt,\n",
    "\tI;\n",
    "\tlinewidth = 4,\n",
    "\tmarkersize = 10,\n",
    "\tmarker = :cross,\n",
    "\tmarkercolor = :black,\n",
    ")\n",
    "\n",
    "\n",
    "f # hide"
   ],
   "metadata": {},
   "execution_count": null
  },
  {
   "cell_type": "markdown",
   "source": [
    "---\n",
    "\n",
    "*This notebook was generated using [Literate.jl](https://github.com/fredrikekre/Literate.jl).*"
   ],
   "metadata": {}
  }
 ],
 "nbformat_minor": 3,
 "metadata": {
  "language_info": {
   "file_extension": ".jl",
   "mimetype": "application/julia",
   "name": "julia",
   "version": "1.11.5"
  },
  "kernelspec": {
   "name": "julia-1.11",
   "display_name": "Julia 1.11.5",
   "language": "julia"
  }
 },
 "nbformat": 4
}
