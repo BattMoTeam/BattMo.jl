{
 "cells": [
  {
   "cell_type": "markdown",
   "source": [
    "# How to change time and grid resolution in BattMo\n",
    "\n",
    "Until now we have seen three different input types that can be used to define a simulation in BattMo:\n",
    "- CellParameters : defines the physical and chemical properties of the battery cell\n",
    "- CyclingProtocol : defines the current/voltage profile that the cell is subjected to during the simulation\n",
    "- ModelSettings :   defines various settings for the battery model, such as which submodels to use\n",
    "\n",
    "In addition to these, there is a fourth input type called SimulationSettings.\n",
    "These settings allow you to control the time step and grid resolution for your simulations.\n",
    "This can be useful for balancing accuracy and computational cost.\n",
    "\n",
    "Let's see how to change these settings."
   ],
   "metadata": {}
  },
  {
   "outputs": [],
   "cell_type": "code",
   "source": [
    "using BattMo, GLMakie"
   ],
   "metadata": {},
   "execution_count": null
  },
  {
   "cell_type": "markdown",
   "source": [
    "Load cell parameters as before"
   ],
   "metadata": {}
  },
  {
   "outputs": [],
   "cell_type": "code",
   "source": [
    "cell_parameters = load_cell_parameters(; from_default_set = \"Chen2020\")"
   ],
   "metadata": {},
   "execution_count": null
  },
  {
   "cell_type": "markdown",
   "source": [
    "To demonstrate changing time resolution we will use a drive cycle to setup a current function."
   ],
   "metadata": {}
  },
  {
   "cell_type": "markdown",
   "source": [
    "Create wltp function to calculate Current (WLTP data from https://github.com/JRCSTU/wltp)"
   ],
   "metadata": {}
  },
  {
   "outputs": [],
   "cell_type": "code",
   "source": [
    "using CSV\n",
    "using DataFrames\n",
    "using Jutul\n",
    "\n",
    "data_path = string(dirname(pathof(BattMo)), \"/../examples/example_data/\")\n",
    "path = joinpath(data_path, \"wltp.csv\")\n",
    "\n",
    "df = CSV.read(path, DataFrame)\n",
    "\n",
    "t = df[:, 1]\n",
    "P = df[:, 2]\n",
    "\n",
    "power_func = get_1d_interpolator(t, P, cap_endpoints = false)\n",
    "\n",
    "\n",
    "function current_function(time, voltage)\n",
    "\n",
    "\tfactor = 4000 # Tot account for the fact that we're simulating a single cell instead of a battery pack\n",
    "\n",
    "\treturn power_func(time) / voltage / factor\n",
    "end\n",
    "\n",
    "@eval Main current_function = $current_function"
   ],
   "metadata": {},
   "execution_count": null
  },
  {
   "cell_type": "markdown",
   "source": [
    "Load a cycling protocol that uses the current function"
   ],
   "metadata": {}
  },
  {
   "outputs": [],
   "cell_type": "code",
   "source": [
    "cycling_protocol = load_cycling_protocol(; from_default_set = \"user_defined_current_function\")"
   ],
   "metadata": {},
   "execution_count": null
  },
  {
   "cell_type": "markdown",
   "source": [
    "Plot the drive data to see what we are simulating"
   ],
   "metadata": {}
  },
  {
   "outputs": [],
   "cell_type": "code",
   "source": [
    "fig = Figure(size = (1000, 400))\n",
    "ax = Axis(fig[1, 1], title = \"Drive cycle\", xlabel = \"Time / s\", ylabel = \"Power / W\")\n",
    "lines!(ax, t, P)\n",
    "fig"
   ],
   "metadata": {},
   "execution_count": null
  },
  {
   "cell_type": "markdown",
   "source": [
    "Load default simulation settings for the P2D model"
   ],
   "metadata": {}
  },
  {
   "outputs": [],
   "cell_type": "code",
   "source": [
    "simulation_settings = load_simulation_settings(; from_default_set = \"P2D\")"
   ],
   "metadata": {},
   "execution_count": null
  },
  {
   "cell_type": "markdown",
   "source": [
    "run the simulation"
   ],
   "metadata": {}
  },
  {
   "outputs": [],
   "cell_type": "code",
   "source": [
    "model = LithiumIonBattery()\n",
    "sim = Simulation(model, cell_parameters, cycling_protocol; simulation_settings)\n",
    "output = solve(sim;)"
   ],
   "metadata": {},
   "execution_count": null
  },
  {
   "cell_type": "markdown",
   "source": [
    "Plot the results"
   ],
   "metadata": {}
  },
  {
   "outputs": [],
   "cell_type": "code",
   "source": [
    "plot_dashboard(output)"
   ],
   "metadata": {},
   "execution_count": null
  },
  {
   "cell_type": "markdown",
   "source": [
    "We can see from the plot that the time resolution is way too low to capture the dynamics of the drive cycle.\n",
    "We can change the time resolution by modifying the simulation settings. Let's see which simulation setting is available that has to do with time."
   ],
   "metadata": {}
  },
  {
   "outputs": [],
   "cell_type": "code",
   "source": [
    "print_setting_info(\"time\"; category = \"SimulationSettings\")"
   ],
   "metadata": {},
   "execution_count": null
  },
  {
   "cell_type": "markdown",
   "source": [
    "We can see that the time step can be controlled by TimeStepDuration."
   ],
   "metadata": {}
  },
  {
   "outputs": [],
   "cell_type": "code",
   "source": [
    "simulation_settings[\"TimeStepDuration\"] = 1.0 # Set the initial time step duration to 1 second"
   ],
   "metadata": {},
   "execution_count": null
  },
  {
   "cell_type": "markdown",
   "source": [
    "Now let's rerun the simulation with the new time step duration and plot the results."
   ],
   "metadata": {}
  },
  {
   "outputs": [],
   "cell_type": "code",
   "source": [
    "sim = Simulation(model, cell_parameters, cycling_protocol; simulation_settings)\n",
    "output = solve(sim;)\n",
    "plot_dashboard(output)"
   ],
   "metadata": {},
   "execution_count": null
  },
  {
   "cell_type": "markdown",
   "source": [
    "We can see that the time resolution is much better now and we can capture the dynamics of the drive cycle."
   ],
   "metadata": {}
  },
  {
   "cell_type": "markdown",
   "source": [
    "We can also plot the concentrations and potentials in the cell to see how they change over time and position.\n",
    "Let's plot them as line plots over position so we can have a look at the grid resolution."
   ],
   "metadata": {}
  },
  {
   "outputs": [],
   "cell_type": "code",
   "source": [
    "plot_dashboard(output; plot_type = \"line\")"
   ],
   "metadata": {},
   "execution_count": null
  },
  {
   "cell_type": "markdown",
   "source": [
    "Now scrol the bar at the bottom of the window the change the time step to see how the concentrations and potentials change over time.\n",
    "For most time steps, we can see that the electrolyte concentration and positive electrode surface concentration over position are not smooth.\n",
    "This is because the grid resolution of the separator and positive electrode is too low to capture the concentration gradient.\n",
    "We can change the grid resolution by modifying the simulation settings. Let's see which simulation setting is available that changes the positive electrode coating thickness grid resolution."
   ],
   "metadata": {}
  },
  {
   "outputs": [],
   "cell_type": "code",
   "source": [
    "print_setting_info(\"PositiveElectrode\"; category = \"SimulationSettings\")"
   ],
   "metadata": {},
   "execution_count": null
  },
  {
   "cell_type": "markdown",
   "source": [
    "And the separator grid resolution."
   ],
   "metadata": {}
  },
  {
   "outputs": [],
   "cell_type": "code",
   "source": [
    "print_setting_info(\"Separator\"; category = \"SimulationSettings\")"
   ],
   "metadata": {},
   "execution_count": null
  },
  {
   "cell_type": "markdown",
   "source": [
    "We can see that the grid resolutions can be controlled by GridResolutionPositiveElectrodeCoating and GridResolutionSeparator."
   ],
   "metadata": {}
  },
  {
   "cell_type": "markdown",
   "source": [
    "Lets have a look at the current grid resolutions and increase them."
   ],
   "metadata": {}
  },
  {
   "outputs": [],
   "cell_type": "code",
   "source": [
    "println(\"Current grid resolution in positive electrode coating and separator: \",\n",
    "\tsimulation_settings[\"GridResolutionPositiveElectrodeCoating\"],\n",
    "\t\" and \",\n",
    "\tsimulation_settings[\"GridResolutionSeparator\"])\n",
    "\n",
    "simulation_settings[\"GridResolutionPositiveElectrodeCoating\"] = 20 # Increase the grid resolution in the positive electrode coating to 20\n",
    "simulation_settings[\"GridResolutionNegativeElectrodeCoating\"] = 20 # Increase the grid resolution in the separator to 10\n",
    "\n",
    "#Let's rerun the simulation with the new grid resolution and plot the results.\n",
    "sim = Simulation(model, cell_parameters, cycling_protocol; simulation_settings)\n",
    "output = solve(sim;)\n",
    "plot_dashboard(output; plot_type = \"line\")"
   ],
   "metadata": {},
   "execution_count": null
  },
  {
   "cell_type": "markdown",
   "source": [
    "We can see that the electrolyte concentration and positive electrode surface concentration over position are now smooth."
   ],
   "metadata": {}
  },
  {
   "cell_type": "markdown",
   "source": [
    "---\n",
    "\n",
    "*This notebook was generated using [Literate.jl](https://github.com/fredrikekre/Literate.jl).*"
   ],
   "metadata": {}
  }
 ],
 "nbformat_minor": 3,
 "metadata": {
  "language_info": {
   "file_extension": ".jl",
   "mimetype": "application/julia",
   "name": "julia",
   "version": "1.11.3"
  },
  "kernelspec": {
   "name": "julia-1.11",
   "display_name": "Julia 1.11.3",
   "language": "julia"
  }
 },
 "nbformat": 4
}
