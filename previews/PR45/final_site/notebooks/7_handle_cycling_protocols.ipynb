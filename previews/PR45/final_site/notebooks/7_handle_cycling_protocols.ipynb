{
 "cells": [
  {
   "cell_type": "markdown",
   "source": [
    "# Handling cycling protocols"
   ],
   "metadata": {}
  },
  {
   "cell_type": "markdown",
   "source": [
    "In this tutorial, we demonstrate functionality to handle cycling protcols. We will illustrate the effect that the DRate has on battery\n",
    "performance during discharge, using a constant-current (CC) discharge protocol."
   ],
   "metadata": {}
  },
  {
   "cell_type": "markdown",
   "source": [
    "### Load required packages and data\n",
    "We start by loading the necessary parameters sets and instantiating a model. For the cyling protocol, we'll start from the default constant current discharge protocol."
   ],
   "metadata": {}
  },
  {
   "outputs": [],
   "cell_type": "code",
   "source": [
    "using BattMo, GLMakie, Printf"
   ],
   "metadata": {},
   "execution_count": null
  },
  {
   "cell_type": "markdown",
   "source": [
    "Load cell and model setup"
   ],
   "metadata": {}
  },
  {
   "outputs": [],
   "cell_type": "code",
   "source": [
    "cell_parameters = load_cell_parameters(; from_default_set = \"Chen2020_calibrated\")\n",
    "cc_discharge_protocol = load_cycling_protocol(; from_default_set = \"CCDischarge\")"
   ],
   "metadata": {},
   "execution_count": null
  },
  {
   "cell_type": "markdown",
   "source": [
    "Load default model"
   ],
   "metadata": {}
  },
  {
   "outputs": [],
   "cell_type": "code",
   "source": [
    "model_setup = LithiumIonBattery()"
   ],
   "metadata": {},
   "execution_count": null
  },
  {
   "cell_type": "markdown",
   "source": [
    "### Handle, access and edit cycling protocols\n",
    "We manipulate a cycling protocol in the same was as we do cell parameters in the previous tutorial. To list all outermost keys:"
   ],
   "metadata": {}
  },
  {
   "outputs": [],
   "cell_type": "code",
   "source": [
    "keys(cc_discharge_protocol)"
   ],
   "metadata": {},
   "execution_count": null
  },
  {
   "cell_type": "markdown",
   "source": [
    "Show all keys and values"
   ],
   "metadata": {}
  },
  {
   "outputs": [],
   "cell_type": "code",
   "source": [
    "cc_discharge_protocol.all"
   ],
   "metadata": {},
   "execution_count": null
  },
  {
   "cell_type": "markdown",
   "source": [
    "Search for a specific parameter"
   ],
   "metadata": {}
  },
  {
   "outputs": [],
   "cell_type": "code",
   "source": [
    "search_parameter(cc_discharge_protocol, \"rate\")"
   ],
   "metadata": {},
   "execution_count": null
  },
  {
   "cell_type": "markdown",
   "source": [
    "Access a specific parameter"
   ],
   "metadata": {}
  },
  {
   "outputs": [],
   "cell_type": "code",
   "source": [
    "cc_discharge_protocol[\"DRate\"]"
   ],
   "metadata": {},
   "execution_count": null
  },
  {
   "cell_type": "markdown",
   "source": [
    "Change protocol parameters as dicitonaries"
   ],
   "metadata": {}
  },
  {
   "outputs": [],
   "cell_type": "code",
   "source": [
    "cc_discharge_protocol[\"DRate\"] = 2.0"
   ],
   "metadata": {},
   "execution_count": null
  },
  {
   "cell_type": "markdown",
   "source": [
    "### Compare cell performance across DRates\n",
    "Lets now do something more fun. Since we can edit scalar valued parameters as we edit dictionaries, we can loop through different DRates and run\n",
    "a simulation for each. We can then compare the cell voltage profiles for each DRate."
   ],
   "metadata": {}
  },
  {
   "cell_type": "markdown",
   "source": [
    "Let’s define the range of C-rates to explore:"
   ],
   "metadata": {}
  },
  {
   "outputs": [],
   "cell_type": "code",
   "source": [
    "d_rates = [0.2, 0.5, 1.0, 2.0]"
   ],
   "metadata": {},
   "execution_count": null
  },
  {
   "cell_type": "markdown",
   "source": [
    "Now loop through these values, update the protocol, and store the results:"
   ],
   "metadata": {}
  },
  {
   "outputs": [],
   "cell_type": "code",
   "source": [
    "outputs = []\n",
    "\n",
    "for d_rate in d_rates\n",
    "\tprotocol = deepcopy(cc_discharge_protocol)\n",
    "\tprotocol[\"DRate\"] = d_rate\n",
    "\n",
    "\tsim = Simulation(model_setup, cell_parameters, protocol)\n",
    "\toutput = solve(sim; config_kwargs = (; end_report = false))\n",
    "\tpush!(outputs, (d_rate = d_rate, output = output))\n",
    "end\n",
    "nothing # hide"
   ],
   "metadata": {},
   "execution_count": null
  },
  {
   "cell_type": "markdown",
   "source": [
    "### Analyze Voltage and Capacity\n",
    "We'll extract the voltage vs. time and delivered capacity for each C-rate:"
   ],
   "metadata": {}
  },
  {
   "outputs": [],
   "cell_type": "code",
   "source": [
    "fig = Figure(size = (1000, 400))\n",
    "ax1 = Axis(fig[1, 1], title = \"Voltage vs Time\", xlabel = \"Time / s\", ylabel = \"Voltage / V\")\n",
    "\n",
    "for result in outputs\n",
    "\n",
    "\tstates = result.output[:states]\n",
    "\tt = [state[:Control][:Controller].time for state in states]\n",
    "\tE = [state[:Control][:Phi][1] for state in states]\n",
    "\tI = [state[:Control][:Current][1] for state in states]\n",
    "\n",
    "\tlabel_str = @sprintf(\"%.1fC\", result.d_rate)\n",
    "\tlines!(ax1, t, E, label = label_str)\n",
    "\n",
    "end\n",
    "\n",
    "fig[1, 3] = Legend(fig, ax1, \"C-rates\", framevisible = false)\n",
    "fig"
   ],
   "metadata": {},
   "execution_count": null
  },
  {
   "cell_type": "markdown",
   "source": [
    "We see this cell has poor power capabilities since its capacity decreases quite rapidly with DRate."
   ],
   "metadata": {}
  },
  {
   "cell_type": "markdown",
   "source": [
    "---\n",
    "\n",
    "*This notebook was generated using [Literate.jl](https://github.com/fredrikekre/Literate.jl).*"
   ],
   "metadata": {}
  }
 ],
 "nbformat_minor": 3,
 "metadata": {
  "language_info": {
   "file_extension": ".jl",
   "mimetype": "application/julia",
   "name": "julia",
   "version": "1.11.5"
  },
  "kernelspec": {
   "name": "julia-1.11",
   "display_name": "Julia 1.11.5",
   "language": "julia"
  }
 },
 "nbformat": 4
}
