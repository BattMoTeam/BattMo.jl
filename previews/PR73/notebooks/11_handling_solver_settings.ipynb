{
 "cells": [
  {
   "cell_type": "markdown",
   "source": [
    "# How to change solver related settings in BattMo\n",
    "\n",
    "Until now we have seen four different input types that can be used to define a simulation in BattMo:\n",
    "- CellParameters : defines the physical and chemical properties of the battery cell\n",
    "- CyclingProtocol : defines the current/voltage profile that the cell is subjected to during the simulation\n",
    "- ModelSettings :   defines various settings for the battery model, such as which submodels to use\n",
    "- SimulationSettings : defines the time step and grid resolution for your simulations\n",
    "\n",
    "In addition to these, there is a fifth input type called SolverSettings.\n",
    "These settings allow you to control various aspects of the numerical solver used in BattMo.\n",
    "This can be useful for improving convergence, stability, and performance of the simulations.\n",
    "But as a beginner, just learning how to use BattMo, for most solver settings you'll stick with the default settings.\n",
    "Therefore, we will not go into detail about all the available options here, but just show how to load and modify the solver settings\n",
    "for a couple of specific settings that can be very useful and handy for every user.\n",
    "\n",
    "Let's get into it."
   ],
   "metadata": {}
  },
  {
   "outputs": [],
   "cell_type": "code",
   "source": [
    "using BattMo, GLMakie"
   ],
   "metadata": {},
   "execution_count": null
  },
  {
   "cell_type": "markdown",
   "source": [
    "Just like we can load the default cell parameters, cycling protocol, model settings, and simulation settings,\n",
    "we can also load the default solver settings."
   ],
   "metadata": {}
  },
  {
   "outputs": [],
   "cell_type": "code",
   "source": [
    "solver_settings = load_solver_settings(; from_default_set = \"default\")"
   ],
   "metadata": {},
   "execution_count": null
  },
  {
   "cell_type": "markdown",
   "source": [
    "Lets setup a simple simulation to demonstrate the solver settings."
   ],
   "metadata": {}
  },
  {
   "outputs": [],
   "cell_type": "code",
   "source": [
    "cell_parameters = load_cell_parameters(; from_default_set = \"Chen2020\")\n",
    "cycling_protocol = load_cycling_protocol(; from_default_set = \"CCDischarge\")\n",
    "\n",
    "model = LithiumIonBattery()\n",
    "sim = Simulation(model, cell_parameters, cycling_protocol)"
   ],
   "metadata": {},
   "execution_count": null
  },
  {
   "cell_type": "markdown",
   "source": [
    "As the solver settings tell the solver how to solve the simulation object, we need to pass the solver settings to the solve function."
   ],
   "metadata": {}
  },
  {
   "outputs": [],
   "cell_type": "code",
   "source": [
    "output = solve(sim; solver_settings)"
   ],
   "metadata": {},
   "execution_count": null
  },
  {
   "cell_type": "markdown",
   "source": [
    "The simulation should run just like before, but now we have the option to modify the solver settings.\n",
    "One useful setting is that we can set an output path that will save the simulation output to an HDF5 file.\n",
    "This can be useful if you are running long simulations and want to save the output for later analysis.\n",
    "By default, the output is not saved to a file, but we can change that by setting the OutputPath field in the solver settings."
   ],
   "metadata": {}
  },
  {
   "outputs": [],
   "cell_type": "code",
   "source": [
    "solver_settings[\"OutputPath\"] = \"example_path/\"\n",
    "try # hide\n",
    "\toutput = solve(sim; solver_settings)\n",
    "catch e # hide\n",
    "\t@warn \"Expected to fail because the path does not exist\" exception = e # hide\n",
    "end # hide\n",
    "nothing # hide"
   ],
   "metadata": {},
   "execution_count": null
  },
  {
   "cell_type": "markdown",
   "source": [
    "Another convenient setting is the option to change the amount of information printed to the console during the simulation. For this we use the setting \"InfoLevel\".\n",
    "This can be useful for monitoring the progress of the simulation, and debugging purposes. Or on the contrary, if you want to run a simulation without any output to the console, you can set the value to -1.\n",
    "Let's have a look at the description of the setting to see the available options."
   ],
   "metadata": {}
  },
  {
   "outputs": [],
   "cell_type": "code",
   "source": [
    "print_setting_info(\"InfoLevel\")"
   ],
   "metadata": {},
   "execution_count": null
  },
  {
   "cell_type": "markdown",
   "source": [
    "As you can see, the default value is 0, which gives minimal output (just a progress bar by default, and a final report)."
   ],
   "metadata": {}
  },
  {
   "cell_type": "markdown",
   "source": [
    "To have a look at the other available settings, you can print them all like this:"
   ],
   "metadata": {}
  },
  {
   "outputs": [],
   "cell_type": "code",
   "source": [
    "print_setting_info(\"\"; category = \"SolverSettings\")"
   ],
   "metadata": {},
   "execution_count": null
  },
  {
   "cell_type": "markdown",
   "source": [
    "As most of the time we'll only change one or two settings, and we use some of the settings often temporary, BattMo also has the option to\n",
    "pass the solver settings directly to the solve function, without having to create a SolverSettings object first.\n",
    "This can be useful for quick tests, or if you want to change a setting for a single simulation only. In that case you have to pass them\n",
    "as keyword arguments to the solve function. Because of convention, we use snake_case for the keyword arguments, instead of the usual CamelCase used in the SolverSettings object.\n",
    "The snake_case name is just the CamelCase name with the first letter lowercased and the low dash in between, if you're unsure, you can find the\n",
    "correct name by printing the setting info as shown above."
   ],
   "metadata": {}
  },
  {
   "outputs": [],
   "cell_type": "code",
   "source": [
    "output = solve(sim; info_level = 2)"
   ],
   "metadata": {},
   "execution_count": null
  },
  {
   "cell_type": "markdown",
   "source": [
    "These keywork arguments will override the settings in the SolverSettings object, if both are provided."
   ],
   "metadata": {}
  },
  {
   "cell_type": "markdown",
   "source": [
    "---\n",
    "\n",
    "*This notebook was generated using [Literate.jl](https://github.com/fredrikekre/Literate.jl).*"
   ],
   "metadata": {}
  }
 ],
 "nbformat_minor": 3,
 "metadata": {
  "language_info": {
   "file_extension": ".jl",
   "mimetype": "application/julia",
   "name": "julia",
   "version": "1.11.3"
  },
  "kernelspec": {
   "name": "julia-1.11",
   "display_name": "Julia 1.11.3",
   "language": "julia"
  }
 },
 "nbformat": 4
}
