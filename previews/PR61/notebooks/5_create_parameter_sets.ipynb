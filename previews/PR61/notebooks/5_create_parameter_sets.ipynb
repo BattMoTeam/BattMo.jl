{
 "cells": [
  {
   "cell_type": "markdown",
   "source": [
    "# Tutorial: Creating Your Own Parameter Sets in BattMo.jl"
   ],
   "metadata": {}
  },
  {
   "cell_type": "markdown",
   "source": [
    "This tutorial walks you through the process of creating and customizing your own parameter sets in **BattMo.jl**. Parameter sets define the physical and chemical properties of the battery system you're simulating. You can build them from scratch using model templates, modify them, and save them for future use."
   ],
   "metadata": {}
  },
  {
   "cell_type": "markdown",
   "source": [
    "## Step 1: Load a Model Setup"
   ],
   "metadata": {}
  },
  {
   "outputs": [],
   "cell_type": "code",
   "source": [
    "#First, define the battery model configuration you'd like to use. This will serve as the template for generating your parameter set. BattMo includes several default setups to choose from.\n",
    "\n",
    "\n",
    "using BattMo\n",
    "\n",
    "model_settings = load_model_settings(; from_default_set = \"P4D_pouch\")\n",
    "model_setup = LithiumIonBattery(; model_settings)"
   ],
   "metadata": {},
   "execution_count": null
  },
  {
   "cell_type": "markdown",
   "source": [
    "## Step 2: Create an Empty Parameter Set"
   ],
   "metadata": {}
  },
  {
   "cell_type": "markdown",
   "source": [
    "Next, create an empty parameter dictionary based on your model setup. This will include all the required keys but without any values filled in."
   ],
   "metadata": {}
  },
  {
   "outputs": [],
   "cell_type": "code",
   "source": [
    "empty_cell_parameter_set = load_cell_parameters(; from_model_template = model_setup)"
   ],
   "metadata": {},
   "execution_count": null
  },
  {
   "cell_type": "markdown",
   "source": [
    "## Step 3: Save the Empty Parameter Set to a JSON File"
   ],
   "metadata": {}
  },
  {
   "cell_type": "markdown",
   "source": [
    "You can now write this empty set to a JSON file. This file can be edited manually, shared, or used as a base for further customization."
   ],
   "metadata": {}
  },
  {
   "outputs": [],
   "cell_type": "code",
   "source": [
    "file_path = \"my_custom_parameters.json\"\n",
    "write_to_json_file(file_path, empty_cell_parameter_set)"
   ],
   "metadata": {},
   "execution_count": null
  },
  {
   "cell_type": "markdown",
   "source": [
    "## Step 4: Get Help with Parameters"
   ],
   "metadata": {}
  },
  {
   "cell_type": "markdown",
   "source": [
    "If you're unsure about what a specific parameter means or how it should be formatted, BattMo provides a helpful function to inspect any parameter."
   ],
   "metadata": {}
  },
  {
   "outputs": [],
   "cell_type": "code",
   "source": [
    "print_parameter_info(\"OpenCircuitPotential\")"
   ],
   "metadata": {},
   "execution_count": null
  },
  {
   "cell_type": "markdown",
   "source": [
    "## Step 5: Now you can load you own parameter set to run simulations with it."
   ],
   "metadata": {}
  },
  {
   "outputs": [],
   "cell_type": "code",
   "source": [
    "try # hide\n",
    "\tcell_parameters = load_cell_parameters(; from_file_path = \"my_custom_parameters.json\")\n",
    "\tnothing # hide\n",
    "catch # hide\n",
    "\tnothing # hide\n",
    "end # hide"
   ],
   "metadata": {},
   "execution_count": null
  },
  {
   "cell_type": "markdown",
   "source": [
    "---\n",
    "\n",
    "*This notebook was generated using [Literate.jl](https://github.com/fredrikekre/Literate.jl).*"
   ],
   "metadata": {}
  }
 ],
 "nbformat_minor": 3,
 "metadata": {
  "language_info": {
   "file_extension": ".jl",
   "mimetype": "application/julia",
   "name": "julia",
   "version": "1.11.3"
  },
  "kernelspec": {
   "name": "julia-1.11",
   "display_name": "Julia 1.11.3",
   "language": "julia"
  }
 },
 "nbformat": 4
}
