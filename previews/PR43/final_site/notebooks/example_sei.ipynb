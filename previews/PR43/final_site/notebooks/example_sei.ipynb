{
 "cells": [
  {
   "cell_type": "markdown",
   "source": [
    "# Example with SEI layer"
   ],
   "metadata": {}
  },
  {
   "cell_type": "markdown",
   "source": [
    "## Preparation of the input"
   ],
   "metadata": {}
  },
  {
   "outputs": [],
   "cell_type": "code",
   "source": [
    "using Jutul, BattMo, GLMakie"
   ],
   "metadata": {},
   "execution_count": null
  },
  {
   "cell_type": "markdown",
   "source": [
    "We use the SEI model presented in [bolay2022](@cite). We use the json data given in [bolay.json](https://github.com/BattMoTeam/BattMo.jl/blob/main/test/data/jsonfiles/bolay.json#L157) which contains the parameters for the SEI layer."
   ],
   "metadata": {}
  },
  {
   "outputs": [],
   "cell_type": "code",
   "source": [
    "file_path_cell = parameter_file_path(\"cell_parameters\", \"SEI_example.json\")\n",
    "file_path_cycling = parameter_file_path(\"cycling_protocols\", \"CCCV.json\")\n",
    "file_path_simulation = parameter_file_path(\"simulation_settings\", \"P2D.json\")\n",
    "\n",
    "cell_parameters = load_cell_parameters(; from_file_path = file_path_cell)\n",
    "cycling_protocol = load_cycling_protocol(; from_file_path = file_path_cycling)\n",
    "simulation_settings = load_simulation_settings(; from_file_path = file_path_simulation)\n",
    "\n",
    "nothing # hide"
   ],
   "metadata": {},
   "execution_count": null
  },
  {
   "cell_type": "markdown",
   "source": [
    "We retrieve the parameters for the SEI layer, using the fact that their names have a \"SEI\" prefix."
   ],
   "metadata": {}
  },
  {
   "outputs": [],
   "cell_type": "code",
   "source": [
    "interphaseparams = cell_parameters[\"NegativeElectrode\"][\"Interphase\"]\n",
    "Dict(interphaseparams)"
   ],
   "metadata": {},
   "execution_count": null
  },
  {
   "cell_type": "markdown",
   "source": [
    "## We start the simulation and retrieve the result"
   ],
   "metadata": {}
  },
  {
   "outputs": [],
   "cell_type": "code",
   "source": [
    "model_setup = LithiumIonBattery();\n",
    "\n",
    "model_settings = model_setup.model_settings\n",
    "model_settings[\"UseSEIModel\"] = \"Bolay\"\n",
    "\n",
    "cycling_protocol[\"TotalNumberOfCycles\"] = 10\n",
    "\n",
    "sim = Simulation(model_setup, cell_parameters, cycling_protocol; simulation_settings);\n",
    "\n",
    "output = solve(sim)\n",
    "\n",
    "states = output[:states]\n",
    "\n",
    "t = [state[:Control][:Controller].time for state in states]\n",
    "E = [state[:Control][:Phi][1] for state in states]\n",
    "I = [state[:Control][:Current][1] for state in states]\n",
    "nothing # hide"
   ],
   "metadata": {},
   "execution_count": null
  },
  {
   "cell_type": "markdown",
   "source": [
    "## Plot of voltage and current"
   ],
   "metadata": {}
  },
  {
   "outputs": [],
   "cell_type": "code",
   "source": [
    "f = Figure(size = (1000, 400))\n",
    "\n",
    "ax = Axis(f[1, 1],\n",
    "\ttitle = \"Voltage\",\n",
    "\txlabel = \"Time / s\",\n",
    "\tylabel = \"Voltage / V\",\n",
    "\txlabelsize = 25,\n",
    "\tylabelsize = 25,\n",
    "\txticklabelsize = 25,\n",
    "\tyticklabelsize = 25,\n",
    ")\n",
    "\n",
    "scatterlines!(ax,\n",
    "\tt,\n",
    "\tE;\n",
    "\tlinewidth = 4,\n",
    "\tmarkersize = 10,\n",
    "\tmarker = :cross,\n",
    "\tmarkercolor = :black,\n",
    "\tlabel = \"Julia\",\n",
    ")\n",
    "\n",
    "ax = Axis(f[1, 2],\n",
    "\ttitle = \"Current\",\n",
    "\txlabel = \"Time / s\",\n",
    "\tylabel = \"Current / A\",\n",
    "\txlabelsize = 25,\n",
    "\tylabelsize = 25,\n",
    "\txticklabelsize = 25,\n",
    "\tyticklabelsize = 25,\n",
    ")\n",
    "\n",
    "scatterlines!(ax,\n",
    "\tt,\n",
    "\tI;\n",
    "\tlinewidth = 4,\n",
    "\tmarkersize = 10,\n",
    "\tmarker = :cross,\n",
    "\tmarkercolor = :black,\n",
    "\tlabel = \"Julia\",\n",
    ")\n",
    "\n",
    "display(GLMakie.Screen(), f) # hide\n",
    "f # hide"
   ],
   "metadata": {},
   "execution_count": null
  },
  {
   "cell_type": "markdown",
   "source": [
    "## Plot of SEI length"
   ],
   "metadata": {}
  },
  {
   "cell_type": "markdown",
   "source": [
    "We recover the SEI length from the `state` output"
   ],
   "metadata": {}
  },
  {
   "outputs": [],
   "cell_type": "code",
   "source": [
    "seilength = [state[:NeAm][:SEIlength][end] for state in states]\n",
    "\n",
    "f = Figure(size = (1000, 400))\n",
    "\n",
    "ax = Axis(f[1, 1],\n",
    "\ttitle = \"Length\",\n",
    "\txlabel = \"Time / s\",\n",
    "\tylabel = \"Length / m\",\n",
    "\txlabelsize = 25,\n",
    "\tylabelsize = 25,\n",
    "\txticklabelsize = 25,\n",
    "\tyticklabelsize = 25,\n",
    ")\n",
    "\n",
    "scatterlines!(ax,\n",
    "\tt,\n",
    "\tseilength;\n",
    "\tlinewidth = 4,\n",
    "\tmarkersize = 10,\n",
    "\tmarker = :cross,\n",
    "\tmarkercolor = :black)\n",
    "\n",
    "ax = Axis(f[2, 1],\n",
    "\ttitle = \"Length\",\n",
    "\txlabel = \"Time / s\",\n",
    "\tylabel = \"Voltage / V\",\n",
    "\txlabelsize = 25,\n",
    "\tylabelsize = 25,\n",
    "\txticklabelsize = 25,\n",
    "\tyticklabelsize = 25,\n",
    ")\n",
    "\n",
    "scatterlines!(ax,\n",
    "\tt,\n",
    "\tE;\n",
    "\tlinewidth = 4,\n",
    "\tmarkersize = 10,\n",
    "\tmarker = :cross,\n",
    "\tmarkercolor = :black)\n",
    "\n",
    "display(GLMakie.Screen(), f) # hide\n",
    "f # hide"
   ],
   "metadata": {},
   "execution_count": null
  },
  {
   "cell_type": "markdown",
   "source": [
    "---\n",
    "\n",
    "*This notebook was generated using [Literate.jl](https://github.com/fredrikekre/Literate.jl).*"
   ],
   "metadata": {}
  }
 ],
 "nbformat_minor": 3,
 "metadata": {
  "language_info": {
   "file_extension": ".jl",
   "mimetype": "application/julia",
   "name": "julia",
   "version": "1.11.5"
  },
  "kernelspec": {
   "name": "julia-1.11",
   "display_name": "Julia 1.11.5",
   "language": "julia"
  }
 },
 "nbformat": 4
}
