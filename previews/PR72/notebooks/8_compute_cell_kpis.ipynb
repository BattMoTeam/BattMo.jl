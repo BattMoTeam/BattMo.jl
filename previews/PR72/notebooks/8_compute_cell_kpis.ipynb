{
 "cells": [
  {
   "cell_type": "markdown",
   "source": [
    "# Compute Cell KPIs"
   ],
   "metadata": {}
  },
  {
   "cell_type": "markdown",
   "source": [
    "BattMo implements several utilities to compute cell metrics, derived both from the cell parameter set and from simulation outputs.\n",
    "These metrics cover most of the points required by battery checklists published by reputable journals, namely the\n",
    "[Cell Press checklist](https://doi.org/10.1016/j.joule.2020.12.026) and the [ACS Energy Letter's checklist](https://doi.org/10.1021/acsenergylett.1c00870)."
   ],
   "metadata": {}
  },
  {
   "cell_type": "markdown",
   "source": [
    "###  Load parameter set and run simulation"
   ],
   "metadata": {}
  },
  {
   "outputs": [],
   "cell_type": "code",
   "source": [
    "using BattMo, GLMakie\n",
    "\n",
    "\n",
    "cell_parameters = load_cell_parameters(; from_default_set = \"Chen2020\")\n",
    "cycling_protocol = load_cycling_protocol(; from_default_set = \"CCDischarge\")\n",
    "nothing # hide\n",
    "\n",
    "model = LithiumIonBattery()\n",
    "\n",
    "sim = Simulation(model, cell_parameters, cycling_protocol);\n",
    "\n",
    "output = solve(sim)\n",
    "nothing # hide"
   ],
   "metadata": {},
   "execution_count": null
  },
  {
   "cell_type": "markdown",
   "source": [
    "### Cell KPIs from the parameter set\n",
    "Some KPIs are directly computable from the cell parameter set. Here below we list the main KPIs we can compute with BattMo.\n",
    "For illustration, we create a Dictionary storing the values of the computations."
   ],
   "metadata": {}
  },
  {
   "outputs": [],
   "cell_type": "code",
   "source": [
    "cell_kpis_from_set = Dict(\n",
    "\t\"Positive Electrode Coating Mass\" => compute_electrode_coating_mass(cell_parameters, \"PositiveElectrode\"),\n",
    "\t\"Negative Electrode Coating Mass\" => compute_electrode_coating_mass(cell_parameters, \"NegativeElectrode\"),\n",
    "\t\"Separator Mass\" => compute_separator_mass(cell_parameters),\n",
    "\t\"Positive Electrode Current Collector Mass\" => compute_current_collector_mass(cell_parameters, \"PositiveElectrode\"),\n",
    "\t\"Negative Electrode Current Collector Mass\" => compute_current_collector_mass(cell_parameters, \"NegativeElectrode\"),\n",
    "\t\"Electrolyte Mass\" => compute_electrolyte_mass(cell_parameters),\n",
    "\t\"Cell Mass\" => compute_cell_mass(cell_parameters),\n",
    "\t\"Cell Volume\" => compute_cell_volume(cell_parameters),\n",
    "\t\"Positive Electrode Mass Loading\" => compute_electrode_mass_loading(cell_parameters, \"PositiveElectrode\"),\n",
    "\t\"Negative Electrode Mass Loading\" => compute_electrode_mass_loading(cell_parameters, \"NegativeElectrode\"),\n",
    "\t\"Cell Theoretical Capacity\" => compute_cell_theoretical_capacity(cell_parameters),\n",
    "\t\"Cell N:P Ratio\" => compute_np_ratio(cell_parameters),\n",
    ")"
   ],
   "metadata": {},
   "execution_count": null
  },
  {
   "cell_type": "markdown",
   "source": [
    "The functions to compute the cell mass and cell volume also offer an option to print the breakdown of masses without returning the total mass. The breakdown can be useful to\n",
    "verify the parameters are sensible, and to calculate a Bill of Materials (BOM)"
   ],
   "metadata": {}
  },
  {
   "outputs": [],
   "cell_type": "code",
   "source": [
    "compute_cell_mass(cell_parameters; print_breakdown = true);"
   ],
   "metadata": {},
   "execution_count": null
  },
  {
   "cell_type": "markdown",
   "source": [
    "### Cell KPIs from simulation output\n",
    "Once we run a simulation we can access additional cell KPIs such as energy density, specific energy, mean power output, etc."
   ],
   "metadata": {}
  },
  {
   "outputs": [],
   "cell_type": "code",
   "source": [
    "cell_kpis_from_output = Dict(\n",
    "\t\"Discharge capacity\" => compute_discharge_capacity(output),\n",
    "\t\"Discharge energy\" => compute_discharge_energy(output),\n",
    "\t\"Energy density\" => compute_discharge_energy(output) / compute_cell_volume(cell_parameters),\n",
    "\t\"Specific energy\" => compute_discharge_energy(output) / compute_cell_mass(cell_parameters),\n",
    ")"
   ],
   "metadata": {},
   "execution_count": null
  },
  {
   "cell_type": "markdown",
   "source": [
    "## Example full cycle"
   ],
   "metadata": {}
  },
  {
   "cell_type": "markdown",
   "source": [
    "When we run a protocol with a full or multiple cycles we can retrieve some extra KPIs from the output. Let's run a CCCV protocol."
   ],
   "metadata": {}
  },
  {
   "outputs": [],
   "cell_type": "code",
   "source": [
    "cycling_protocol = load_cycling_protocol(; from_default_set = \"CCCV\")"
   ],
   "metadata": {},
   "execution_count": null
  },
  {
   "cell_type": "markdown",
   "source": [
    "This protocol will run 3 cycles"
   ],
   "metadata": {}
  },
  {
   "outputs": [],
   "cell_type": "code",
   "source": [
    "sim = Simulation(model, cell_parameters, cycling_protocol)\n",
    "\n",
    "output = solve(sim)\n",
    "nothing # hide"
   ],
   "metadata": {},
   "execution_count": null
  },
  {
   "cell_type": "markdown",
   "source": [
    "As our data represents multiple cycles now, we can choose for which cycle we'd like to compute the KPI."
   ],
   "metadata": {}
  },
  {
   "outputs": [],
   "cell_type": "code",
   "source": [
    "cell_kpis_from_output_cycle_0 = Dict(\n",
    "\t\"Discharge capacity\" => compute_discharge_capacity(output; cycle_number = 0),\n",
    "\t\"Discharge energy\" => compute_discharge_energy(output; cycle_number = 0),\n",
    "\t\"Energy density\" => compute_discharge_energy(output; cycle_number = 0) / compute_cell_volume(cell_parameters),\n",
    "\t\"Specific energy\" => compute_discharge_energy(output; cycle_number = 0) / compute_cell_mass(cell_parameters),\n",
    "\t\"Charge capacity\" => compute_charge_capacity(output; cycle_number = 0),\n",
    "\t\"Charge energy\" => compute_charge_energy(output; cycle_number = 0),\n",
    "\t\"Round trip efficiency\" => compute_round_trip_efficiency(output; cycle_number = 0),\n",
    ")"
   ],
   "metadata": {},
   "execution_count": null
  },
  {
   "cell_type": "markdown",
   "source": [
    "Or from the second cycle:"
   ],
   "metadata": {}
  },
  {
   "outputs": [],
   "cell_type": "code",
   "source": [
    "cell_kpis_from_output_cycle_1 = Dict(\n",
    "\t\"Discharge capacity\" => compute_discharge_capacity(output; cycle_number = 1),\n",
    "\t\"Discharge energy\" => compute_discharge_energy(output; cycle_number = 1),\n",
    "\t\"Energy density\" => compute_discharge_energy(output; cycle_number = 1) / compute_cell_volume(cell_parameters),\n",
    "\t\"Specific energy\" => compute_discharge_energy(output; cycle_number = 1) / compute_cell_mass(cell_parameters),\n",
    "\t\"Charge capacity\" => compute_charge_capacity(output; cycle_number = 1),\n",
    "\t\"Charge energy\" => compute_charge_energy(output; cycle_number = 1),\n",
    "\t\"Round trip efficiency\" => compute_round_trip_efficiency(output; cycle_number = 1),\n",
    ")"
   ],
   "metadata": {},
   "execution_count": null
  },
  {
   "cell_type": "markdown",
   "source": [
    "---\n",
    "\n",
    "*This notebook was generated using [Literate.jl](https://github.com/fredrikekre/Literate.jl).*"
   ],
   "metadata": {}
  }
 ],
 "nbformat_minor": 3,
 "metadata": {
  "language_info": {
   "file_extension": ".jl",
   "mimetype": "application/julia",
   "name": "julia",
   "version": "1.11.3"
  },
  "kernelspec": {
   "name": "julia-1.11",
   "display_name": "Julia 1.11.3",
   "language": "julia"
  }
 },
 "nbformat": 4
}
