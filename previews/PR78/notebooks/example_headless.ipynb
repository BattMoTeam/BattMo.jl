{
 "cells": [
  {
   "cell_type": "markdown",
   "source": [
    "# Headless UI"
   ],
   "metadata": {}
  },
  {
   "cell_type": "markdown",
   "source": [
    "An example for running the Headless UI. The headless UI only requires one input file containing all needed parameters and settings: ModelSettings, CellParameters, CyclingProtocol, SimulationSettings, and SolverSettings. This UI lacks some of the handy input tools setup for the interactive UI using a setup\n",
    "of the model and simulation object passed to the `solve()` function. The Headless UI is very convenient when running batches of\n",
    "simulations and within a digital twin and/or websocket or restfull api situation."
   ],
   "metadata": {}
  },
  {
   "outputs": [],
   "cell_type": "code",
   "source": [
    "using BattMo, GLMakie\n",
    "\n",
    "simulation_input = load_full_simulation_input(; from_default_set = \"Chen2020\")\n",
    "\n",
    "output = run_simulation(simulation_input)\n",
    "\n",
    "plot_dashboard(output; plot_type = \"contour\")"
   ],
   "metadata": {},
   "execution_count": null
  },
  {
   "cell_type": "markdown",
   "source": [
    "---\n",
    "\n",
    "*This notebook was generated using [Literate.jl](https://github.com/fredrikekre/Literate.jl).*"
   ],
   "metadata": {}
  }
 ],
 "nbformat_minor": 3,
 "metadata": {
  "language_info": {
   "file_extension": ".jl",
   "mimetype": "application/julia",
   "name": "julia",
   "version": "1.11.3"
  },
  "kernelspec": {
   "name": "julia-1.11",
   "display_name": "Julia 1.11.3",
   "language": "julia"
  }
 },
 "nbformat": 4
}
