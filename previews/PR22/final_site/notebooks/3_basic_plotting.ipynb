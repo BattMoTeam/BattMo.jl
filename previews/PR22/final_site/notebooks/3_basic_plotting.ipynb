{
 "cells": [
  {
   "cell_type": "markdown",
   "source": [
    "# Basic Plotting"
   ],
   "metadata": {}
  },
  {
   "cell_type": "markdown",
   "source": [
    "In the previous tutorials we got an idea about how to run a simple simulation and about the structure of the simulation output.\n",
    "In this tutorial we'll have a look into how we can retrieve the output quantities we want and how to plot them."
   ],
   "metadata": {}
  },
  {
   "cell_type": "markdown",
   "source": [
    "We'll run a simulation like we saw in the first tutorial, but now we also import the GLMakie package which we'll use for the plotting."
   ],
   "metadata": {}
  },
  {
   "outputs": [],
   "cell_type": "code",
   "source": [
    "using BattMo, GLMakie\n",
    "\n",
    "file_name = \"p2d_40_jl_chen2020.json\"\n",
    "file_path = string(dirname(pathof(BattMo)), \"/../test/data/jsonfiles/\", file_name)\n",
    "\n",
    "inputparams = readBattMoJsonInputFile(file_path)\n",
    "\n",
    "output = run_battery(inputparams);"
   ],
   "metadata": {},
   "execution_count": null
  },
  {
   "cell_type": "markdown",
   "source": [
    "Let's say we want to plot the cell current and cell voltage over time. First we'll retrieve these three quantities from the output."
   ],
   "metadata": {}
  },
  {
   "outputs": [],
   "cell_type": "code",
   "source": [
    "states = output[:states]\n",
    "\n",
    "t = [state[:Control][:ControllerCV].time for state in states]\n",
    "E = [state[:Control][:Phi][1] for state in states]\n",
    "I = [state[:Control][:Current][1] for state in states]\n",
    "nothing # hide"
   ],
   "metadata": {},
   "execution_count": null
  },
  {
   "cell_type": "markdown",
   "source": [
    "Now we can use GLMakie to create a plot. Lets first plot the cell voltage."
   ],
   "metadata": {}
  },
  {
   "outputs": [],
   "cell_type": "code",
   "source": [
    "f = Figure(size = (1000, 400))\n",
    "\n",
    "ax = Axis(f[1, 1],\n",
    "          title     = \"Voltage\",\n",
    "          xlabel    = \"Time / s\",\n",
    "          ylabel    = \"Voltage / V\",\n",
    "          xlabelsize = 25,\n",
    "          ylabelsize = 25,\n",
    "          xticklabelsize = 25,\n",
    "          yticklabelsize = 25\n",
    "          )\n",
    "\n",
    "\n",
    "scatterlines!(ax,\n",
    "    t,\n",
    "    E;\n",
    "    linewidth = 4,\n",
    "    markersize = 10,\n",
    "    marker = :cross,\n",
    "    markercolor = :black,\n",
    "    )\n",
    "\n",
    "f # hide"
   ],
   "metadata": {},
   "execution_count": null
  },
  {
   "cell_type": "markdown",
   "source": [
    "And the cell current."
   ],
   "metadata": {}
  },
  {
   "outputs": [],
   "cell_type": "code",
   "source": [
    "ax = Axis(f[1, 2],\n",
    "            title     = \"Current\",\n",
    "            xlabel    = \"Time / s\",\n",
    "            ylabel    = \"Current / V\",\n",
    "            xlabelsize = 25,\n",
    "            ylabelsize = 25,\n",
    "            xticklabelsize = 25,\n",
    "            yticklabelsize = 25\n",
    "            )\n",
    "\n",
    "\n",
    "scatterlines!(ax,\n",
    "    t,\n",
    "    I;\n",
    "    linewidth = 4,\n",
    "    markersize = 10,\n",
    "    marker = :cross,\n",
    "    markercolor = :black,\n",
    "    )\n",
    "\n",
    "\n",
    "f # hide"
   ],
   "metadata": {},
   "execution_count": null
  },
  {
   "cell_type": "markdown",
   "source": [
    "---\n",
    "\n",
    "*This notebook was generated using [Literate.jl](https://github.com/fredrikekre/Literate.jl).*"
   ],
   "metadata": {}
  }
 ],
 "nbformat_minor": 3,
 "metadata": {
  "language_info": {
   "file_extension": ".jl",
   "mimetype": "application/julia",
   "name": "julia",
   "version": "1.11.4"
  },
  "kernelspec": {
   "name": "julia-1.11",
   "display_name": "Julia 1.11.4",
   "language": "julia"
  }
 },
 "nbformat": 4
}
