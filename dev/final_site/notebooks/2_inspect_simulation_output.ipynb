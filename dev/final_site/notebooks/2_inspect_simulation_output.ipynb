{
 "cells": [
  {
   "cell_type": "markdown",
   "source": [
    "# How to inspect simulation output"
   ],
   "metadata": {}
  },
  {
   "cell_type": "markdown",
   "source": [
    "We have seen how to simple it is to run a simulation using BattMo.\n",
    "Now we'll have a look into how to inspect the results of a simulation."
   ],
   "metadata": {}
  },
  {
   "cell_type": "markdown",
   "source": [
    "We'll run a simulation like we saw in the previous tutorial"
   ],
   "metadata": {}
  },
  {
   "outputs": [],
   "cell_type": "code",
   "source": [
    "using BattMo\n",
    "\n",
    "file_name = \"p2d_40_jl_chen2020.json\"\n",
    "file_path = string(dirname(pathof(BattMo)), \"/../test/data/jsonfiles/\", file_name)\n",
    "\n",
    "inputparams = readBattMoJsonInputFile(file_path)\n",
    "\n",
    "output = run_battery(inputparams);"
   ],
   "metadata": {},
   "execution_count": null
  },
  {
   "cell_type": "markdown",
   "source": [
    "Now we'll have a look into what the output entail. The ouput is of type NamedTuple and contains multiple dicts. Lets print the\n",
    "keys of each dict."
   ],
   "metadata": {}
  },
  {
   "outputs": [],
   "cell_type": "code",
   "source": [
    "keys(output)"
   ],
   "metadata": {},
   "execution_count": null
  },
  {
   "cell_type": "markdown",
   "source": [
    "So we can see the the output contains state data, cell specifications, reports on the simulation, the input parameters of the simulation, and some extra data.\n",
    "The most important dicts, that we'll dive a bit deeper into, are the states and cell specifications. First let's see how the states output is structured."
   ],
   "metadata": {}
  },
  {
   "cell_type": "markdown",
   "source": [
    "### States"
   ],
   "metadata": {}
  },
  {
   "outputs": [],
   "cell_type": "code",
   "source": [
    "states = output[:states]\n",
    "typeof(states)"
   ],
   "metadata": {},
   "execution_count": null
  },
  {
   "cell_type": "markdown",
   "source": [
    "As we can see, the states output is a Vector that contains dicts."
   ],
   "metadata": {}
  },
  {
   "outputs": [],
   "cell_type": "code",
   "source": [
    "keys(states)"
   ],
   "metadata": {},
   "execution_count": null
  },
  {
   "cell_type": "markdown",
   "source": [
    "In this case it consists of 77 dicts. Each dict represents\n",
    "a time step in the simulation and each time step stores quantities divided into battery component related group. This structure agrees with the overal model structure of BattMo."
   ],
   "metadata": {}
  },
  {
   "outputs": [],
   "cell_type": "code",
   "source": [
    "initial_state = states[1]\n",
    "keys(initial_state)"
   ],
   "metadata": {},
   "execution_count": null
  },
  {
   "cell_type": "markdown",
   "source": [
    "So each time step contains quantities related to the electrolyte, the negative electrode active material, the cycling control, and the positive electrode active material.\n",
    "Lets print the stored quantities for each group."
   ],
   "metadata": {}
  },
  {
   "cell_type": "markdown",
   "source": [
    "Electrolyte keys:"
   ],
   "metadata": {}
  },
  {
   "outputs": [],
   "cell_type": "code",
   "source": [
    "keys(initial_state[:Elyte])"
   ],
   "metadata": {},
   "execution_count": null
  },
  {
   "cell_type": "markdown",
   "source": [
    "Negative electrode active material keys:"
   ],
   "metadata": {}
  },
  {
   "outputs": [],
   "cell_type": "code",
   "source": [
    "keys(initial_state[:NeAm])"
   ],
   "metadata": {},
   "execution_count": null
  },
  {
   "cell_type": "markdown",
   "source": [
    "Positive electrode active material keys:"
   ],
   "metadata": {}
  },
  {
   "outputs": [],
   "cell_type": "code",
   "source": [
    "keys(initial_state[:PeAm])"
   ],
   "metadata": {},
   "execution_count": null
  },
  {
   "cell_type": "markdown",
   "source": [
    "Control keys:"
   ],
   "metadata": {}
  },
  {
   "outputs": [],
   "cell_type": "code",
   "source": [
    "keys(initial_state[:Control])"
   ],
   "metadata": {},
   "execution_count": null
  },
  {
   "cell_type": "markdown",
   "source": [
    "### Cell specifications\n",
    "Now lets see what quantities are stored within the cellSpecifications dict in the simulation output."
   ],
   "metadata": {}
  },
  {
   "outputs": [],
   "cell_type": "code",
   "source": [
    "cell_specifications = output[:cellSpecifications];\n",
    "keys(cell_specifications)"
   ],
   "metadata": {},
   "execution_count": null
  },
  {
   "cell_type": "markdown",
   "source": [
    "---\n",
    "\n",
    "*This notebook was generated using [Literate.jl](https://github.com/fredrikekre/Literate.jl).*"
   ],
   "metadata": {}
  }
 ],
 "nbformat_minor": 3,
 "metadata": {
  "language_info": {
   "file_extension": ".jl",
   "mimetype": "application/julia",
   "name": "julia",
   "version": "1.11.3"
  },
  "kernelspec": {
   "name": "julia-1.11",
   "display_name": "Julia 1.11.3",
   "language": "julia"
  }
 },
 "nbformat": 4
}
