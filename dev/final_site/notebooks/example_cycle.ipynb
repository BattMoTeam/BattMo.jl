{
 "cells": [
  {
   "cell_type": "markdown",
   "source": [
    "# Cycling a battery 40 times with a constant current constant voltage (CCCV) control"
   ],
   "metadata": {}
  },
  {
   "outputs": [],
   "cell_type": "code",
   "source": [
    "using BattMo, GLMakie"
   ],
   "metadata": {},
   "execution_count": null
  },
  {
   "cell_type": "markdown",
   "source": [
    "We use the setup provided in the [p2d_40.json](https://github.com/BattMoTeam/BattMo.jl/blob/main/test/data/jsonfiles/p2d_40.json#L152) file. In particular, see the data under the `Control` key."
   ],
   "metadata": {}
  },
  {
   "outputs": [],
   "cell_type": "code",
   "source": [
    "name = \"p2d_40_cccv\"\n",
    "fn = string(dirname(pathof(BattMo)), \"/../test/data/jsonfiles/\", name, \".json\")\n",
    "inputparams = readBattMoJsonInputFile(fn)\n",
    "nothing # hide"
   ],
   "metadata": {},
   "execution_count": null
  },
  {
   "cell_type": "markdown",
   "source": [
    "We run the simulation."
   ],
   "metadata": {}
  },
  {
   "outputs": [],
   "cell_type": "code",
   "source": [
    "output = run_battery(inputparams);\n",
    "\n",
    "states = output[:states]\n",
    "\n",
    "t = [state[:Control][:ControllerCV].time for state in states]\n",
    "E = [state[:Control][:Phi][1] for state in states]\n",
    "I = [state[:Control][:Current][1] for state in states]\n",
    "nothing # hide"
   ],
   "metadata": {},
   "execution_count": null
  },
  {
   "cell_type": "markdown",
   "source": [
    "## Plot the results"
   ],
   "metadata": {}
  },
  {
   "outputs": [],
   "cell_type": "code",
   "source": [
    "f = Figure(size = (1000, 400))\n",
    "\n",
    "ax = Axis(f[1, 1],\n",
    "          title     = \"Voltage\",\n",
    "          xlabel    = \"Time / s\",\n",
    "          ylabel    = \"Voltage / V\",\n",
    "          xlabelsize = 25,\n",
    "          ylabelsize = 25,\n",
    "          xticklabelsize = 25,\n",
    "          yticklabelsize = 25\n",
    "          )\n",
    "\n",
    "scatterlines!(ax,\n",
    "              t,\n",
    "              E;\n",
    "              linewidth = 4,\n",
    "              markersize = 10,\n",
    "              marker = :cross,\n",
    "              markercolor = :black)\n",
    "\n",
    "ax = Axis(f[1, 2],\n",
    "          title     = \"Current\",\n",
    "          xlabel    = \"Time / s\",\n",
    "          ylabel    = \"Current / A\",\n",
    "          xlabelsize = 25,\n",
    "          ylabelsize = 25,\n",
    "          xticklabelsize = 25,\n",
    "          yticklabelsize = 25)\n",
    "\n",
    "scatterlines!(ax,\n",
    "              t,\n",
    "              I;\n",
    "              linewidth = 4,\n",
    "              markersize = 10,\n",
    "              marker = :cross,\n",
    "              markercolor = :black)\n",
    "\n",
    "f"
   ],
   "metadata": {},
   "execution_count": null
  },
  {
   "cell_type": "markdown",
   "source": [
    "---\n",
    "\n",
    "*This notebook was generated using [Literate.jl](https://github.com/fredrikekre/Literate.jl).*"
   ],
   "metadata": {}
  }
 ],
 "nbformat_minor": 3,
 "metadata": {
  "language_info": {
   "file_extension": ".jl",
   "mimetype": "application/julia",
   "name": "julia",
   "version": "1.11.4"
  },
  "kernelspec": {
   "name": "julia-1.11",
   "display_name": "Julia 1.11.4",
   "language": "julia"
  }
 },
 "nbformat": 4
}
