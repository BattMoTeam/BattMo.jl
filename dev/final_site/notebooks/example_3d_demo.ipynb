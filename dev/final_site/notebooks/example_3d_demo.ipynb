{
 "cells": [
  {
   "cell_type": "markdown",
   "source": [
    "# 3D battery example"
   ],
   "metadata": {}
  },
  {
   "outputs": [],
   "cell_type": "code",
   "source": [
    "using Jutul, BattMo, GLMakie"
   ],
   "metadata": {},
   "execution_count": null
  },
  {
   "cell_type": "markdown",
   "source": [
    "## Setup input parameters"
   ],
   "metadata": {}
  },
  {
   "outputs": [],
   "cell_type": "code",
   "source": [
    "file_path_cell = string(dirname(pathof(BattMo)), \"/../src/input/defaults/cell_parameters/\", \"Xu2015.json\")\n",
    "file_path_model = string(dirname(pathof(BattMo)), \"/../src/input/defaults/model_settings/\", \"P4D_pouch.json\")\n",
    "file_path_cycling = string(dirname(pathof(BattMo)), \"/../src/input/defaults/cycling_protocols/\", \"CCDischarge.json\")\n",
    "file_path_simulation = string(dirname(pathof(BattMo)), \"/../src/input/defaults/simulation_settings/\", \"P4D_pouch.json\")\n",
    "\n",
    "cell_parameters = load_cell_parameters(; from_file_path = file_path_cell)\n",
    "cycling_protocol = load_cycling_protocol(; from_file_path = file_path_cycling)\n",
    "model_settings = load_model_settings(; from_file_path = file_path_model)\n",
    "simulation_settings = load_simulation_settings(; from_file_path = file_path_simulation)\n",
    "nothing # hide"
   ],
   "metadata": {},
   "execution_count": null
  },
  {
   "cell_type": "markdown",
   "source": [
    "## Setup and run simulation"
   ],
   "metadata": {}
  },
  {
   "outputs": [],
   "cell_type": "code",
   "source": [
    "model = LithiumIonBatteryModel(; model_settings)\n",
    "\n",
    "sim = Simulation(model, cell_parameters, cycling_protocol; simulation_settings);\n",
    "output = solve(sim)\n",
    "nothing # hide"
   ],
   "metadata": {},
   "execution_count": null
  },
  {
   "cell_type": "markdown",
   "source": [
    "## Plot discharge curve"
   ],
   "metadata": {}
  },
  {
   "outputs": [],
   "cell_type": "code",
   "source": [
    "states = output[:states]\n",
    "model  = output[:extra][:model]\n",
    "\n",
    "t = [state[:Control][:ControllerCV].time for state in states]\n",
    "E = [state[:Control][:Phi][1] for state in states]\n",
    "I = [state[:Control][:Current][1] for state in states]\n",
    "\n",
    "f = Figure(size = (1000, 400))\n",
    "\n",
    "ax = Axis(f[1, 1],\n",
    "\ttitle = \"Voltage\",\n",
    "\txlabel = \"Time / s\",\n",
    "\tylabel = \"Voltage / V\",\n",
    "\txlabelsize = 25,\n",
    "\tylabelsize = 25,\n",
    "\txticklabelsize = 25,\n",
    "\tyticklabelsize = 25)\n",
    "\n",
    "scatterlines!(ax,\n",
    "\tt,\n",
    "\tE;\n",
    "\tlinewidth = 4,\n",
    "\tmarkersize = 10,\n",
    "\tmarker = :cross,\n",
    "\tmarkercolor = :black,\n",
    ")\n",
    "\n",
    "ax = Axis(f[1, 2],\n",
    "\ttitle = \"Current\",\n",
    "\txlabel = \"Time / s\",\n",
    "\tylabel = \"Current / A\",\n",
    "\txlabelsize = 25,\n",
    "\tylabelsize = 25,\n",
    "\txticklabelsize = 25,\n",
    "\tyticklabelsize = 25,\n",
    ")\n",
    "\n",
    "scatterlines!(ax,\n",
    "\tt,\n",
    "\tI;\n",
    "\tlinewidth = 4,\n",
    "\tmarkersize = 10,\n",
    "\tmarker = :cross,\n",
    "\tmarkercolor = :black)\n",
    "\n",
    "display(f) # hide\n",
    "f # hide"
   ],
   "metadata": {},
   "execution_count": null
  },
  {
   "cell_type": "markdown",
   "source": [
    "## Plot potential on grid at last time step #"
   ],
   "metadata": {}
  },
  {
   "outputs": [],
   "cell_type": "code",
   "source": [
    "state = states[10]\n",
    "\n",
    "function plot_potential(am, cc, label)\n",
    "\tf3D = Figure(size = (600, 650))\n",
    "\tax3d = Axis3(f3D[1, 1];\n",
    "\t\ttitle = \"Potential in $label electrode (coating and active material)\")\n",
    "\n",
    "\tmaxPhi = maximum([maximum(state[cc][:Phi]), maximum(state[am][:Phi])])\n",
    "\tminPhi = minimum([minimum(state[cc][:Phi]), minimum(state[am][:Phi])])\n",
    "\n",
    "\tcolorrange = [0, maxPhi - minPhi]\n",
    "\n",
    "\tcomponents = [am, cc]\n",
    "\tfor component in components\n",
    "\t\tg = model[component].domain.representation\n",
    "\t\tphi = state[component][:Phi]\n",
    "\t\tJutul.plot_cell_data!(ax3d, g, phi .- minPhi; colormap = :viridis, colorrange = colorrange)\n",
    "\tend\n",
    "\n",
    "\tcbar = GLMakie.Colorbar(f3D[1, 2];\n",
    "\t\tcolormap = :viridis,\n",
    "\t\tcolorrange = colorrange .+ minPhi,\n",
    "\t\tlabel = \"potential\")\n",
    "\tdisplay(GLMakie.Screen(), f3D)\n",
    "\treturn f3D\n",
    "end\n",
    "nothing # hide"
   ],
   "metadata": {},
   "execution_count": null
  },
  {
   "cell_type": "markdown",
   "source": [
    "## Plot the potential in the positive electrode"
   ],
   "metadata": {}
  },
  {
   "outputs": [],
   "cell_type": "code",
   "source": [
    "plot_potential(:PeAm, :PeCc, \"positive\")"
   ],
   "metadata": {},
   "execution_count": null
  },
  {
   "cell_type": "markdown",
   "source": [
    "## Plot the potential in the negative electrode"
   ],
   "metadata": {}
  },
  {
   "outputs": [],
   "cell_type": "code",
   "source": [
    "plot_potential(:NeAm, :NeCc, \"negative\")"
   ],
   "metadata": {},
   "execution_count": null
  },
  {
   "cell_type": "markdown",
   "source": [
    "## Plot surface concentration on grid at last time step"
   ],
   "metadata": {}
  },
  {
   "outputs": [],
   "cell_type": "code",
   "source": [
    "function plot_surface_concentration(component, label)\n",
    "\tf3D = Figure(size = (600, 650))\n",
    "\tax3d = Axis3(f3D[1, 1];\n",
    "\t\ttitle = \"Surface concentration in $label electrode\")\n",
    "\n",
    "\tcs = state[component][:Cs]\n",
    "\tmaxcs = maximum(cs)\n",
    "\tmincs = minimum(cs)\n",
    "\n",
    "\tcolorrange = [0, maxcs - mincs]\n",
    "\tg = model[component].domain.representation\n",
    "\tJutul.plot_cell_data!(ax3d, g, cs .- mincs;\n",
    "\t\tcolormap = :viridis,\n",
    "\t\tcolorrange = colorrange)\n",
    "\n",
    "\tcbar = GLMakie.Colorbar(f3D[1, 2];\n",
    "\t\tcolormap = :viridis,\n",
    "\t\tcolorrange = colorrange .+ mincs,\n",
    "\t\tlabel = \"concentration\")\n",
    "\tdisplay(GLMakie.Screen(), f3D)\n",
    "\treturn f3D\n",
    "end\n",
    "nothing # hide"
   ],
   "metadata": {},
   "execution_count": null
  },
  {
   "cell_type": "markdown",
   "source": [
    "## Plot the surface concentration in the positive electrode"
   ],
   "metadata": {}
  },
  {
   "outputs": [],
   "cell_type": "code",
   "source": [
    "plot_surface_concentration(:PeAm, \"positive\")"
   ],
   "metadata": {},
   "execution_count": null
  },
  {
   "cell_type": "markdown",
   "source": [
    "## Plot the surface concentration in the negative electrode"
   ],
   "metadata": {}
  },
  {
   "outputs": [],
   "cell_type": "code",
   "source": [
    "plot_surface_concentration(:NeAm, \"negative\")"
   ],
   "metadata": {},
   "execution_count": null
  },
  {
   "cell_type": "markdown",
   "source": [
    "## Plot electrolyte concentration and potential on grid at last time step"
   ],
   "metadata": {}
  },
  {
   "outputs": [],
   "cell_type": "code",
   "source": [
    "function plot_elyte(var, label)\n",
    "\tf3D = Figure(size = (600, 650))\n",
    "\tax3d = Axis3(f3D[1, 1]; title = \"$label in electrolyte\")\n",
    "\n",
    "\tval = state[:Elyte][var]\n",
    "\tmaxval = maximum(val)\n",
    "\tminval = minimum(val)\n",
    "\n",
    "\tcolorrange = [0, maxval - minval]\n",
    "\n",
    "\tg = model[:Elyte].domain.representation\n",
    "\tJutul.plot_cell_data!(ax3d, g, val .- minval;\n",
    "\t\tcolormap = :viridis,\n",
    "\t\tcolorrange = colorrange)\n",
    "\n",
    "\tcbar = GLMakie.Colorbar(f3D[1, 2];\n",
    "\t\tcolormap = :viridis,\n",
    "\t\tcolorrange = colorrange .+ minval,\n",
    "\t\tlabel = \"$label\")\n",
    "\tdisplay(GLMakie.Screen(), f3D)\n",
    "\tf3D\n",
    "end\n",
    "nothing # hide"
   ],
   "metadata": {},
   "execution_count": null
  },
  {
   "cell_type": "markdown",
   "source": [
    "## Plot of the concentration in the electrolyte"
   ],
   "metadata": {}
  },
  {
   "outputs": [],
   "cell_type": "code",
   "source": [
    "plot_elyte(:C, \"concentration\")"
   ],
   "metadata": {},
   "execution_count": null
  },
  {
   "cell_type": "markdown",
   "source": [
    "## Plot of the potential in the electrolyte"
   ],
   "metadata": {}
  },
  {
   "outputs": [],
   "cell_type": "code",
   "source": [
    "plot_elyte(:Phi, \"potential\")"
   ],
   "metadata": {},
   "execution_count": null
  },
  {
   "cell_type": "markdown",
   "source": [
    "---\n",
    "\n",
    "*This notebook was generated using [Literate.jl](https://github.com/fredrikekre/Literate.jl).*"
   ],
   "metadata": {}
  }
 ],
 "nbformat_minor": 3,
 "metadata": {
  "language_info": {
   "file_extension": ".jl",
   "mimetype": "application/julia",
   "name": "julia",
   "version": "1.11.5"
  },
  "kernelspec": {
   "name": "julia-1.11",
   "display_name": "Julia 1.11.5",
   "language": "julia"
  }
 },
 "nbformat": 4
}
