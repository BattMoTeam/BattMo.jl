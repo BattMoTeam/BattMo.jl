{
    "cells": [
        {
            "cell_type": "markdown",
            "source": [
                "# Useful Tools in BattMo"
            ],
            "metadata": {}
        },
        {
            "cell_type": "markdown",
            "source": [
                "Before we dive into how to set up and run simulations, it's helpful to get familiar with some of the built-in tools provided by **BattMo**.\n",
                "These utilities can save time and improve your workflow, and we'll be using most of them throughout the tutorials."
            ],
            "metadata": {}
        },
        {
            "outputs": [],
            "cell_type": "code",
            "source": [
                "using BattMo"
            ],
            "metadata": {},
            "execution_count": null
        },
        {
            "cell_type": "markdown",
            "source": [
                "## Saving Default Parameter Sets Locally"
            ],
            "metadata": {}
        },
        {
            "cell_type": "markdown",
            "source": [
                "BattMo includes several default parameter sets that you can use as a starting point.\n",
                "If you want to explore or customize them, you can easily save them to your local disk using:"
            ],
            "metadata": {}
        },
        {
            "outputs": [],
            "cell_type": "code",
            "source": [
                "path = pwd()\n",
                "folder_name = \"default_parameter_sets\"\n",
                "generate_default_parameter_files(path, folder_name)\n",
                "nothing # hide"
            ],
            "metadata": {},
            "execution_count": null
        },
        {
            "cell_type": "markdown",
            "source": [
                "This will create a folder in your current working directory containing the default parameter files."
            ],
            "metadata": {}
        },
        {
            "cell_type": "markdown",
            "source": [
                "## Viewing Parameter Set Information"
            ],
            "metadata": {}
        },
        {
            "cell_type": "markdown",
            "source": [
                "To quickly inspect which default parameter sets are included with BattMo and what each contains, you can use:"
            ],
            "metadata": {}
        },
        {
            "outputs": [],
            "cell_type": "code",
            "source": [
                "print_default_input_sets()"
            ],
            "metadata": {},
            "execution_count": null
        },
        {
            "cell_type": "markdown",
            "source": [
                "## Inspecting Individual Parameters\n",
                "If you're unsure how a specific parameter should be defined or what it represents, you can print detailed information about it. For example, for cell parameters and cycling protocol parameters:"
            ],
            "metadata": {}
        },
        {
            "outputs": [],
            "cell_type": "code",
            "source": [
                "parameter_name = \"OpenCircuitPotential\"\n",
                "\n",
                "print_parameter_info(parameter_name)"
            ],
            "metadata": {},
            "execution_count": null
        },
        {
            "cell_type": "markdown",
            "source": [
                "An example for model or simulation settings:"
            ],
            "metadata": {}
        },
        {
            "outputs": [],
            "cell_type": "code",
            "source": [
                "parameter_name = \"ModelFramework\"\n",
                "\n",
                "print_setting_info(parameter_name)"
            ],
            "metadata": {},
            "execution_count": null
        },
        {
            "cell_type": "markdown",
            "source": [
                "An example for output variables:"
            ],
            "metadata": {}
        },
        {
            "outputs": [],
            "cell_type": "code",
            "source": [
                "parameter_name = \"Concenctration\"\n",
                "\n",
                "print_output_variable_info(parameter_name)"
            ],
            "metadata": {},
            "execution_count": null
        },
        {
            "cell_type": "markdown",
            "source": [
                "This is especially useful when building or editing custom parameter sets."
            ],
            "metadata": {}
        },
        {
            "cell_type": "markdown",
            "source": [
                "## Listing Available Submodels"
            ],
            "metadata": {}
        },
        {
            "cell_type": "markdown",
            "source": [
                "BattMo supports a modular submodel architecture. To view all available submodels you can integrate into your simulation, run:"
            ],
            "metadata": {}
        },
        {
            "outputs": [],
            "cell_type": "code",
            "source": [
                "print_submodels()"
            ],
            "metadata": {},
            "execution_count": null
        },
        {
            "cell_type": "markdown",
            "source": [
                "## Write a parameter set object to a JSON file"
            ],
            "metadata": {}
        },
        {
            "cell_type": "markdown",
            "source": [
                "You can use the following function to save your ParameterSet object to a JSON file:"
            ],
            "metadata": {}
        },
        {
            "outputs": [],
            "cell_type": "code",
            "source": [
                "file_path = \"path_to_json_file/file.json\"\n",
                "parameter_set = CellParameters(Dict(\"NegativeElectrode\" => Dict(\"Coating\" => Dict(\"Thickness\" => 100e-6))))\n",
                "\n",
                "write_to_json_file(file_path, parameter_set)\n",
                "nothing # hide"
            ],
            "metadata": {},
            "execution_count": null
        },
        {
            "cell_type": "markdown",
            "source": [
                "## Get quick information on a cell parameter set"
            ],
            "metadata": {}
        },
        {
            "cell_type": "markdown",
            "source": [
                "Let's load a default cell parameter set."
            ],
            "metadata": {}
        },
        {
            "outputs": [],
            "cell_type": "code",
            "source": [
                "cell_parameters = load_cell_parameters(; from_default_set = \"Chen2020\")\n",
                "nothing # hide"
            ],
            "metadata": {},
            "execution_count": null
        },
        {
            "cell_type": "markdown",
            "source": [
                "You can easily print some handy quantities and metrics for debugging:"
            ],
            "metadata": {}
        },
        {
            "outputs": [],
            "cell_type": "code",
            "source": [
                "quick_cell_check(cell_parameters)"
            ],
            "metadata": {},
            "execution_count": null
        },
        {
            "cell_type": "markdown",
            "source": [
                "If there are functional parameters present within the parameter set, like the OCP or electrolyte diffusion coefficient, you can easily plot those parameters against a realistic x-quantity range:"
            ],
            "metadata": {}
        },
        {
            "outputs": [],
            "cell_type": "code",
            "source": [
                "plot_cell_curves(cell_parameters)"
            ],
            "metadata": {},
            "execution_count": null
        },
        {
            "cell_type": "markdown",
            "source": [
                "---\n",
                "\n",
                "*This notebook was generated using [Literate.jl](https://github.com/fredrikekre/Literate.jl).*"
            ],
            "metadata": {}
        }
    ],
    "nbformat_minor": 3,
    "metadata": {
        "language_info": {
            "file_extension": ".jl",
            "mimetype": "application/julia",
            "name": "julia",
            "version": "1.11.3"
        },
        "kernelspec": {
            "name": "julia-1.11",
            "display_name": "Julia 1.11.3",
            "language": "julia"
        }
    },
    "nbformat": 4
}