{
 "cells": [
  {
   "outputs": [],
   "cell_type": "code",
   "source": [
    "using BattMo, GLMakie\n",
    "\n",
    "cell_parameters = load_cell_parameters(; from_default_set = \"Xu2015\")\n",
    "cycling_protocol = load_cycling_protocol(; from_default_set = \"CCDischarge\")\n",
    "model_settings = load_model_settings(; from_default_set = \"P4D_pouch\")\n",
    "simulation_settings = load_simulation_settings(; from_default_set = \"P4D_pouch\")\n",
    "\n",
    "model = LithiumIonBattery(; model_settings)\n",
    "\n",
    "sim = Simulation(model, cell_parameters, cycling_protocol; simulation_settings);\n",
    "output = solve(sim)\n",
    "\n",
    "plot_interactive_3d(output; colormap = :curl)"
   ],
   "metadata": {},
   "execution_count": null
  },
  {
   "cell_type": "markdown",
   "source": [
    "---\n",
    "\n",
    "*This notebook was generated using [Literate.jl](https://github.com/fredrikekre/Literate.jl).*"
   ],
   "metadata": {}
  }
 ],
 "nbformat_minor": 3,
 "metadata": {
  "language_info": {
   "file_extension": ".jl",
   "mimetype": "application/julia",
   "name": "julia",
   "version": "1.11.3"
  },
  "kernelspec": {
   "name": "julia-1.11",
   "display_name": "Julia 1.11.3",
   "language": "julia"
  }
 },
 "nbformat": 4
}
