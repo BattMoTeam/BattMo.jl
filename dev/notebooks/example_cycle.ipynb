{
 "cells": [
  {
   "cell_type": "markdown",
   "source": [
    "# Cycling a battery 40 times with a constant current constant voltage (CCCV) control"
   ],
   "metadata": {}
  },
  {
   "outputs": [],
   "cell_type": "code",
   "source": [
    "using BattMo, GLMakie"
   ],
   "metadata": {},
   "execution_count": null
  },
  {
   "cell_type": "markdown",
   "source": [
    "We use the setup provided in the [p2d_40.json](https://github.com/BattMoTeam/BattMo.jl/blob/main/test/data/jsonfiles/p2d_40.json#L152) file. In particular, see the data under the `Control` key."
   ],
   "metadata": {}
  },
  {
   "outputs": [],
   "cell_type": "code",
   "source": [
    "file_path_cell = parameter_file_path(\"cell_parameters\", \"Chen2020.json\")\n",
    "file_path_model = parameter_file_path(\"model_settings\", \"P2D.json\")\n",
    "file_path_cycling = parameter_file_path(\"cycling_protocols\", \"CCCV.json\")\n",
    "file_path_simulation = parameter_file_path(\"simulation_settings\", \"P2D.json\")\n",
    "\n",
    "cell_parameters = load_cell_parameters(; from_file_path = file_path_cell)\n",
    "cycling_protocol = load_cycling_protocol(; from_file_path = file_path_cycling)\n",
    "model_settings = load_model_settings(; from_file_path = file_path_model)\n",
    "simulation_settings = load_simulation_settings(; from_file_path = file_path_simulation)\n",
    "\n",
    "model_setup = LithiumIonBattery(; model_settings);\n",
    "\n",
    "sim = Simulation(model_setup, cell_parameters, cycling_protocol; simulation_settings);\n",
    "output = solve(sim; info_level = 1)\n",
    "\n",
    "nothing # hide\n",
    "\n",
    "states = output[:states]\n",
    "\n",
    "t = [state[:Control][:Controller].time for state in states]\n",
    "E = [state[:Control][:Phi][1] for state in states]\n",
    "I = [state[:Control][:Current][1] for state in states]\n",
    "\n",
    "nothing # hide"
   ],
   "metadata": {},
   "execution_count": null
  },
  {
   "cell_type": "markdown",
   "source": [
    "## Plot the results"
   ],
   "metadata": {}
  },
  {
   "outputs": [],
   "cell_type": "code",
   "source": [
    "f = Figure(size = (1000, 400))\n",
    "\n",
    "ax = Axis(f[1, 1],\n",
    "\ttitle = \"Voltage\",\n",
    "\txlabel = \"Time / s\",\n",
    "\tylabel = \"Voltage / V\",\n",
    "\txlabelsize = 25,\n",
    "\tylabelsize = 25,\n",
    "\txticklabelsize = 25,\n",
    "\tyticklabelsize = 25,\n",
    ")\n",
    "\n",
    "scatterlines!(ax,\n",
    "\tt,\n",
    "\tE;\n",
    "\tlinewidth = 4,\n",
    "\tmarkersize = 10,\n",
    "\tmarker = :cross,\n",
    "\tmarkercolor = :black)\n",
    "\n",
    "ax = Axis(f[1, 2],\n",
    "\ttitle = \"Current\",\n",
    "\txlabel = \"Time / s\",\n",
    "\tylabel = \"Current / A\",\n",
    "\txlabelsize = 25,\n",
    "\tylabelsize = 25,\n",
    "\txticklabelsize = 25,\n",
    "\tyticklabelsize = 25)\n",
    "\n",
    "scatterlines!(ax,\n",
    "\tt,\n",
    "\tI;\n",
    "\tlinewidth = 4,\n",
    "\tmarkersize = 10,\n",
    "\tmarker = :cross,\n",
    "\tmarkercolor = :black)\n",
    "\n",
    "f"
   ],
   "metadata": {},
   "execution_count": null
  },
  {
   "cell_type": "markdown",
   "source": [
    "---\n",
    "\n",
    "*This notebook was generated using [Literate.jl](https://github.com/fredrikekre/Literate.jl).*"
   ],
   "metadata": {}
  }
 ],
 "nbformat_minor": 3,
 "metadata": {
  "language_info": {
   "file_extension": ".jl",
   "mimetype": "application/julia",
   "name": "julia",
   "version": "1.11.3"
  },
  "kernelspec": {
   "name": "julia-1.11",
   "display_name": "Julia 1.11.3",
   "language": "julia"
  }
 },
 "nbformat": 4
}
