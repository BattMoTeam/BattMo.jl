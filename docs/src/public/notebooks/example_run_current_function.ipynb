{
 "cells": [
  {
   "outputs": [],
   "cell_type": "code",
   "source": [
    "using BattMo, GLMakie\n",
    "\n",
    "### Create wltp function to calculate Current (WLTP data from https://github.com/JRCSTU/wltp)\n",
    "\n",
    "using CSV\n",
    "using DataFrames\n",
    "using Jutul\n",
    "\n",
    "path = joinpath(@__DIR__, \"..\", \"example_data\", \"wltp.csv\")\n",
    "df = CSV.read(path, DataFrame)\n",
    "\n",
    "t = df[:, 1]\n",
    "P = df[:, 2]\n",
    "\n",
    "power_func = get_1d_interpolator(t, P, cap_endpoints = false)\n",
    "\n",
    "\n",
    "\n",
    "function current_function(time, voltage)\n",
    "\n",
    "\tfactor = 4000 # Tot account for the fact that we're simulating a single cell instead of a battery pack\n",
    "\n",
    "\treturn power_func(time) / voltage / factor\n",
    "end\n",
    "\n",
    "@eval Main current_function = $current_function\n",
    "\n",
    "\n",
    "### Run a simulation with the current function\n",
    "\n",
    "model_setup = LithiumIonBattery()\n",
    "cell_parameters = load_cell_parameters(; from_default_set = \"Chen2020\")\n",
    "simulation_settings = load_simulation_settings(; from_default_set = \"P2D\")\n",
    "simulation_settings[\"TimeStepDuration\"] = 1\n",
    "\n",
    "\n",
    "cycling_protocol = load_cycling_protocol(; from_default_set = \"user_defined_current_function\")\n",
    "\n",
    "cycling_protocol[\"TotalTime\"] = 1800\n",
    "\n",
    "sim_current = Simulation(model_setup, cell_parameters, cycling_protocol; simulation_settings);\n",
    "\n",
    "output = solve(sim_current);\n",
    "\n",
    "\n",
    "plot_dashboard(output; plot_type = \"simple\")"
   ],
   "metadata": {},
   "execution_count": null
  },
  {
   "cell_type": "markdown",
   "source": [
    "---\n",
    "\n",
    "*This notebook was generated using [Literate.jl](https://github.com/fredrikekre/Literate.jl).*"
   ],
   "metadata": {}
  }
 ],
 "nbformat_minor": 3,
 "metadata": {
  "language_info": {
   "file_extension": ".jl",
   "mimetype": "application/julia",
   "name": "julia",
   "version": "1.11.3"
  },
  "kernelspec": {
   "name": "julia-1.11",
   "display_name": "Julia 1.11.3",
   "language": "julia"
  }
 },
 "nbformat": 4
}
