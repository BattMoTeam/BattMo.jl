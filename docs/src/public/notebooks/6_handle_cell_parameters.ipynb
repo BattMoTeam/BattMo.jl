{
 "cells": [
  {
   "cell_type": "markdown",
   "source": [
    "# Handling Cell Parameters"
   ],
   "metadata": {}
  },
  {
   "cell_type": "markdown",
   "source": [
    "To change cell parameters, cycling protocols and settings, we can modify the JSON files directly, or we can read\n",
    "them into objects in the script and modify them as Dictionaries."
   ],
   "metadata": {}
  },
  {
   "cell_type": "markdown",
   "source": [
    "###  Load parameter files and initialize Model"
   ],
   "metadata": {}
  },
  {
   "cell_type": "markdown",
   "source": [
    "We begin by loading pre-defined parameters from JSON files:"
   ],
   "metadata": {}
  },
  {
   "outputs": [],
   "cell_type": "code",
   "source": [
    "using BattMo\n",
    "\n",
    "cell_parameters = load_cell_parameters(; from_default_set = \"Chen2020\")\n",
    "cycling_protocol = load_cycling_protocol(; from_default_set = \"CCDischarge\")\n",
    "nothing # hide"
   ],
   "metadata": {},
   "execution_count": null
  },
  {
   "cell_type": "markdown",
   "source": [
    "### Access parameters\n",
    "Cell parameters, cycling protocols, model settings and simulation settings are all Dictionary-like objects, which come with additional handy functions.\n",
    "First, lets list the outermost keys of the cell parameters object."
   ],
   "metadata": {}
  },
  {
   "outputs": [],
   "cell_type": "code",
   "source": [
    "keys(cell_parameters)"
   ],
   "metadata": {},
   "execution_count": null
  },
  {
   "cell_type": "markdown",
   "source": [
    "Now we access the Separator key."
   ],
   "metadata": {}
  },
  {
   "outputs": [],
   "cell_type": "code",
   "source": [
    "cell_parameters[\"Separator\"]"
   ],
   "metadata": {},
   "execution_count": null
  },
  {
   "cell_type": "markdown",
   "source": [
    "We have a flat list of parameters and values for the separator. In other cases, a key might nest other dictionaries,\n",
    "which can be accessed using the normal dictionary notation. Lets see for instance the  active material parameters of\n",
    "the negative electrode."
   ],
   "metadata": {}
  },
  {
   "outputs": [],
   "cell_type": "code",
   "source": [
    "cell_parameters[\"NegativeElectrode\"][\"ActiveMaterial\"]"
   ],
   "metadata": {},
   "execution_count": null
  },
  {
   "cell_type": "markdown",
   "source": [
    "In addition to manipulating parameters as dictionaries, we provide additional handy attributes and functions.\n",
    "For instance, we can display all cell parameters:"
   ],
   "metadata": {}
  },
  {
   "outputs": [],
   "cell_type": "code",
   "source": [
    "cell_parameters.all"
   ],
   "metadata": {},
   "execution_count": null
  },
  {
   "cell_type": "markdown",
   "source": [
    "However, there are many parameters, nested into dictionaries. Often, we are more interested in a specific subset of parameters.\n",
    "We can find a parameter with the search_parameter function. For example, we'd like to now how electrode related objects and parameters are named:"
   ],
   "metadata": {}
  },
  {
   "outputs": [],
   "cell_type": "code",
   "source": [
    "search_parameter(cell_parameters, \"Electrode\")"
   ],
   "metadata": {},
   "execution_count": null
  },
  {
   "cell_type": "markdown",
   "source": [
    "Another example where we'd like to now which concentration parameters are part of the parameter set:"
   ],
   "metadata": {}
  },
  {
   "outputs": [],
   "cell_type": "code",
   "source": [
    "search_parameter(cell_parameters, \"Concentration\")"
   ],
   "metadata": {},
   "execution_count": null
  },
  {
   "cell_type": "markdown",
   "source": [
    "The search function also accepts partial matches and it is case-insentive."
   ],
   "metadata": {}
  },
  {
   "outputs": [],
   "cell_type": "code",
   "source": [
    "search_parameter(cell_parameters, \"char\")"
   ],
   "metadata": {},
   "execution_count": null
  },
  {
   "cell_type": "markdown",
   "source": [
    "### Editing scalar parameters"
   ],
   "metadata": {}
  },
  {
   "cell_type": "markdown",
   "source": [
    "Parameter that take single numerical values (e.g. real, integers, booleans) can be directly modified. Examples:"
   ],
   "metadata": {}
  },
  {
   "outputs": [],
   "cell_type": "code",
   "source": [
    "cell_parameters[\"NegativeElectrode\"][\"ActiveMaterial\"][\"ReactionRateConstant\"] = 1e-13\n",
    "nothing # hide\n",
    "\n",
    "cell_parameters[\"PositiveElectrode\"][\"ElectrodeCoating\"][\"Thickness\"] = 8.2e-5\n",
    "nothing # hide"
   ],
   "metadata": {},
   "execution_count": null
  },
  {
   "cell_type": "markdown",
   "source": [
    "### Editing non-scalar parameters"
   ],
   "metadata": {}
  },
  {
   "cell_type": "markdown",
   "source": [
    "Some parameters are described as functions or arrays, since the parameter value depends on other variables. For instance\n",
    "the Open Circuit Potentials of the Active Materials depend on the lithium stoichiometry and temperature."
   ],
   "metadata": {}
  },
  {
   "cell_type": "markdown",
   "source": [
    "> MISSING"
   ],
   "metadata": {}
  },
  {
   "cell_type": "markdown",
   "source": [
    "### Compare simulations"
   ],
   "metadata": {}
  },
  {
   "cell_type": "markdown",
   "source": [
    "After the updates, we instantiate the model and the simulations, verify the simulation to be valid,\n",
    "and run it as in the first tutorial."
   ],
   "metadata": {}
  },
  {
   "outputs": [],
   "cell_type": "code",
   "source": [
    "model_setup = LithiumIonBattery()\n",
    "\n",
    "sim = Simulation(model_setup, cell_parameters, cycling_protocol)\n",
    "\n",
    "output = solve(sim);\n",
    "\n",
    "states = output[:states]\n",
    "t = [state[:Control][:Controller].time for state in states]\n",
    "E = [state[:Control][:Phi][1] for state in states]\n",
    "I = [state[:Control][:Current][1] for state in states]\n",
    "using GLMakie # hide\n",
    "fig = Figure()\n",
    "ax = Axis(fig[1, 1], ylabel = \"Voltage / V\", xlabel = \"Time / s\", title = \"Discharge curve\")\n",
    "lines!(ax, t, E)\n",
    "ax = Axis(fig[1, 2], ylabel = \"Current / I\", xlabel = \"Time / s\", title = \"Discharge curve\")\n",
    "lines!(ax, t, I)\n",
    "fig"
   ],
   "metadata": {},
   "execution_count": null
  },
  {
   "cell_type": "markdown",
   "source": [
    "Let’s reload the original parameters and simulate again to compare:"
   ],
   "metadata": {}
  },
  {
   "outputs": [],
   "cell_type": "code",
   "source": [
    "cell_parameters_2 = load_cell_parameters(; from_default_set = \"Chen2020\")\n",
    "sim2 = Simulation(model_setup, cell_parameters_2, cycling_protocol);\n",
    "output2 = solve(sim2)\n",
    "nothing # hide"
   ],
   "metadata": {},
   "execution_count": null
  },
  {
   "cell_type": "markdown",
   "source": [
    "Now, we plot the original and modified results:"
   ],
   "metadata": {}
  },
  {
   "outputs": [],
   "cell_type": "code",
   "source": [
    "t2 = [state[:Control][:Controller].time for state in output2[:states]]\n",
    "E2 = [state[:Control][:Phi][1] for state in output2[:states]]\n",
    "I2 = [state[:Control][:Current][1] for state in output2[:states]]\n",
    "\n",
    "fig = Figure()\n",
    "ax = Axis(fig[1, 1], ylabel = \"Voltage / V\", xlabel = \"Time / s\", title = \"Discharge curve\")\n",
    "lines!(ax, t, E)\n",
    "lines!(ax, t2, E2)\n",
    "ax = Axis(fig[1, 2], ylabel = \"Current / A\", xlabel = \"Time / s\")\n",
    "lines!(ax, t, I, label = \"intial value\")\n",
    "lines!(ax, t2, I2, label = \"updated value\")\n",
    "fig[1, 3] = Legend(fig, ax, \"Reaction rate\", framevisible = false)\n",
    "fig # hide"
   ],
   "metadata": {},
   "execution_count": null
  },
  {
   "cell_type": "markdown",
   "source": [
    "Note that not only the voltage profiles are different but also the currents, even if the cycling protocols have the same DRate.\n",
    "The change in current originates form our change in electrode thickness. By changing this thickness, we have also changed the\n",
    "cell capacity used to translate from DRate to cell current. As a conclusion, we should be mindful that some parameters might\n",
    "influence the simulation in ways we might not anticipate."
   ],
   "metadata": {}
  },
  {
   "cell_type": "markdown",
   "source": [
    "---\n",
    "\n",
    "*This notebook was generated using [Literate.jl](https://github.com/fredrikekre/Literate.jl).*"
   ],
   "metadata": {}
  }
 ],
 "nbformat_minor": 3,
 "metadata": {
  "language_info": {
   "file_extension": ".jl",
   "mimetype": "application/julia",
   "name": "julia",
   "version": "1.11.3"
  },
  "kernelspec": {
   "name": "julia-1.11",
   "display_name": "Julia 1.11.3",
   "language": "julia"
  }
 },
 "nbformat": 4
}
