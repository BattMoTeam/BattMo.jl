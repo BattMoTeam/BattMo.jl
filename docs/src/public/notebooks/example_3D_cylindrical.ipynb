{
 "cells": [
  {
   "cell_type": "markdown",
   "source": [
    "# Example of jelly roll\n",
    "This example demonstrates how to set up, run and visualize a 3D cylindrical battery model"
   ],
   "metadata": {}
  },
  {
   "cell_type": "markdown",
   "source": [
    "## Load the packages"
   ],
   "metadata": {}
  },
  {
   "outputs": [],
   "cell_type": "code",
   "source": [
    "using BattMo, Jutul, GLMakie"
   ],
   "metadata": {},
   "execution_count": null
  },
  {
   "cell_type": "markdown",
   "source": [
    "## Load the cell parameters"
   ],
   "metadata": {}
  },
  {
   "outputs": [],
   "cell_type": "code",
   "source": [
    "cell_parameters     = load_cell_parameters(; from_default_set = \"chen_2020\")\n",
    "cycling_protocol    = load_cycling_protocol(; from_default_set = \"cc_discharge\")\n",
    "model_settings      = load_model_settings(; from_default_set = \"p4d_cylindrical\")\n",
    "simulation_settings = load_simulation_settings(; from_default_set = \"p4d_cylindrical\")\n",
    "nothing #hide"
   ],
   "metadata": {},
   "execution_count": null
  },
  {
   "cell_type": "markdown",
   "source": [
    "## Set up the model"
   ],
   "metadata": {}
  },
  {
   "outputs": [],
   "cell_type": "code",
   "source": [
    "model = LithiumIonBattery(; model_settings)\n",
    "nothing #hide"
   ],
   "metadata": {},
   "execution_count": null
  },
  {
   "cell_type": "markdown",
   "source": [
    "## Review and modify the cell parameters\n",
    "We go through some of the geometrical and discretization parameters. We modify some of them to obtain a cell where the different components are easier to visualize"
   ],
   "metadata": {}
  },
  {
   "cell_type": "markdown",
   "source": [
    "The cell geometry is determined by the inner and outer radius and the height. We reduce the outer radius"
   ],
   "metadata": {}
  },
  {
   "outputs": [],
   "cell_type": "code",
   "source": [
    "cell_parameters[\"Cell\"][\"OuterRadius\"] = 0.010\n",
    "nothing #hide"
   ],
   "metadata": {},
   "execution_count": null
  },
  {
   "cell_type": "markdown",
   "source": [
    "We modify the current collector thicknesses, for visualization purpose"
   ],
   "metadata": {}
  },
  {
   "outputs": [],
   "cell_type": "code",
   "source": [
    "cell_parameters[\"NegativeElectrode\"][\"CurrentCollector\"][\"Thickness\"] = 50e-6\n",
    "cell_parameters[\"PositiveElectrode\"][\"CurrentCollector\"][\"Thickness\"] = 50e-6\n",
    "nothing #hide"
   ],
   "metadata": {},
   "execution_count": null
  },
  {
   "cell_type": "markdown",
   "source": [
    "The tabs are part of the current collectors that connect the electrodes to the external circuit. The location of the\n",
    "tabs is given as a fraction length, where the length is measured along the current collector in the horizontal\n",
    "direction, meaning that we follow the rolling spiral. Indeed, this is the relevant length to use if we want to\n",
    "dispatch the current collector in a equilibrated way, where each of them will a priori collect the same amount of\n",
    "current. In the following, we include three tabs with one in the middle and the other at a distance such that each tab\n",
    "will collect one third of the current"
   ],
   "metadata": {}
  },
  {
   "outputs": [],
   "cell_type": "code",
   "source": [
    "cell_parameters[\"NegativeElectrode\"][\"CurrentCollector\"][\"TabFractions\"] = [0.5 / 3, 0.5, 0.5 + 0.5 / 3]\n",
    "cell_parameters[\"PositiveElectrode\"][\"CurrentCollector\"][\"TabFractions\"] = [0.5 / 3, 0.5, 0.5 + 0.5 / 3]\n",
    "nothing #hide"
   ],
   "metadata": {},
   "execution_count": null
  },
  {
   "cell_type": "markdown",
   "source": [
    "We set the tab width to 2 mm"
   ],
   "metadata": {}
  },
  {
   "outputs": [],
   "cell_type": "code",
   "source": [
    "cell_parameters[\"NegativeElectrode\"][\"CurrentCollector\"][\"TabWidth\"] = 0.002\n",
    "cell_parameters[\"PositiveElectrode\"][\"CurrentCollector\"][\"TabWidth\"] = 0.002\n",
    "nothing #hide"
   ],
   "metadata": {},
   "execution_count": null
  },
  {
   "cell_type": "markdown",
   "source": [
    "The angular discretization of the cell is determined by the number of angular grid points."
   ],
   "metadata": {}
  },
  {
   "outputs": [],
   "cell_type": "code",
   "source": [
    "simulation_settings[\"AngularGridPoints\"] = 30\n",
    "nothing #hide"
   ],
   "metadata": {},
   "execution_count": null
  },
  {
   "cell_type": "markdown",
   "source": [
    "## Create the simulation object"
   ],
   "metadata": {}
  },
  {
   "outputs": [],
   "cell_type": "code",
   "source": [
    "sim = Simulation(model, cell_parameters, cycling_protocol; simulation_settings);\n",
    "nothing #hide"
   ],
   "metadata": {},
   "execution_count": null
  },
  {
   "cell_type": "markdown",
   "source": [
    "We retrieve the grids and coupling structure from the simulation object, which we want to visualize prior running the simulation"
   ],
   "metadata": {}
  },
  {
   "outputs": [],
   "cell_type": "code",
   "source": [
    "grids     = sim.grids\n",
    "couplings = sim.couplings\n",
    "nothing #hide"
   ],
   "metadata": {},
   "execution_count": null
  },
  {
   "cell_type": "markdown",
   "source": [
    "## Visualize the grids and couplings"
   ],
   "metadata": {}
  },
  {
   "cell_type": "markdown",
   "source": [
    "Define a list of the component to iterate over in the ploting routin below"
   ],
   "metadata": {}
  },
  {
   "outputs": [],
   "cell_type": "code",
   "source": [
    "components = [\"NegativeElectrode\", \"PositiveElectrode\", \"NegativeCurrentCollector\", \"PositiveCurrentCollector\"]\n",
    "colors = [:gray, :green, :blue, :black]\n",
    "nothing #hide"
   ],
   "metadata": {},
   "execution_count": null
  },
  {
   "cell_type": "markdown",
   "source": [
    "We plot the components"
   ],
   "metadata": {}
  },
  {
   "outputs": [],
   "cell_type": "code",
   "source": [
    "for (i, component) in enumerate(components)\n",
    "\tif i == 1\n",
    "\t\tglobal fig, ax = plot_mesh(grids[component],\n",
    "\t\t\tcolor = colors[i])\n",
    "\telse\n",
    "\t\tplot_mesh!(ax,\n",
    "\t\t\tgrids[component],\n",
    "\t\t\tcolor = colors[i])\n",
    "\tend\n",
    "end\n",
    "fig #hide"
   ],
   "metadata": {},
   "execution_count": null
  },
  {
   "cell_type": "markdown",
   "source": [
    "## Plot the current collectors tabs"
   ],
   "metadata": {}
  },
  {
   "cell_type": "markdown",
   "source": [
    "We plot the tabs, which couple the current collectors with the external circuits. The tabs will typically protude from\n",
    "the cell in the vertical directions but we can neglect this 3d feature in the simulation model. The tabs are then\n",
    "represented by horizontal faces at the top or bottom of the current collectors. In the figure below, they are plotted\n",
    "in red."
   ],
   "metadata": {}
  },
  {
   "outputs": [],
   "cell_type": "code",
   "source": [
    "components = [\n",
    "\t\"NegativeCurrentCollector\",\n",
    "\t\"PositiveCurrentCollector\",\n",
    "]\n",
    "\n",
    "for component in components\n",
    "\tplot_mesh!(ax, grids[component];\n",
    "\t\tboundaryfaces = couplings[component][\"External\"][\"boundaryfaces\"],\n",
    "\t\tcolor = :red)\n",
    "end"
   ],
   "metadata": {},
   "execution_count": null
  },
  {
   "cell_type": "markdown",
   "source": [
    "fig #hide"
   ],
   "metadata": {}
  },
  {
   "outputs": [],
   "cell_type": "code",
   "source": [
    "ax.azimuth[] = 4.0\n",
    "ax.elevation[] = 1.56\n",
    "\n",
    "fig #hide"
   ],
   "metadata": {},
   "execution_count": null
  },
  {
   "cell_type": "markdown",
   "source": [
    "## Simulation"
   ],
   "metadata": {}
  },
  {
   "cell_type": "markdown",
   "source": [
    "We reload the original parameters"
   ],
   "metadata": {}
  },
  {
   "outputs": [],
   "cell_type": "code",
   "source": [
    "cell_parameters     = load_cell_parameters(; from_default_set = \"chen_2020\")\n",
    "cycling_protocol    = load_cycling_protocol(; from_default_set = \"cc_discharge\")\n",
    "model_settings      = load_model_settings(; from_default_set = \"p4d_cylindrical\")\n",
    "simulation_settings = load_simulation_settings(; from_default_set = \"p4d_cylindrical\")"
   ],
   "metadata": {},
   "execution_count": null
  },
  {
   "cell_type": "markdown",
   "source": [
    "We adjust the parameters so that the simulation in this example is not too long (around a couple of minutes)"
   ],
   "metadata": {}
  },
  {
   "outputs": [],
   "cell_type": "code",
   "source": [
    "cell_parameters[\"Cell\"][\"OuterRadius\"]                                   = 0.004\n",
    "cell_parameters[\"NegativeElectrode\"][\"CurrentCollector\"][\"TabFractions\"] = [0.5]\n",
    "cell_parameters[\"PositiveElectrode\"][\"CurrentCollector\"][\"TabFractions\"] = [0.5]\n",
    "cell_parameters[\"NegativeElectrode\"][\"CurrentCollector\"][\"TabWidth\"]     = 0.002\n",
    "cell_parameters[\"PositiveElectrode\"][\"CurrentCollector\"][\"TabWidth\"]     = 0.002\n",
    "simulation_settings[\"AngularGridPoints\"]                                 = 8"
   ],
   "metadata": {},
   "execution_count": null
  },
  {
   "cell_type": "markdown",
   "source": [
    "We setup the simulation and run it"
   ],
   "metadata": {}
  },
  {
   "outputs": [],
   "cell_type": "code",
   "source": [
    "model = LithiumIonBattery(; model_settings)\n",
    "sim = Simulation(model, cell_parameters, cycling_protocol; simulation_settings);\n",
    "output = solve(sim; info_level = -1);\n",
    "nothing #hide"
   ],
   "metadata": {},
   "execution_count": null
  },
  {
   "cell_type": "markdown",
   "source": [
    "## Visualization of the simulation output"
   ],
   "metadata": {}
  },
  {
   "cell_type": "markdown",
   "source": [
    "We plot the discharge curve"
   ],
   "metadata": {}
  },
  {
   "outputs": [],
   "cell_type": "code",
   "source": [
    "plot_dashboard(output; plot_type = \"simple\")"
   ],
   "metadata": {},
   "execution_count": null
  },
  {
   "cell_type": "markdown",
   "source": [
    "We open the interactive visualization tool with the simulation output."
   ],
   "metadata": {}
  },
  {
   "outputs": [],
   "cell_type": "code",
   "source": [
    "plot_interactive_3d(output)"
   ],
   "metadata": {},
   "execution_count": null
  },
  {
   "cell_type": "markdown",
   "source": [
    "---\n",
    "\n",
    "*This notebook was generated using [Literate.jl](https://github.com/fredrikekre/Literate.jl).*"
   ],
   "metadata": {}
  }
 ],
 "nbformat_minor": 3,
 "metadata": {
  "language_info": {
   "file_extension": ".jl",
   "mimetype": "application/julia",
   "name": "julia",
   "version": "1.11.3"
  },
  "kernelspec": {
   "name": "julia-1.11",
   "display_name": "Julia 1.11.3",
   "language": "julia"
  }
 },
 "nbformat": 4
}
