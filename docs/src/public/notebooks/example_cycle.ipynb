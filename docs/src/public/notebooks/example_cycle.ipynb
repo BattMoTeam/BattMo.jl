{
 "cells": [
  {
   "cell_type": "markdown",
   "source": [
    "# Cycling a battery 40 times with a constant current constant voltage (CCCV) control"
   ],
   "metadata": {}
  },
  {
   "outputs": [],
   "cell_type": "code",
   "source": [
    "using BattMo, GLMakie\n",
    "battmo_base = normpath(joinpath(pathof(BattMo) |> splitdir |> first, \"..\"))\n",
    "include(joinpath(battmo_base, \"src/input/defaults/cell_parameters/Chayambuka_functions.jl\"))"
   ],
   "metadata": {},
   "execution_count": null
  },
  {
   "cell_type": "markdown",
   "source": [
    "We use the setup provided in the [p2d_40.json](https://github.com/BattMoTeam/BattMo.jl/blob/main/test/data/jsonfiles/p2d_40.json#L152) file. In particular, see the data under the `Control` key."
   ],
   "metadata": {}
  },
  {
   "outputs": [],
   "cell_type": "code",
   "source": [
    "file_path_cell = parameter_file_path(\"cell_parameters\", \"Chayambuka2022.json\")\n",
    "file_path_model = parameter_file_path(\"model_settings\", \"P2D.json\")\n",
    "file_path_cycling = parameter_file_path(\"cycling_protocols\", \"CCDischarge.json\")\n",
    "file_path_simulation = parameter_file_path(\"simulation_settings\", \"P2D.json\")\n",
    "\n",
    "cell_parameters = load_cell_parameters(; from_file_path = file_path_cell)\n",
    "cycling_protocol = load_cycling_protocol(; from_file_path = file_path_cycling)\n",
    "model_settings = load_model_settings(; from_file_path = file_path_model)\n",
    "simulation_settings = load_simulation_settings(; from_file_path = file_path_simulation)\n",
    "\n",
    "model = SodiumIonBattery(; model_settings);"
   ],
   "metadata": {},
   "execution_count": null
  },
  {
   "cell_type": "markdown",
   "source": [
    "cycling_protocol[\"TotalNumberOfCycles\"] = 3"
   ],
   "metadata": {}
  },
  {
   "outputs": [],
   "cell_type": "code",
   "source": [
    "cycling_protocol[\"DRate\"] = 2\n",
    "cycling_protocol[\"CRate\"] = 1\n",
    "cycling_protocol[\"InitialStateOfCharge\"] = 0.99\n",
    "\n",
    "sim = Simulation(model, cell_parameters, cycling_protocol);\n",
    "\n",
    "\n",
    "output = solve(sim;)\n",
    "\n",
    "nothing # hide"
   ],
   "metadata": {},
   "execution_count": null
  },
  {
   "cell_type": "markdown",
   "source": [
    "## Plot the results"
   ],
   "metadata": {}
  },
  {
   "outputs": [],
   "cell_type": "code",
   "source": [
    "plot_dashboard(output, plot_type = \"simple\")"
   ],
   "metadata": {},
   "execution_count": null
  },
  {
   "cell_type": "markdown",
   "source": [
    "---\n",
    "\n",
    "*This notebook was generated using [Literate.jl](https://github.com/fredrikekre/Literate.jl).*"
   ],
   "metadata": {}
  }
 ],
 "nbformat_minor": 3,
 "metadata": {
  "language_info": {
   "file_extension": ".jl",
   "mimetype": "application/julia",
   "name": "julia",
   "version": "1.11.3"
  },
  "kernelspec": {
   "name": "julia-1.11",
   "display_name": "Julia 1.11.3",
   "language": "julia"
  }
 },
 "nbformat": 4
}
