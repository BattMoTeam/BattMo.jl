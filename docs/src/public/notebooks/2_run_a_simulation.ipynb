{
 "cells": [
  {
   "cell_type": "markdown",
   "metadata": {},
   "source": [
    "# How to run a simulation\n",
    "\n",
    "BattMo simulations replicates the voltage-current response of a cell. To run a Battmo simulation, the basic workflow is:\n",
    "* Set up cell parameters\n",
    "* Set up a cycling protocol\n",
    "* Select a model\n",
    "* Prepare a simulation\n",
    "* Run the simulation\n",
    "* Inspect and visualize the outputs of the simulation"
   ]
  },
  {
   "cell_type": "code",
   "execution_count": null,
   "metadata": {},
   "outputs": [
    {
     "data": {
      "text/plain": [
       "\"c:\\\\Users\\\\alexa\\\\BattMo.jl\\\\docs\\\\Project.toml\""
      ]
     },
     "metadata": {},
     "output_type": "display_data"
    }
   ],
   "source": [
    "using Pkg\n",
    "Pkg.activate(\"C:/Users/alexa/BattMo.jl/my-env\")"
   ]
  },
  {
   "cell_type": "code",
   "execution_count": null,
   "metadata": {},
   "outputs": [
    {
     "data": {
      "text/plain": [
       "\"c:\\\\Users\\\\alexa\\\\BattMo.jl\\\\docs\\\\Project.toml\""
      ]
     },
     "metadata": {},
     "output_type": "display_data"
    }
   ],
   "source": []
  },
  {
   "cell_type": "markdown",
   "metadata": {},
   "source": [
    "To start, we load BattMo (battery models and simulations) and GLMakie (plotting)."
   ]
  },
  {
   "cell_type": "code",
   "execution_count": 1,
   "metadata": {},
   "outputs": [
    {
     "ename": "ErrorException",
     "evalue": "failed to find source of parent package: \"ArrayInterface\"",
     "output_type": "error",
     "traceback": [
      "failed to find source of parent package: \"ArrayInterface\"\n",
      "\n",
      "Stacktrace:\n",
      "  [1] error(s::String)\n",
      "    @ Base .\\error.jl:35\n",
      "  [2] explicit_manifest_uuid_path(project_file::String, pkg::Base.PkgId)\n",
      "    @ Base .\\loading.jl:1029\n",
      "  [3] manifest_uuid_path(env::String, pkg::Base.PkgId)\n",
      "    @ Base .\\loading.jl:730\n",
      "  [4] locate_package_env(pkg::Base.PkgId, stopenv::Nothing)\n",
      "    @ Base .\\loading.jl:463\n",
      "  [5] locate_package(pkg::Base.PkgId, stopenv::Nothing)\n",
      "    @ Base .\\loading.jl:510\n",
      "  [6] locate_package\n",
      "    @ .\\loading.jl:510 [inlined]\n",
      "  [7] _precompilepkgs(pkgs::Vector{String}, internal_call::Bool, strict::Bool, warn_loaded::Bool, timing::Bool, _from_loading::Bool, configs::Vector{Pair{Cmd, Base.CacheFlags}}, io::IOContext{IO}, fancyprint::Bool, ignore_loaded::Bool)\n",
      "    @ Base.Precompilation .\\precompilation.jl:878\n",
      "  [8] precompilepkgs(pkgs::Vector{String}; internal_call::Bool, strict::Bool, warn_loaded::Bool, timing::Bool, _from_loading::Bool, configs::Pair{Cmd, Base.CacheFlags}, io::VSCodeServer.IJuliaCore.IJuliaStdio{Base.PipeEndpoint, typeof(VSCodeServer.io_send_callback)}, fancyprint::Bool, ignore_loaded::Bool)\n",
      "    @ Base.Precompilation .\\precompilation.jl:411\n",
      "  [9] _require(pkg::Base.PkgId, env::String)\n",
      "    @ Base .\\loading.jl:2558\n",
      " [10] __require_prelocked(uuidkey::Base.PkgId, env::String)\n",
      "    @ Base .\\loading.jl:2388\n",
      " [11] #invoke_in_world#3\n",
      "    @ .\\essentials.jl:1089 [inlined]\n",
      " [12] invoke_in_world\n",
      "    @ .\\essentials.jl:1086 [inlined]\n",
      " [13] _require_prelocked(uuidkey::Base.PkgId, env::String)\n",
      "    @ Base .\\loading.jl:2375\n",
      " [14] macro expansion\n",
      "    @ .\\loading.jl:2314 [inlined]\n",
      " [15] macro expansion\n",
      "    @ .\\lock.jl:273 [inlined]\n",
      " [16] __require(into::Module, mod::Symbol)\n",
      "    @ Base .\\loading.jl:2271\n",
      " [17] #invoke_in_world#3\n",
      "    @ .\\essentials.jl:1089 [inlined]\n",
      " [18] invoke_in_world\n",
      "    @ .\\essentials.jl:1086 [inlined]\n",
      " [19] require(into::Module, mod::Symbol)\n",
      "    @ Base .\\loading.jl:2260\n",
      " [20] eval\n",
      "    @ .\\boot.jl:430 [inlined]\n",
      " [21] include_string(mapexpr::typeof(REPL.softscope), mod::Module, code::String, filename::String)\n",
      "    @ Base .\\loading.jl:2734\n",
      " [22] #invokelatest#2\n",
      "    @ .\\essentials.jl:1055 [inlined]\n",
      " [23] invokelatest\n",
      "    @ .\\essentials.jl:1052 [inlined]\n",
      " [24] (::VSCodeServer.var\"#217#218\"{VSCodeServer.NotebookRunCellArguments, String})()\n",
      "    @ VSCodeServer c:\\Users\\alexa\\.vscode\\extensions\\julialang.language-julia-1.149.2\\scripts\\packages\\VSCodeServer\\src\\serve_notebook.jl:24\n",
      " [25] withpath(f::VSCodeServer.var\"#217#218\"{VSCodeServer.NotebookRunCellArguments, String}, path::String)\n",
      "    @ VSCodeServer c:\\Users\\alexa\\.vscode\\extensions\\julialang.language-julia-1.149.2\\scripts\\packages\\VSCodeServer\\src\\repl.jl:276\n",
      " [26] notebook_runcell_request(conn::VSCodeServer.JSONRPC.JSONRPCEndpoint{Base.PipeEndpoint, Base.PipeEndpoint, VSCodeServer.JSON.Serializations.StandardSerialization}, params::VSCodeServer.NotebookRunCellArguments, token::VSCodeServer.CancellationTokens.CancellationToken)\n",
      "    @ VSCodeServer c:\\Users\\alexa\\.vscode\\extensions\\julialang.language-julia-1.149.2\\scripts\\packages\\VSCodeServer\\src\\serve_notebook.jl:13\n",
      " [27] dispatch_msg(x::VSCodeServer.JSONRPC.JSONRPCEndpoint{Base.PipeEndpoint, Base.PipeEndpoint, VSCodeServer.JSON.Serializations.StandardSerialization}, dispatcher::VSCodeServer.JSONRPC.MsgDispatcher, msg::VSCodeServer.JSONRPC.Request)\n",
      "    @ VSCodeServer.JSONRPC c:\\Users\\alexa\\.vscode\\extensions\\julialang.language-julia-1.149.2\\scripts\\packages\\JSONRPC\\src\\typed.jl:68\n",
      " [28] serve_notebook(pipename::String, debugger_pipename::String, outputchannel_logger::Base.CoreLogging.SimpleLogger; error_handler::var\"#5#10\"{String})\n",
      "    @ VSCodeServer c:\\Users\\alexa\\.vscode\\extensions\\julialang.language-julia-1.149.2\\scripts\\packages\\VSCodeServer\\src\\serve_notebook.jl:147\n",
      " [29] top-level scope\n",
      "    @ c:\\Users\\alexa\\.vscode\\extensions\\julialang.language-julia-1.149.2\\scripts\\notebook\\notebook.jl:35"
     ]
    }
   ],
   "source": [
    "using BattMo, GLMakie"
   ]
  },
  {
   "cell_type": "markdown",
   "metadata": {},
   "source": [
    "BattMo stores cell parameters, cycling protocols and settings in a user-friendly JSON format to facilitate reuse. For our example, we read\n",
    "the cell parameter set from a NMC811 vs Graphite-SiOx cell whose parameters were determined in the [Chen 2020 paper](https://doi.org/10.1149/1945-7111/ab9050).\n",
    "We also read an example cycling protocol for a simple Constant Current Discharge."
   ]
  },
  {
   "cell_type": "code",
   "execution_count": null,
   "metadata": {},
   "outputs": [],
   "source": [
    "cell_parameters = load_cell_parameters(; from_default_set = \"Chen2020\")\n",
    "cycling_protocol = load_cycling_protocol(; from_default_set = \"CCDischarge\")\n",
    "\n",
    "nothing # hide"
   ]
  },
  {
   "cell_type": "markdown",
   "metadata": {},
   "source": [
    "Next, we select the Lithium-Ion Battery Model with default model settings. A model can be thought as a mathematical implementation of the electrochemical and\n",
    "transport phenomena occuring in a real battery cell. The implementation consist of a system of partial differential equations and their corresponding parameters, constants and boundary conditions.\n",
    "The default Lithium-Ion Battery Model selected below corresponds to a basic P2D model, where neither current collectors nor thermal effects are considered."
   ]
  },
  {
   "cell_type": "code",
   "execution_count": null,
   "metadata": {},
   "outputs": [],
   "source": [
    "model_setup = LithiumIonBattery()"
   ]
  },
  {
   "cell_type": "markdown",
   "metadata": {},
   "source": [
    "Then we setup a Simulation by passing the model, cell parameters and a cycling protocol. A Simulation can be thought as a procedure to predict how the cell responds to the cycling protocol,\n",
    "by solving the equations in the model using the cell parameters passed.\n",
    "We first prepare the simulation:"
   ]
  },
  {
   "cell_type": "code",
   "execution_count": null,
   "metadata": {},
   "outputs": [],
   "source": [
    "sim = Simulation(model_setup, cell_parameters, cycling_protocol);"
   ]
  },
  {
   "cell_type": "markdown",
   "metadata": {},
   "source": [
    "When the simulation is prepared, there are some validation checks happening in the background, which verify whether the cell parameters, cycling protocol and settings are sensible and complete\n",
    "to run a simulation. It is good practice to ensure that the Simulation has been properly configured by checking if has passed the validation procedure:"
   ]
  },
  {
   "cell_type": "code",
   "execution_count": null,
   "metadata": {},
   "outputs": [],
   "source": [
    "sim.is_valid"
   ]
  },
  {
   "cell_type": "markdown",
   "metadata": {},
   "source": [
    "Now we can run the simulation"
   ]
  },
  {
   "cell_type": "code",
   "execution_count": null,
   "metadata": {},
   "outputs": [],
   "source": [
    "output = solve(sim;)\n",
    "nothing # hide"
   ]
  },
  {
   "cell_type": "markdown",
   "metadata": {},
   "source": [
    "The ouput is a NamedTuple storing the results of the simulation within multiple dictionaries. Let's plot the cell current and cell voltage over time and make a plot with the GLMakie package."
   ]
  },
  {
   "cell_type": "code",
   "execution_count": null,
   "metadata": {},
   "outputs": [],
   "source": [
    "states = output[:states]\n",
    "\n",
    "t = [state[:Control][:Controller].time for state in states]\n",
    "E = [state[:Control][:Phi][1] for state in states]\n",
    "I = [state[:Control][:Current][1] for state in states]\n",
    "nothing # hide\n",
    "\n",
    "\n",
    "f = Figure(size = (1000, 400))\n",
    "\n",
    "ax = Axis(f[1, 1], title = \"Voltage\", xlabel = \"Time / s\", ylabel = \"Voltage / V\",\n",
    "\txlabelsize = 25,\n",
    "\tylabelsize = 25,\n",
    "\txticklabelsize = 25,\n",
    "\tyticklabelsize = 25,\n",
    ")\n",
    "scatterlines!(ax, t, E; linewidth = 4, markersize = 10, marker = :cross, markercolor = :black)\n",
    "\n",
    "f\n",
    "\n",
    "ax = Axis(f[1, 2], title = \"Current\", xlabel = \"Time / s\", ylabel = \"Current / V\",\n",
    "\txlabelsize = 25,\n",
    "\tylabelsize = 25,\n",
    "\txticklabelsize = 25,\n",
    "\tyticklabelsize = 25,\n",
    ")\n",
    "scatterlines!(ax, t, I; linewidth = 4, markersize = 10, marker = :cross, markercolor = :black)\n",
    "\n",
    "f"
   ]
  },
  {
   "cell_type": "markdown",
   "metadata": {},
   "source": [
    "---\n",
    "\n",
    "*This notebook was generated using [Literate.jl](https://github.com/fredrikekre/Literate.jl).*"
   ]
  }
 ],
 "metadata": {
  "kernelspec": {
   "display_name": "Julia 1.11.5",
   "language": "julia",
   "name": "julia-1.11"
  },
  "language_info": {
   "file_extension": ".jl",
   "mimetype": "application/julia",
   "name": "julia",
   "version": "1.11.5"
  }
 },
 "nbformat": 4,
 "nbformat_minor": 3
}
