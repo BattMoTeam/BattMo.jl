{
 "cells": [
  {
   "cell_type": "markdown",
   "source": [
    "# Running parameter sweep"
   ],
   "metadata": {}
  },
  {
   "cell_type": "markdown",
   "source": [
    "In this tutorial we will compare the effect that parameter values have on cell performance."
   ],
   "metadata": {}
  },
  {
   "cell_type": "markdown",
   "source": [
    "Lets start with loading some pre-defined cell parameters and cycling protocols."
   ],
   "metadata": {}
  },
  {
   "outputs": [],
   "cell_type": "code",
   "source": [
    "using BattMo, GLMakie\n",
    "\n",
    "cell_parameters = load_cell_parameters(; from_default_set = \"Chen2020\")\n",
    "cycling_protocol = load_cycling_protocol(; from_default_set = \"CCDischarge\")\n",
    "nothing # hide\n",
    "\n",
    "model_setup = LithiumIonBattery()"
   ],
   "metadata": {},
   "execution_count": null
  },
  {
   "cell_type": "markdown",
   "source": [
    "### Sweeping through reaction rates\n",
    "First lets see the effect that the reaction rate of the negative electrode has on cell performance. To do this, we simply loop through\n",
    "a list of parameter values, carry a simulation for each value, store the outputs, and compare the voltage curves for every output.\n",
    "We use the logarithm of the reaction rates to change their values by orders of magnitude."
   ],
   "metadata": {}
  },
  {
   "outputs": [],
   "cell_type": "code",
   "source": [
    "log_rate_start = -3.0\n",
    "log_rate_stop = -13.0\n",
    "\n",
    "outputs_rate = []\n",
    "for r in range(log_rate_start, log_rate_stop, length = 10)\n",
    "\tcell_parameters[\"NegativeElectrode\"][\"ActiveMaterial\"][\"ReactionRateConstant\"] = 10^r\n",
    "\tsim = Simulation(model_setup, cell_parameters, cycling_protocol)\n",
    "\tresult = solve(sim; config_kwargs = (; end_report = false))\n",
    "\tpush!(outputs_rate, (r = r, output = result))  # store r together with output\n",
    "end\n",
    "nothing # hide"
   ],
   "metadata": {},
   "execution_count": null
  },
  {
   "cell_type": "markdown",
   "source": [
    "Now, plot the discharge curves for each reaction rate:"
   ],
   "metadata": {}
  },
  {
   "outputs": [],
   "cell_type": "code",
   "source": [
    "using Printf\n",
    "fig = Figure()\n",
    "ax = Axis(fig[1, 1], ylabel = \"Voltage / V\", xlabel = \"Time / s\", title = \"Discharge curve\")\n",
    "\n",
    "for data in outputs_rate\n",
    "\tlocal t = [state[:Control][:Controller].time for state in data.output[:states]]\n",
    "\tlocal E = [state[:Control][:Phi][1] for state in data.output[:states]]\n",
    "\tlines!(ax, t, E, label = @sprintf(\"%.1e\", 10^data.r))\n",
    "end\n",
    "\n",
    "fig[1, 2] = Legend(fig, ax, \"Reaction rate\", framevisible = false)\n",
    "fig # hide"
   ],
   "metadata": {},
   "execution_count": null
  },
  {
   "cell_type": "markdown",
   "source": [
    "Sweeping reaction rates result in interesting behavior of the cells voltage and capacity. High reaction rates have negligible influence\n",
    "on the cell voltage curve. However, values below 1e-10 result in a noticeable difference on the curves and the cell's capacity.\n",
    "This observations might be attributed to the interplay between Li+ diffusion and reaction processes. For high reaction rates,\n",
    "the limiting Li+ transport step might be diffusing Li+ from/to the electrodes. However, below a threshold value, the reaction kinetics\n",
    "becomes the bottleneck step in Li+ transport, thus contributing significantly to the cell's overpotential."
   ],
   "metadata": {}
  },
  {
   "cell_type": "markdown",
   "source": [
    "### Sweeping through diffusion coefficients\n",
    "Lets now see the effect that the diffusion coefficient of the positive electrode has on cell performance. We first set the reaction rate\n",
    "to the original value in the parameter set, and then follow the same procedure as above."
   ],
   "metadata": {}
  },
  {
   "outputs": [],
   "cell_type": "code",
   "source": [
    "cell_parameters[\"NegativeElectrode\"][\"ActiveMaterial\"][\"ReactionRateConstant\"] = 1.0e-13\n",
    "\n",
    "log_D_start = -10.0\n",
    "log_D_stop = -15.0\n",
    "\n",
    "outputs_diff = []\n",
    "\n",
    "for d in range(log_D_start, log_D_stop, length = 10)\n",
    "\tcell_parameters[\"PositiveElectrode\"][\"ActiveMaterial\"][\"DiffusionCoefficient\"] = 10^d\n",
    "\tsim = Simulation(model_setup, cell_parameters, cycling_protocol)\n",
    "\tresult = solve(sim; config_kwargs = (; end_report = false))\n",
    "\tpush!(outputs_diff, (d = d, output = result))  # store r together with output\n",
    "end\n",
    "nothing # hide\n",
    "\n",
    "fig1 = Figure()\n",
    "ax1 = Axis(fig1[1, 1], ylabel = \"Voltage / V\", xlabel = \"Time / s\", title = \"Discharge curve\")\n",
    "\n",
    "for data in outputs_diff\n",
    "\tif length(data.output[:states]) > 0 #if simulation is successful\n",
    "\t\tlocal t = [state[:Control][:Controller].time for state in data.output[:states]]\n",
    "\t\tlocal E = [state[:Control][:Phi][1] for state in data.output[:states]]\n",
    "\t\tlines!(ax1, t, E, label = @sprintf(\"%.1e\", 10^data.d))\n",
    "\tend\n",
    "end\n",
    "\n",
    "fig1[1, 2] = Legend(fig1, ax1, \"Diffusion Coefficient\", framevisible = false)\n",
    "fig1 # hide"
   ],
   "metadata": {},
   "execution_count": null
  },
  {
   "cell_type": "markdown",
   "source": [
    "Diffusion coefficients, just as reaction rates, have also a non-linear effect on the cells voltage and capacity. Diffusion coefficients\n",
    "down to 5e-14  have negligible influence on the cell voltage curve. However, as the coefficients fall below 5e-14 they start to influence\n",
    "the curves and the cell's capacity in a noticeable way. The effect becomes more pronounced at lower values. As with reaction rates,\n",
    "these observations might originate from the interplay between Li+ diffusion and reaction processes, where the cell's overpotential responds\n",
    "to the transport limiting step."
   ],
   "metadata": {}
  },
  {
   "cell_type": "markdown",
   "source": [
    "---\n",
    "\n",
    "*This notebook was generated using [Literate.jl](https://github.com/fredrikekre/Literate.jl).*"
   ],
   "metadata": {}
  }
 ],
 "nbformat_minor": 3,
 "metadata": {
  "language_info": {
   "file_extension": ".jl",
   "mimetype": "application/julia",
   "name": "julia",
   "version": "1.11.3"
  },
  "kernelspec": {
   "name": "julia-1.11",
   "display_name": "Julia 1.11.3",
   "language": "julia"
  }
 },
 "nbformat": 4
}
