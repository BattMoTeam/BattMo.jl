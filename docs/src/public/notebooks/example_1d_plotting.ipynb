{
 "cells": [
  {
   "outputs": [],
   "cell_type": "code",
   "source": [
    "using BattMo, GLMakie\n",
    "\n",
    "model_settings = load_model_settings(; from_default_set = \"P2D\")\n",
    "model_settings[\"SEIModel\"] = \"Bolay\"\n",
    "cell_parameters = load_cell_parameters(; from_default_set = \"Chen2020\")\n",
    "cycling_protocol = load_cycling_protocol(; from_default_set = \"CCCV\")\n",
    "simulation_settings = load_simulation_settings(; from_default_set = \"P2D\")\n",
    "\n",
    "model = LithiumIonBattery(; model_settings)\n",
    "\n",
    "cycling_protocol[\"TotalNumberOfCycles\"] = 10\n",
    "\n",
    "sim = Simulation(model, cell_parameters, cycling_protocol);\n",
    "\n",
    "output = solve(sim;)\n",
    "\n",
    "print_output_overview(output)\n",
    "\n",
    "\n",
    "time_series = get_output_time_series(output)\n",
    "states = get_output_states(output)\n",
    "metrics = get_output_metrics(output)"
   ],
   "metadata": {},
   "execution_count": null
  },
  {
   "cell_type": "markdown",
   "source": [
    "Plot a simple pre-defined dashboard"
   ],
   "metadata": {}
  },
  {
   "outputs": [],
   "cell_type": "code",
   "source": [
    "plot_dashboard(output)"
   ],
   "metadata": {},
   "execution_count": null
  },
  {
   "cell_type": "markdown",
   "source": [
    "Plot a dashboard with line plots"
   ],
   "metadata": {}
  },
  {
   "outputs": [],
   "cell_type": "code",
   "source": [
    "plot_dashboard(output; plot_type = \"line\")"
   ],
   "metadata": {},
   "execution_count": null
  },
  {
   "cell_type": "markdown",
   "source": [
    "Plot a dashboard with contour plots"
   ],
   "metadata": {}
  },
  {
   "outputs": [],
   "cell_type": "code",
   "source": [
    "plot_dashboard(output; plot_type = \"contour\")"
   ],
   "metadata": {},
   "execution_count": null
  },
  {
   "cell_type": "markdown",
   "source": [
    "Some simple examples plotting time series quantities using the `plot_output` function"
   ],
   "metadata": {}
  },
  {
   "outputs": [],
   "cell_type": "code",
   "source": [
    "plot_output(output,\n",
    "\t[\n",
    "\t\t\"Current vs Time\",\n",
    "\t\t\"Voltage vs Time\",\n",
    "\t];\n",
    "\tlayout = (2, 1),\n",
    ")"
   ],
   "metadata": {},
   "execution_count": null
  },
  {
   "cell_type": "markdown",
   "source": [
    "Some simple examples plotting state quantities using the `plot_output` function"
   ],
   "metadata": {}
  },
  {
   "outputs": [],
   "cell_type": "code",
   "source": [
    "plot_output(output,\n",
    "\t[\n",
    "\t\t[\"NeAmSurfaceConcentration vs Time at Position index 10\", \"NeAmSurfaceConcentration vs Time at Position index 1\"],\n",
    "\t\t\"NeAmConcentration vs Time at Position index 10 and NeAmRadius index 5\",\n",
    "\t\t\"NeAmSurfaceConcentration vs Position and Time\",\n",
    "\t\t\"PeAmConcentration vs Time and Position at PeAmRadius index end\",\n",
    "\t\t\"NeAmPotential vs Time at Position index 10\",\n",
    "\t];\n",
    "\tlayout = (4, 2),\n",
    ")"
   ],
   "metadata": {},
   "execution_count": null
  },
  {
   "cell_type": "markdown",
   "source": [
    "Some simple examples plotting metrics using the `plot_output` function"
   ],
   "metadata": {}
  },
  {
   "outputs": [],
   "cell_type": "code",
   "source": [
    "plot_output(output,\n",
    "\t[\n",
    "\t\t\"DischargeCapacity vs CycleNumber\",\n",
    "\t\t\"CycleNumber vs Time\",\n",
    "\t\t\"RoundTripEfficiency vs Time\",\n",
    "\t\t\"RoundTripEfficiency vs DischargeCapacity\",\n",
    "\t];\n",
    "\tlayout = (4, 2),\n",
    ")"
   ],
   "metadata": {},
   "execution_count": null
  },
  {
   "cell_type": "markdown",
   "source": [
    "Access state data and plot for a specific time step"
   ],
   "metadata": {}
  },
  {
   "outputs": [],
   "cell_type": "code",
   "source": [
    "quantities = [\"Time\", \"Position\", \"NeAmRadius\", \"NeAmConcentration\",\n",
    "\t\"NeAmSurfaceConcentration\", \"PeAmRadius\", \"PeAmConcentration\",\n",
    "\t\"PeAmSurfaceConcentration\", \"ElectrolyteConcentration\"]\n",
    "\n",
    "\n",
    "output_data = get_output_states(output, quantities = quantities);\n",
    "\n",
    "t = 100 # time step to plot\n",
    "\n",
    "d1 = output_data[:NegativeElectrodeActiveMaterialSurfaceConcentration][t, :]\n",
    "d2 = output_data[:PositiveElectrodeActiveMaterialSurfaceConcentration][t, :]\n",
    "d3 = output_data[:ElectrolyteConcentration][t, :]\n",
    "\n",
    "f = Figure()\n",
    "ax = Axis(f[1, 1], title = \"Concentration at t = $(output_data[:Time][t]) s\", xlabel = \"Position [m]\", ylabel = \"Concentration\")\n",
    "l1 = lines!(ax, output_data[:Position], d1, color = :red, linewidth = 2, label = \"NeAmSurfaceConcentration\")\n",
    "l2 = lines!(ax, output_data[:Position], d2, color = :blue, linewidth = 2, label = \"PeAmSurfaceConcentration\")\n",
    "l3 = lines!(ax, output_data[:Position], d3, color = :green, linewidth = 2, label = \"ElectrolyteConcentration\")\n",
    "axislegend(ax)\n",
    "display(GLMakie.Screen(), f)\n",
    "\n",
    "g = Figure()\n",
    "ax2 = Axis(g[1, 1], title = \"Active Material Concentration at t = $(output_data[:Time][t]) s\", xlabel = \"Position\", ylabel = \"Depth\")\n",
    "hm1 = contourf!(ax2, output_data[:Position], output_data[:NegativeElectrodeActiveMaterialRadius], output_data[:NegativeElectrodeActiveMaterialConcentration][t, :, :])\n",
    "hm2 = contourf!(ax2, output_data[:Position], output_data[:PositiveElectrodeActiveMaterialRadius], output_data[:PositiveElectrodeActiveMaterialConcentration][t, :, :])\n",
    "Colorbar(g[1, 2], hm1)\n",
    "display(GLMakie.Screen(), g)"
   ],
   "metadata": {},
   "execution_count": null
  },
  {
   "cell_type": "markdown",
   "source": [
    "---\n",
    "\n",
    "*This notebook was generated using [Literate.jl](https://github.com/fredrikekre/Literate.jl).*"
   ],
   "metadata": {}
  }
 ],
 "nbformat_minor": 3,
 "metadata": {
  "language_info": {
   "file_extension": ".jl",
   "mimetype": "application/julia",
   "name": "julia",
   "version": "1.11.3"
  },
  "kernelspec": {
   "name": "julia-1.11",
   "display_name": "Julia 1.11.3",
   "language": "julia"
  }
 },
 "nbformat": 4
}
