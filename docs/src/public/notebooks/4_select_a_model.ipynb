{
    "cells": [
        {
            "cell_type": "markdown",
            "source": [
                "# Selecting a model"
            ],
            "metadata": {}
        },
        {
            "cell_type": "markdown",
            "source": [
                "As mentioned in the first tutorial, a model can be thought as a mathematical implementation of the electrochemical and transport phenomena occuring in a real battery cell.\n",
                "The implementation consist of a system of partial differential equations and their corresponding parameters, constants, boundary conditions and assumptions."
            ],
            "metadata": {}
        },
        {
            "cell_type": "markdown",
            "source": [
                "The default Lithium-Ion Battery Model corresponds to a basic P2D model, where neither current collectors, degradation nor thermal effects are considered.\n",
                "BattMo has implemented several variants of the Lithium-Ion Battery Model, which can be accessed by *configuring the model object*. In this tutorial, we’ll configure a\n",
                "P2D model with degradation driven by SEI (Solid Electrolyte Interphase) growth."
            ],
            "metadata": {}
        },
        {
            "cell_type": "markdown",
            "source": [
                "### Load BattMo and Model Settings"
            ],
            "metadata": {}
        },
        {
            "outputs": [],
            "cell_type": "code",
            "source": [
                "using BattMo, GLMakie"
            ],
            "metadata": {},
            "execution_count": null
        },
        {
            "cell_type": "markdown",
            "source": [
                "Let’s begin by loading the default model settings for a P2D simulation. This will return a ModelSettings object:"
            ],
            "metadata": {}
        },
        {
            "outputs": [],
            "cell_type": "code",
            "source": [
                "model_settings = load_model_settings(; from_default_set = \"P2D\")\n",
                "nothing #hide"
            ],
            "metadata": {},
            "execution_count": null
        },
        {
            "cell_type": "markdown",
            "source": [
                "We can inspect all current settings with:"
            ],
            "metadata": {}
        },
        {
            "outputs": [],
            "cell_type": "code",
            "source": [
                "model_settings.all"
            ],
            "metadata": {},
            "execution_count": null
        },
        {
            "cell_type": "markdown",
            "source": [
                "By default, the \"SEIModel\" parameter is set to false. Since we want to observe SEI-driven degradation effects, we’ll specify which SEI model we'd like to use, and with that enable the use of\n",
                "the SEI model during the simulation. Let's have a look at which models are available to include in the settings:"
            ],
            "metadata": {}
        },
        {
            "outputs": [],
            "cell_type": "code",
            "source": [
                "print_submodels()"
            ],
            "metadata": {},
            "execution_count": null
        },
        {
            "cell_type": "markdown",
            "source": [
                "For the SEI model, we can see there's one model to enable which is the \"Bolay\" model. We enable it in the model settings:"
            ],
            "metadata": {}
        },
        {
            "outputs": [],
            "cell_type": "code",
            "source": [
                "model_settings[\"SEIModel\"] = \"Bolay\"\n",
                "model_settings.all"
            ],
            "metadata": {},
            "execution_count": null
        },
        {
            "cell_type": "markdown",
            "source": [
                "### Initialize the Model\n",
                "Let’s now create the battery model using the modified settings:"
            ],
            "metadata": {}
        },
        {
            "outputs": [],
            "cell_type": "code",
            "source": [
                "model = LithiumIonBattery(; model_settings);"
            ],
            "metadata": {},
            "execution_count": null
        },
        {
            "cell_type": "markdown",
            "source": [
                "When setting up the model, the LithiumIonBattery constructor runs a validation on the model_settings.\n",
                "In this case, because we set the \"SEIModel\" parameter to true, the validator provides a warning that we should define which SEI model we would like to use.\n",
                "If we ignore any warnings and pass the model to the Simulation constructor then we get an error. Let's create such a situation:"
            ],
            "metadata": {}
        },
        {
            "outputs": [],
            "cell_type": "code",
            "source": [
                "model_settings[\"SEIModel\"] = \"Bola\"\n",
                "\n",
                "\n",
                "model = LithiumIonBattery(; model_settings);"
            ],
            "metadata": {},
            "execution_count": null
        },
        {
            "cell_type": "markdown",
            "source": [
                "We get a warning that a validation issue has been encountered. For now we ignore it:"
            ],
            "metadata": {}
        },
        {
            "outputs": [],
            "cell_type": "code",
            "source": [
                "cell_parameters_sei = load_cell_parameters(; from_default_set = \"Chen2020\")\n",
                "cccv_protocol = load_cycling_protocol(; from_default_set = \"CCCV\")\n",
                "\n",
                "try  # hide\n",
                "\tsim = Simulation(model, cell_parameters_sei, cccv_protocol)\n",
                "catch err # hide\n",
                "\tshowerror(stderr, err) # hide\n",
                "end  # hide"
            ],
            "metadata": {},
            "execution_count": null
        },
        {
            "cell_type": "markdown",
            "source": [
                "As expected, this results in an error because we didn't specify the SEI model correctly."
            ],
            "metadata": {}
        },
        {
            "cell_type": "markdown",
            "source": [
                "### Specify SEI Model and Rebuild\n",
                "Let's resolve the issue again and run the simulation:"
            ],
            "metadata": {}
        },
        {
            "outputs": [],
            "cell_type": "code",
            "source": [
                "model_settings[\"SEIModel\"] = \"Bolay\"\n",
                "nothing # hide"
            ],
            "metadata": {},
            "execution_count": null
        },
        {
            "cell_type": "markdown",
            "source": [
                "Now rebuild the model:"
            ],
            "metadata": {}
        },
        {
            "outputs": [],
            "cell_type": "code",
            "source": [
                "model = LithiumIonBattery(; model_settings);"
            ],
            "metadata": {},
            "execution_count": null
        },
        {
            "cell_type": "markdown",
            "source": [
                "Now we can setup the simulation and run it."
            ],
            "metadata": {}
        },
        {
            "outputs": [],
            "cell_type": "code",
            "source": [
                "sim = Simulation(model, cell_parameters_sei, cccv_protocol)\n",
                "output = solve(sim)\n",
                "nothing # hide"
            ],
            "metadata": {},
            "execution_count": null
        },
        {
            "cell_type": "markdown",
            "source": [
                "## Plot of voltage and current"
            ],
            "metadata": {}
        },
        {
            "outputs": [],
            "cell_type": "code",
            "source": [
                "plot_dashboard(output; plot_type = \"simple\")"
            ],
            "metadata": {},
            "execution_count": null
        },
        {
            "cell_type": "markdown",
            "source": [
                "## Plot of SEI length"
            ],
            "metadata": {}
        },
        {
            "cell_type": "markdown",
            "source": [
                "We recover the SEI length from the `state` output"
            ],
            "metadata": {}
        },
        {
            "outputs": [],
            "cell_type": "code",
            "source": [
                "states = get_output_states(output)\n",
                "seilength = states[:SEIThickness]"
            ],
            "metadata": {},
            "execution_count": null
        },
        {
            "cell_type": "markdown",
            "source": [
                "We can plot it using the plot_ouput function"
            ],
            "metadata": {}
        },
        {
            "outputs": [],
            "cell_type": "code",
            "source": [
                "ne_index = sim.settings[\"GridResolutionNegativeElectrodeCoating\"]\n",
                "\n",
                "plot_output(output,\n",
                "\t[\"SEIThickness vs Time at Position index $ne_index\",\n",
                "\t\t\"Voltage vs Time\"],\n",
                "\tlayout = (2, 1))"
            ],
            "metadata": {},
            "execution_count": null
        },
        {
            "cell_type": "markdown",
            "source": [
                "---\n",
                "\n",
                "*This notebook was generated using [Literate.jl](https://github.com/fredrikekre/Literate.jl).*"
            ],
            "metadata": {}
        }
    ],
    "nbformat_minor": 3,
    "metadata": {
        "language_info": {
            "file_extension": ".jl",
            "mimetype": "application/julia",
            "name": "julia",
            "version": "1.11.3"
        },
        "kernelspec": {
            "name": "julia-1.11",
            "display_name": "Julia 1.11.3",
            "language": "julia"
        }
    },
    "nbformat": 4
}