{
    "cells": [
        {
            "cell_type": "markdown",
            "source": [
                "# An example using Matlab input"
            ],
            "metadata": {}
        },
        {
            "cell_type": "markdown",
            "source": [
                "## We prepare the input."
            ],
            "metadata": {}
        },
        {
            "outputs": [],
            "cell_type": "code",
            "source": [
                "using Jutul, BattMo, GLMakie"
            ],
            "metadata": {},
            "execution_count": null
        },
        {
            "cell_type": "markdown",
            "source": [
                "We load the matlab input file"
            ],
            "metadata": {}
        },
        {
            "outputs": [],
            "cell_type": "code",
            "source": [
                "name = \"p2d_40\"\n",
                "fn = string(dirname(pathof(BattMo)), \"/../test/data/matlab_files/\", name, \".mat\")\n",
                "inputparams = load_matlab_battmo_input(fn)\n",
                "nothing # hide"
            ],
            "metadata": {},
            "execution_count": null
        },
        {
            "cell_type": "markdown",
            "source": [
                "We want to compare the solution obtained in julia with the solution computed in Matlab. We set the option to load the\n",
                "reference states computed in matlab, which are included in the matlab input file."
            ],
            "metadata": {}
        },
        {
            "outputs": [],
            "cell_type": "code",
            "source": [
                "inputparams[\"use_state_ref\"] = true\n",
                "nothing # hide"
            ],
            "metadata": {},
            "execution_count": null
        },
        {
            "cell_type": "markdown",
            "source": [
                "We prepare a hook that will be used by the simulator. In this hook, we modify the tolerance for the current\n",
                "collector. This is necessary because the very high conductivity of the current collector introduces round-off error\n",
                "**when** the current collectors are used in a P**2**D model. We should in fact use effective conductivities for the\n",
                "current collector for one-dimensional model."
            ],
            "metadata": {}
        },
        {
            "outputs": [],
            "cell_type": "code",
            "source": [
                "function hook(simulator,\n",
                "\tmodel,\n",
                "\tstate0,\n",
                "\tforces,\n",
                "\ttimesteps,\n",
                "\tcfg)\n",
                "\n",
                "\tnames = [:Elyte,\n",
                "\t\t:NeAm,\n",
                "\t\t:Control,\n",
                "\t\t:PeAm]\n",
                "\n",
                "\tif inputparams[\"model\"][\"include_current_collectors\"]\n",
                "\t\tnames = append!(names, [:PeCc, :NeCc])\n",
                "\tend\n",
                "\n",
                "\tfor name in names\n",
                "\t\tcfg[:tolerances][name][:default] = 1e-8\n",
                "\tend\n",
                "\n",
                "end\n",
                "nothing # hide"
            ],
            "metadata": {},
            "execution_count": null
        },
        {
            "cell_type": "markdown",
            "source": [
                "## We run the simulation and retrieve the output"
            ],
            "metadata": {}
        },
        {
            "outputs": [],
            "cell_type": "code",
            "source": [
                "output = run_battery(inputparams;\n",
                "\thook = hook,\n",
                "\tmax_step = nothing);\n",
                "states = output[:states]\n",
                "\n",
                "t = [state[:Control][:Controller].time for state in states]\n",
                "E = [state[:Control][:Voltage][1] for state in states]\n",
                "I = [state[:Control][:Current][1] for state in states]\n",
                "\n",
                "nsteps = size(states, 1)\n",
                "nothing # hide"
            ],
            "metadata": {},
            "execution_count": null
        },
        {
            "cell_type": "markdown",
            "source": [
                "## We retrieve the reference states computed in matlab."
            ],
            "metadata": {}
        },
        {
            "outputs": [],
            "cell_type": "code",
            "source": [
                "statesref = inputparams[\"states\"]\n",
                "timeref   = t\n",
                "Eref      = [state[\"Control\"][\"E\"] for state in statesref[1:nsteps]]\n",
                "Iref      = [state[\"Control\"][\"I\"] for state in statesref[1:nsteps]]\n",
                "nothing # hide"
            ],
            "metadata": {},
            "execution_count": null
        },
        {
            "cell_type": "markdown",
            "source": [
                "## We plot the results and compare the two simulations"
            ],
            "metadata": {}
        },
        {
            "outputs": [],
            "cell_type": "code",
            "source": [
                "f = Figure(size = (1000, 400))\n",
                "\n",
                "ax = Axis(f[1, 1],\n",
                "\ttitle = \"Voltage\",\n",
                "\txlabel = \"Time / s\",\n",
                "\tylabel = \"Voltage / V\",\n",
                "\txlabelsize = 25,\n",
                "\tylabelsize = 25,\n",
                "\txticklabelsize = 25,\n",
                "\tyticklabelsize = 25,\n",
                ")\n",
                "\n",
                "scatterlines!(ax,\n",
                "\tt,\n",
                "\tE;\n",
                "\tlinewidth = 4,\n",
                "\tmarkersize = 10,\n",
                "\tmarker = :cross,\n",
                "\tmarkercolor = :black,\n",
                "\tlabel = \"Julia\",\n",
                ")\n",
                "\n",
                "\n",
                "scatterlines!(ax,\n",
                "\tt,\n",
                "\tEref;\n",
                "\tlinewidth = 2,\n",
                "\tmarker = :cross,\n",
                "\tmarkercolor = :black,\n",
                "\tmarkersize = 1,\n",
                "\tlabel = \"Matlab\")\n",
                "axislegend()\n",
                "\n",
                "ax = Axis(f[1, 2],\n",
                "\ttitle = \"Current\",\n",
                "\txlabel = \"Time / s\",\n",
                "\tylabel = \"Current / A\",\n",
                "\txlabelsize = 25,\n",
                "\tylabelsize = 25,\n",
                "\txticklabelsize = 25,\n",
                "\tyticklabelsize = 25,\n",
                ")\n",
                "\n",
                "scatterlines!(ax,\n",
                "\tt,\n",
                "\tI;\n",
                "\tlinewidth = 4,\n",
                "\tmarkersize = 10,\n",
                "\tmarker = :cross,\n",
                "\tmarkercolor = :black,\n",
                "\tlabel = \"Julia\",\n",
                ")\n",
                "\n",
                "scatterlines!(ax,\n",
                "\tt,\n",
                "\tIref;\n",
                "\tlinewidth = 2,\n",
                "\tmarker = :cross,\n",
                "\tmarkercolor = :black,\n",
                "\tmarkersize = 1,\n",
                "\tlabel = \"Matlab\")\n",
                "axislegend()\n",
                "nothing # hide"
            ],
            "metadata": {},
            "execution_count": null
        },
        {
            "cell_type": "markdown",
            "source": [
                "We observe a perfect match between the Matlab and Julia simulations."
            ],
            "metadata": {}
        },
        {
            "outputs": [],
            "cell_type": "code",
            "source": [
                "f # hide"
            ],
            "metadata": {},
            "execution_count": null
        },
        {
            "cell_type": "markdown",
            "source": [
                "---\n",
                "\n",
                "*This notebook was generated using [Literate.jl](https://github.com/fredrikekre/Literate.jl).*"
            ],
            "metadata": {}
        }
    ],
    "nbformat_minor": 3,
    "metadata": {
        "language_info": {
            "file_extension": ".jl",
            "mimetype": "application/julia",
            "name": "julia",
            "version": "1.11.3"
        },
        "kernelspec": {
            "name": "julia-1.11",
            "display_name": "Julia 1.11.3",
            "language": "julia"
        }
    },
    "nbformat": 4
}