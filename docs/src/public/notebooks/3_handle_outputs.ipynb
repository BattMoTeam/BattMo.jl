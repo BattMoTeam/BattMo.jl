{
 "cells": [
  {
   "cell_type": "markdown",
   "source": [
    "# Handling simulation outputs"
   ],
   "metadata": {}
  },
  {
   "cell_type": "markdown",
   "source": [
    "In this tutorial we will explore the outputs of a simulation for interesting tasks:\n",
    "- Plot voltage and current curves\n",
    "- Plot overpotentials\n",
    "- Plot cell states in space and time\n",
    "- Save outputs\n",
    "- Load outputs."
   ],
   "metadata": {}
  },
  {
   "cell_type": "markdown",
   "source": [
    "Lets start with loading some pre-defined cell parameters, cycling protocols, and running a simulation."
   ],
   "metadata": {}
  },
  {
   "outputs": [],
   "cell_type": "code",
   "source": [
    "using BattMo, GLMakie\n",
    "\n",
    "cell_parameters = load_cell_parameters(; from_default_set = \"chen_2020\")\n",
    "cycling_protocol = load_cycling_protocol(; from_default_set = \"cc_discharge\")\n",
    "nothing # hide\n",
    "\n",
    "model = LithiumIonBattery()\n",
    "\n",
    "sim = Simulation(model, cell_parameters, cycling_protocol);\n",
    "\n",
    "output = solve(sim);\n",
    "nothing # hide"
   ],
   "metadata": {},
   "execution_count": null
  },
  {
   "cell_type": "markdown",
   "source": [
    "Now we'll have a look into what the output entail. The ouput is of type SimulationOutput and contains multiple output quantity dicts, the full input dict and some other structures. Lets print the\n",
    "properties of the SimulationOutput."
   ],
   "metadata": {}
  },
  {
   "outputs": [],
   "cell_type": "code",
   "source": [
    "propertynames(output)"
   ],
   "metadata": {},
   "execution_count": null
  },
  {
   "cell_type": "markdown",
   "source": [
    "In terms of simulation results, we can see that the output structure includes time series data, states data and metrics data. Furthermore, it includes the full input dict, some output structure from Jutul, the model instance, and the simulation instance.\n",
    "Let's for now have a look into the simulation results and see how we can access certain output quantities."
   ],
   "metadata": {}
  },
  {
   "cell_type": "markdown",
   "source": [
    "In BattMo, we make a distinction between three types of results:\n",
    "- time series: includes all quantities that only depend on time. For example, time itself, cell voltage, current, capacity, etc.\n",
    "- states: includes all the state quantities like for example, concentration, potential, charge, etc. These quantities can depend on time, position, and radius.\n",
    "- metrics: includes all the from output quantities calculated cell metrics like discharge capacity, charge energy, round trip efficiency, etc. These metrics depend on the cycle number."
   ],
   "metadata": {}
  },
  {
   "cell_type": "markdown",
   "source": [
    "The have an overview of all the quantities that are available you can run:"
   ],
   "metadata": {}
  },
  {
   "outputs": [],
   "cell_type": "code",
   "source": [
    "print_output_overview(output)"
   ],
   "metadata": {},
   "execution_count": null
  },
  {
   "cell_type": "markdown",
   "source": [
    "To get more information on particular output variables, for example all that have concentration in their name:"
   ],
   "metadata": {}
  },
  {
   "outputs": [],
   "cell_type": "code",
   "source": [
    "print_output_variable_info(\"concentration\")"
   ],
   "metadata": {},
   "execution_count": null
  },
  {
   "cell_type": "markdown",
   "source": [
    "As the time series, states, and metrics structures are dicts we can retrieve quantities by accessing their key. Let's for example create a simple voltage vs capacity plot."
   ],
   "metadata": {}
  },
  {
   "outputs": [],
   "cell_type": "code",
   "source": [
    "voltage = output.time_series[\"Voltage\"]\n",
    "capacity = output.time_series[\"Capacity\"]\n",
    "\n",
    "fig = Figure()\n",
    "ax = Axis(fig[1, 1], ylabel = \"Voltage / V\", xlabel = \"Capacity / Ah\", title = \"Discharge curve\")\n",
    "lines!(ax, capacity, voltage)\n",
    "display(fig)"
   ],
   "metadata": {},
   "execution_count": null
  },
  {
   "cell_type": "markdown",
   "source": [
    "Or lets plot the lithium concentration versus the active material particle radius of the positive electrode close to the separator at the and of the discharge:"
   ],
   "metadata": {}
  },
  {
   "outputs": [],
   "cell_type": "code",
   "source": [
    "radius = output.states[\"PositiveElectrodeActiveMaterialRadius\"]\n",
    "positive_electrode_concentration = output.states[\"PositiveElectrodeActiveMaterialParticleConcentration\"]\n",
    "\n",
    "simulation_settings = output.input[\"SimulationSettings\"] # Retrieve the default simulation settings to get the grid point number that we need.\n",
    "\n",
    "grid_point = simulation_settings[\"NegativeElectrodeCoatingGridPoints\"] + simulation_settings[\"SeparatorGridPoints\"] + 1 # First grid point of the positive electrode\n",
    "\n",
    "concentration_at_grid_point = positive_electrode_concentration[end, grid_point, :]\n",
    "\n",
    "fig = Figure()\n",
    "ax = Axis(fig[1, 1], ylabel = \"Lithium concentration / mol·L⁻¹\", xlabel = \"Particle radius / m\", title = \"Positive electrode concentration\")\n",
    "lines!(ax, radius, concentration_at_grid_point)\n",
    "display(fig)"
   ],
   "metadata": {},
   "execution_count": null
  },
  {
   "cell_type": "markdown",
   "source": [
    "---\n",
    "\n",
    "*This notebook was generated using [Literate.jl](https://github.com/fredrikekre/Literate.jl).*"
   ],
   "metadata": {}
  }
 ],
 "nbformat_minor": 3,
 "metadata": {
  "language_info": {
   "file_extension": ".jl",
   "mimetype": "application/julia",
   "name": "julia",
   "version": "1.11.3"
  },
  "kernelspec": {
   "name": "julia-1.11",
   "display_name": "Julia 1.11.3",
   "language": "julia"
  }
 },
 "nbformat": 4
}
