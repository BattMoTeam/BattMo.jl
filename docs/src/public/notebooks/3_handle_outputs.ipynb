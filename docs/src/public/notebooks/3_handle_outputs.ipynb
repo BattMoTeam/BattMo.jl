{
    "cells": [
        {
            "cell_type": "markdown",
            "metadata": {},
            "source": [
                "# Handling simulation outputs"
            ]
        },
        {
            "cell_type": "markdown",
            "metadata": {},
            "source": [
                "In this tutorial we will explore the outputs of a simulation for interesting tasks:\n",
                "- Plot voltage and current curves\n",
                "- Plot overpotentials\n",
                "- Plot cell states in space and time\n",
                "- Save outputs\n",
                "- Load outputs."
            ]
        },
        {
            "cell_type": "markdown",
            "metadata": {},
            "source": [
                "Lets start with loading some pre-defined cell parameters, cycling protocols, and running a simulation."
            ]
        },
        {
            "cell_type": "code",
            "execution_count": null,
            "metadata": {},
            "outputs": [],
            "source": [
                "using BattMo, GLMakie\n",
                "\n",
                "cell_parameters = load_cell_parameters(; from_default_set = \"Chen2020\")\n",
                "cycling_protocol = load_cycling_protocol(; from_default_set = \"CCDischarge\")\n",
                "nothing # hide\n",
                "\n",
                "model = LithiumIonBattery()\n",
                "\n",
                "sim = Simulation(model, cell_parameters, cycling_protocol);\n",
                "\n",
                "output = solve(sim)\n",
                "nothing # hide"
            ]
        },
        {
            "cell_type": "markdown",
            "metadata": {},
            "source": [
                "Now we'll have a look into what the output entail. The ouput is of type NamedTuple and contains multiple dicts. Lets print the\n",
                "keys of each dict."
            ]
        },
        {
            "cell_type": "code",
            "execution_count": null,
            "metadata": {},
            "outputs": [],
            "source": [
                "keys(output)"
            ]
        },
        {
            "cell_type": "markdown",
            "metadata": {},
            "source": [
                "So we can see the the output contains state data, cell specifications, reports on the simulation, the input parameters of the simulation, and some extra data.\n",
                "The most important dicts, that we'll dive a bit deeper into, are the states and cell specifications. First let's see how the states output is structured."
            ]
        },
        {
            "cell_type": "markdown",
            "metadata": {},
            "source": [
                "### States"
            ]
        },
        {
            "cell_type": "code",
            "execution_count": null,
            "metadata": {},
            "outputs": [],
            "source": [
                "states = output[:states]\n",
                "typeof(states)"
            ]
        },
        {
            "cell_type": "markdown",
            "metadata": {},
            "source": [
                "As we can see, the states output is a Vector that contains dicts."
            ]
        },
        {
            "cell_type": "code",
            "execution_count": null,
            "metadata": {},
            "outputs": [],
            "source": [
                "keys(states)"
            ]
        },
        {
            "cell_type": "markdown",
            "metadata": {},
            "source": [
                "In this case it consists of 77 dicts. Each dict represents\n",
                "a time step in the simulation and each time step stores quantities divided into battery component related group. This structure agrees with the overal model structure of BattMo."
            ]
        },
        {
            "cell_type": "code",
            "execution_count": null,
            "metadata": {},
            "outputs": [],
            "source": [
                "initial_state = states[1]\n",
                "keys(initial_state)"
            ]
        },
        {
            "cell_type": "markdown",
            "metadata": {},
            "source": [
                "So each time step contains quantities related to the electrolyte, the negative electrode active material, the cycling control, and the positive electrode active material.\n",
                "Lets print the stored quantities for each group."
            ]
        },
        {
            "cell_type": "markdown",
            "metadata": {},
            "source": [
                "Electrolyte keys:"
            ]
        },
        {
            "cell_type": "code",
            "execution_count": null,
            "metadata": {},
            "outputs": [],
            "source": [
                "keys(initial_state[:Elyte])"
            ]
        },
        {
            "cell_type": "markdown",
            "metadata": {},
            "source": [
                "Negative electrode active material keys:"
            ]
        },
        {
            "cell_type": "code",
            "execution_count": null,
            "metadata": {},
            "outputs": [],
            "source": [
                "keys(initial_state[:NeAm])"
            ]
        },
        {
            "cell_type": "markdown",
            "metadata": {},
            "source": [
                "Positive electrode active material keys:"
            ]
        },
        {
            "cell_type": "code",
            "execution_count": null,
            "metadata": {},
            "outputs": [],
            "source": [
                "keys(initial_state[:PeAm])"
            ]
        },
        {
            "cell_type": "markdown",
            "metadata": {},
            "source": [
                "Control keys:"
            ]
        },
        {
            "cell_type": "code",
            "execution_count": null,
            "metadata": {},
            "outputs": [],
            "source": [
                "keys(initial_state[:Control])"
            ]
        },
        {
            "cell_type": "markdown",
            "metadata": {},
            "source": [
                "### Cell specifications\n",
                "Now lets see what quantities are stored within the cellSpecifications dict in the simulation output."
            ]
        },
        {
            "cell_type": "code",
            "execution_count": null,
            "metadata": {},
            "outputs": [],
            "source": [
                "cell_specifications = output[:cellSpecifications];\n",
                "keys(cell_specifications)"
            ]
        },
        {
            "cell_type": "markdown",
            "metadata": {},
            "source": [
                "Let's say we want to plot the cell current and cell voltage over time. First we'll retrieve these three quantities from the output."
            ]
        },
        {
            "cell_type": "code",
            "execution_count": null,
            "metadata": {},
            "outputs": [],
            "source": [
                "states = output[:states]\n",
                "\n",
                "t = [state[:Control][:Controller].time for state in states]\n",
                "E = [state[:Control][:Voltage][1] for state in states]\n",
                "I = [state[:Control][:Current][1] for state in states]\n",
                "nothing # hide"
            ]
        },
        {
            "cell_type": "markdown",
            "metadata": {},
            "source": [
                "Now we can use GLMakie to create a plot. Lets first plot the cell voltage."
            ]
        },
        {
            "cell_type": "code",
            "execution_count": null,
            "metadata": {},
            "outputs": [],
            "source": [
                "f = Figure(size = (1000, 400))\n",
                "\n",
                "ax = Axis(f[1, 1],\n",
                "\ttitle = \"Voltage\",\n",
                "\txlabel = \"Time / s\",\n",
                "\tylabel = \"Voltage / V\",\n",
                "\txlabelsize = 25,\n",
                "\tylabelsize = 25,\n",
                "\txticklabelsize = 25,\n",
                "\tyticklabelsize = 25,\n",
                ")\n",
                "\n",
                "\n",
                "scatterlines!(ax,\n",
                "\tt,\n",
                "\tE;\n",
                "\tlinewidth = 4,\n",
                "\tmarkersize = 10,\n",
                "\tmarker = :cross,\n",
                "\tmarkercolor = :black,\n",
                ")\n",
                "\n",
                "f # hide"
            ]
        },
        {
            "cell_type": "markdown",
            "metadata": {},
            "source": [
                "And the cell current."
            ]
        },
        {
            "cell_type": "code",
            "execution_count": null,
            "metadata": {},
            "outputs": [],
            "source": [
                "ax = Axis(f[1, 2],\n",
                "\ttitle = \"Current\",\n",
                "\txlabel = \"Time / s\",\n",
                "\tylabel = \"Current / V\",\n",
                "\txlabelsize = 25,\n",
                "\tylabelsize = 25,\n",
                "\txticklabelsize = 25,\n",
                "\tyticklabelsize = 25,\n",
                ")\n",
                "\n",
                "\n",
                "scatterlines!(ax,\n",
                "\tt,\n",
                "\tI;\n",
                "\tlinewidth = 4,\n",
                "\tmarkersize = 10,\n",
                "\tmarker = :cross,\n",
                "\tmarkercolor = :black,\n",
                ")\n",
                "\n",
                "\n",
                "f # hide"
            ]
        },
        {
            "cell_type": "markdown",
            "metadata": {},
            "source": [
                "## Retrieving other quantities"
            ]
        },
        {
            "cell_type": "markdown",
            "metadata": {},
            "source": [
                "Concentration"
            ]
        },
        {
            "cell_type": "code",
            "execution_count": null,
            "metadata": {},
            "outputs": [],
            "source": [
                "negative_electrode_surface_concentration = Array([[state[:NeAm][:SurfaceConcentration] for state in states]]);\n",
                "positive_electrode_surface_concentration = Array([[state[:PeAm][:SurfaceConcentration] for state in states]]);\n",
                "negative_electrode_particle_concentration = Array([[state[:NeAm][:ParticleConcentration] for state in states]]);\n",
                "positive_electrode_particle_concentration = Array([[state[:PeAm][:ParticleConcentration] for state in states]]);\n",
                "electrolyte_concentration = [state[:Elyte][:Concentration] for state in states];"
            ]
        },
        {
            "cell_type": "markdown",
            "metadata": {},
            "source": [
                "Potential"
            ]
        },
        {
            "cell_type": "code",
            "execution_count": null,
            "metadata": {},
            "outputs": [],
            "source": [
                "negative_electrode_potential = [state[:NeAm][:Voltage] for state in states];\n",
                "electrolyte_potential = [state[:Elyte][:Voltage] for state in states];\n",
                "positive_electrode_potential = [state[:PeAm][:Voltage] for state in states];"
            ]
        },
        {
            "cell_type": "markdown",
            "metadata": {},
            "source": [
                "Grid wrapper:\n",
                "We need Jutul to get the grid wrapper."
            ]
        },
        {
            "cell_type": "code",
            "execution_count": null,
            "metadata": {},
            "outputs": [],
            "source": [
                "using Jutul\n",
                "\n",
                "extra = output[:extra]\n",
                "model = extra[:model].multimodel\n",
                "negative_electrode_grid_wrap = physical_representation(model[:NeAm]);\n",
                "electrolyte_grid_wrap = physical_representation(model[:Elyte]);\n",
                "positive_electrode_grid_wrap = physical_representation(model[:PeAm]);"
            ]
        },
        {
            "cell_type": "markdown",
            "metadata": {},
            "source": [
                "Mesh cell centroids coordinates"
            ]
        },
        {
            "cell_type": "code",
            "execution_count": null,
            "metadata": {},
            "outputs": [],
            "source": [
                "centroids_NeAm = negative_electrode_grid_wrap[:cell_centroids, Cells()];\n",
                "centroids_Elyte = electrolyte_grid_wrap[:cell_centroids, Cells()];\n",
                "print(centroids_Elyte)\n",
                "centroids_PeAm = positive_electrode_grid_wrap[:cell_centroids, Cells()];"
            ]
        },
        {
            "cell_type": "markdown",
            "metadata": {},
            "source": [
                "Boundary faces coordinates"
            ]
        },
        {
            "cell_type": "code",
            "execution_count": null,
            "metadata": {},
            "outputs": [],
            "source": [
                "boundaries_NeAm = negative_electrode_grid_wrap[:boundary_centroids, BoundaryFaces()];\n",
                "boundaries_Elyte = electrolyte_grid_wrap[:boundary_centroids, BoundaryFaces()];\n",
                "boundaries_PeAm = positive_electrode_grid_wrap[:boundary_centroids, BoundaryFaces()];"
            ]
        },
        {
            "cell_type": "markdown",
            "metadata": {},
            "source": [
                "UPDATE WITH NEW OUTPUT API"
            ]
        },
        {
            "cell_type": "markdown",
            "metadata": {},
            "source": [
                "### The simulation output"
            ]
        },
        {
            "cell_type": "markdown",
            "metadata": {},
            "source": [
                "### Access overpotentials"
            ]
        },
        {
            "cell_type": "markdown",
            "metadata": {},
            "source": [
                "### Plot cell states"
            ]
        },
        {
            "cell_type": "markdown",
            "metadata": {},
            "source": [
                "### Save and load outputs"
            ]
        },
        {
            "cell_type": "markdown",
            "metadata": {},
            "source": [
                "---\n",
                "\n",
                "*This notebook was generated using [Literate.jl](https://github.com/fredrikekre/Literate.jl).*"
            ]
        }
    ],
    "metadata": {
        "kernelspec": {
            "display_name": "Julia 1.11.3",
            "language": "julia",
            "name": "julia-1.11"
        },
        "language_info": {
            "file_extension": ".jl",
            "mimetype": "application/julia",
            "name": "julia",
            "version": "1.11.3"
        }
    },
    "nbformat": 4,
    "nbformat_minor": 3
}
