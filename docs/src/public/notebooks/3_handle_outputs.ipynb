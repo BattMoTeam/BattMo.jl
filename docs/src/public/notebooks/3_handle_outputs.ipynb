{
 "cells": [
  {
   "cell_type": "markdown",
   "source": [
    "# Handling simulation outputs"
   ],
   "metadata": {}
  },
  {
   "cell_type": "markdown",
   "source": [
    "In this tutorial we will explore the outputs of a simulation for interesting tasks:\n",
    "- Plot voltage and current curves\n",
    "- Plot overpotentials\n",
    "- Plot cell states in space and time\n",
    "- Save outputs\n",
    "- Load outputs."
   ],
   "metadata": {}
  },
  {
   "cell_type": "markdown",
   "source": [
    "Lets start with loading some pre-defined cell parameters, cycling protocols, and running a simulation."
   ],
   "metadata": {}
  },
  {
   "outputs": [],
   "cell_type": "code",
   "source": [
    "using BattMo, GLMakie\n",
    "\n",
    "cell_parameters = load_cell_parameters(; from_default_set = \"Chen2020\")\n",
    "cycling_protocol = load_cycling_protocol(; from_default_set = \"CCDischarge\")\n",
    "nothing # hide\n",
    "\n",
    "model = LithiumIonBattery()\n",
    "\n",
    "sim = Simulation(model, cell_parameters, cycling_protocol);\n",
    "\n",
    "output = solve(sim)\n",
    "nothing # hide"
   ],
   "metadata": {},
   "execution_count": null
  },
  {
   "cell_type": "markdown",
   "source": [
    "Now we'll have a look into what the output entail. The ouput is of type NamedTuple and contains multiple dicts. Lets print the\n",
    "keys of each dict."
   ],
   "metadata": {}
  },
  {
   "outputs": [],
   "cell_type": "code",
   "source": [
    "keys(output)"
   ],
   "metadata": {},
   "execution_count": null
  },
  {
   "cell_type": "markdown",
   "source": [
    "So we can see the the output contains state data, cell specifications, reports on the simulation, the input parameters of the simulation, and some extra data.\n",
    "The most important dicts, that we'll dive a bit deeper into, are the states and cell specifications. First let's see how the states output is structured."
   ],
   "metadata": {}
  },
  {
   "cell_type": "markdown",
   "source": [
    "### States"
   ],
   "metadata": {}
  },
  {
   "outputs": [],
   "cell_type": "code",
   "source": [
    "states = output[:states]\n",
    "typeof(states)"
   ],
   "metadata": {},
   "execution_count": null
  },
  {
   "cell_type": "markdown",
   "source": [
    "As we can see, the states output is a Vector that contains dicts."
   ],
   "metadata": {}
  },
  {
   "outputs": [],
   "cell_type": "code",
   "source": [
    "keys(states)"
   ],
   "metadata": {},
   "execution_count": null
  },
  {
   "cell_type": "markdown",
   "source": [
    "In this case it consists of 77 dicts. Each dict represents\n",
    "a time step in the simulation and each time step stores quantities divided into battery component related group. This structure agrees with the overal model structure of BattMo."
   ],
   "metadata": {}
  },
  {
   "outputs": [],
   "cell_type": "code",
   "source": [
    "initial_state = states[1]\n",
    "keys(initial_state)"
   ],
   "metadata": {},
   "execution_count": null
  },
  {
   "cell_type": "markdown",
   "source": [
    "So each time step contains quantities related to the electrolyte, the negative electrode active material, the cycling control, and the positive electrode active material.\n",
    "Lets print the stored quantities for each group."
   ],
   "metadata": {}
  },
  {
   "cell_type": "markdown",
   "source": [
    "Electrolyte keys:"
   ],
   "metadata": {}
  },
  {
   "outputs": [],
   "cell_type": "code",
   "source": [
    "keys(initial_state[:Electrolyte])"
   ],
   "metadata": {},
   "execution_count": null
  },
  {
   "cell_type": "markdown",
   "source": [
    "Negative electrode active material keys:"
   ],
   "metadata": {}
  },
  {
   "outputs": [],
   "cell_type": "code",
   "source": [
    "keys(initial_state[:NegativeElectrodeActiveMaterial])"
   ],
   "metadata": {},
   "execution_count": null
  },
  {
   "cell_type": "markdown",
   "source": [
    "Positive electrode active material keys:"
   ],
   "metadata": {}
  },
  {
   "outputs": [],
   "cell_type": "code",
   "source": [
    "keys(initial_state[:PositiveElectrodeActiveMaterial])"
   ],
   "metadata": {},
   "execution_count": null
  },
  {
   "cell_type": "markdown",
   "source": [
    "Control keys:"
   ],
   "metadata": {}
  },
  {
   "outputs": [],
   "cell_type": "code",
   "source": [
    "keys(initial_state[:Control])"
   ],
   "metadata": {},
   "execution_count": null
  },
  {
   "cell_type": "markdown",
   "source": [
    "### Cell specifications\n",
    "Now lets see what quantities are stored within the cellSpecifications dict in the simulation output."
   ],
   "metadata": {}
  },
  {
   "outputs": [],
   "cell_type": "code",
   "source": [
    "cell_specifications = output[:cellSpecifications];\n",
    "keys(cell_specifications)"
   ],
   "metadata": {},
   "execution_count": null
  },
  {
   "cell_type": "markdown",
   "source": [
    "Let's say we want to plot the cell current and cell voltage over time. First we'll retrieve these three quantities from the output."
   ],
   "metadata": {}
  },
  {
   "outputs": [],
   "cell_type": "code",
   "source": [
    "states = output[:states]\n",
    "\n",
    "t = [state[:Control][:Controller].time for state in states]\n",
    "E = [state[:Control][:Voltage][1] for state in states]\n",
    "I = [state[:Control][:Current][1] for state in states]\n",
    "nothing # hide"
   ],
   "metadata": {},
   "execution_count": null
  },
  {
   "cell_type": "markdown",
   "source": [
    "Now we can use GLMakie to create a plot. Lets first plot the cell voltage."
   ],
   "metadata": {}
  },
  {
   "outputs": [],
   "cell_type": "code",
   "source": [
    "f = Figure(size = (1000, 400))\n",
    "\n",
    "ax = Axis(f[1, 1],\n",
    "\ttitle = \"Voltage\",\n",
    "\txlabel = \"Time / s\",\n",
    "\tylabel = \"Voltage / V\",\n",
    "\txlabelsize = 25,\n",
    "\tylabelsize = 25,\n",
    "\txticklabelsize = 25,\n",
    "\tyticklabelsize = 25,\n",
    ")\n",
    "\n",
    "\n",
    "scatterlines!(ax,\n",
    "\tt,\n",
    "\tE;\n",
    "\tlinewidth = 4,\n",
    "\tmarkersize = 10,\n",
    "\tmarker = :cross,\n",
    "\tmarkercolor = :black,\n",
    ")\n",
    "\n",
    "f # hide"
   ],
   "metadata": {},
   "execution_count": null
  },
  {
   "cell_type": "markdown",
   "source": [
    "And the cell current."
   ],
   "metadata": {}
  },
  {
   "outputs": [],
   "cell_type": "code",
   "source": [
    "ax = Axis(f[1, 2],\n",
    "\ttitle = \"Current\",\n",
    "\txlabel = \"Time / s\",\n",
    "\tylabel = \"Current / V\",\n",
    "\txlabelsize = 25,\n",
    "\tylabelsize = 25,\n",
    "\txticklabelsize = 25,\n",
    "\tyticklabelsize = 25,\n",
    ")\n",
    "\n",
    "\n",
    "scatterlines!(ax,\n",
    "\tt,\n",
    "\tI;\n",
    "\tlinewidth = 4,\n",
    "\tmarkersize = 10,\n",
    "\tmarker = :cross,\n",
    "\tmarkercolor = :black,\n",
    ")\n",
    "\n",
    "\n",
    "f # hide"
   ],
   "metadata": {},
   "execution_count": null
  },
  {
   "cell_type": "markdown",
   "source": [
    "## Retrieving other quantities"
   ],
   "metadata": {}
  },
  {
   "cell_type": "markdown",
   "source": [
    "Concentration"
   ],
   "metadata": {}
  },
  {
   "outputs": [],
   "cell_type": "code",
   "source": [
    "negative_electrode_surface_concentration = Array([[state[:NegativeElectrodeActiveMaterial][:SurfaceConcentration] for state in states]]);\n",
    "positive_electrode_surface_concentration = Array([[state[:PositiveElectrodeActiveMaterial][:SurfaceConcentration] for state in states]]);\n",
    "negative_electrode_particle_concentration = Array([[state[:NegativeElectrodeActiveMaterial][:ParticleConcentration] for state in states]]);\n",
    "positive_electrode_particle_concentration = Array([[state[:PositiveElectrodeActiveMaterial][:ParticleConcentration] for state in states]]);\n",
    "electrolyte_concentration = [state[:Electrolyte][:Concentration] for state in states];"
   ],
   "metadata": {},
   "execution_count": null
  },
  {
   "cell_type": "markdown",
   "source": [
    "Potential"
   ],
   "metadata": {}
  },
  {
   "outputs": [],
   "cell_type": "code",
   "source": [
    "negative_electrode_potential = [state[:NegativeElectrodeActiveMaterial][:Voltage] for state in states];\n",
    "electrolyte_potential = [state[:Electrolyte][:Voltage] for state in states];\n",
    "positive_electrode_potential = [state[:PositiveElectrodeActiveMaterial][:Voltage] for state in states];"
   ],
   "metadata": {},
   "execution_count": null
  },
  {
   "cell_type": "markdown",
   "source": [
    "Grid wrapper:\n",
    "We need Jutul to get the grid wrapper."
   ],
   "metadata": {}
  },
  {
   "outputs": [],
   "cell_type": "code",
   "source": [
    "using Jutul\n",
    "\n",
    "extra = output[:extra]\n",
    "model = extra[:model].multimodel\n",
    "negative_electrode_grid_wrap = physical_representation(model[:NegativeElectrodeActiveMaterial]);\n",
    "electrolyte_grid_wrap = physical_representation(model[:Electrolyte]);\n",
    "positive_electrode_grid_wrap = physical_representation(model[:PositiveElectrodeActiveMaterial]);"
   ],
   "metadata": {},
   "execution_count": null
  },
  {
   "cell_type": "markdown",
   "source": [
    "Mesh cell centroids coordinates"
   ],
   "metadata": {}
  },
  {
   "outputs": [],
   "cell_type": "code",
   "source": [
    "centroids_NeAm = negative_electrode_grid_wrap[:cell_centroids, Cells()];\n",
    "centroids_Elyte = electrolyte_grid_wrap[:cell_centroids, Cells()];\n",
    "print(centroids_Elyte)\n",
    "centroids_PeAm = positive_electrode_grid_wrap[:cell_centroids, Cells()];"
   ],
   "metadata": {},
   "execution_count": null
  },
  {
   "cell_type": "markdown",
   "source": [
    "Boundary faces coordinates"
   ],
   "metadata": {}
  },
  {
   "outputs": [],
   "cell_type": "code",
   "source": [
    "boundaries_NeAm = negative_electrode_grid_wrap[:boundary_centroids, BoundaryFaces()];\n",
    "boundaries_Elyte = electrolyte_grid_wrap[:boundary_centroids, BoundaryFaces()];\n",
    "boundaries_PeAm = positive_electrode_grid_wrap[:boundary_centroids, BoundaryFaces()];"
   ],
   "metadata": {},
   "execution_count": null
  },
  {
   "cell_type": "markdown",
   "source": [
    "UPDATE WITH NEW OUTPUT API"
   ],
   "metadata": {}
  },
  {
   "cell_type": "markdown",
   "source": [
    "### The simulation output"
   ],
   "metadata": {}
  },
  {
   "cell_type": "markdown",
   "source": [
    "### Access overpotentials"
   ],
   "metadata": {}
  },
  {
   "cell_type": "markdown",
   "source": [
    "### Plot cell states"
   ],
   "metadata": {}
  },
  {
   "cell_type": "markdown",
   "source": [
    "### Save and load outputs"
   ],
   "metadata": {}
  },
  {
   "cell_type": "markdown",
   "source": [
    "---\n",
    "\n",
    "*This notebook was generated using [Literate.jl](https://github.com/fredrikekre/Literate.jl).*"
   ],
   "metadata": {}
  }
 ],
 "nbformat_minor": 3,
 "metadata": {
  "language_info": {
   "file_extension": ".jl",
   "mimetype": "application/julia",
   "name": "julia",
   "version": "1.11.3"
  },
  "kernelspec": {
   "name": "julia-1.11",
   "display_name": "Julia 1.11.3",
   "language": "julia"
  }
 },
 "nbformat": 4
}
